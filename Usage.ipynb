{
 "cells": [
  {
   "cell_type": "markdown",
   "metadata": {},
   "source": [
    "# How to Use py-dss-interface Python package"
   ]
  },
  {
   "cell_type": "markdown",
   "metadata": {},
   "source": [
    "## py-dss-interface Python package"
   ]
  },
  {
   "cell_type": "markdown",
   "metadata": {},
   "source": [
    "py-dss-interface is a Windows Python package providing access to OpenDSS direct dll."
   ]
  },
  {
   "cell_type": "markdown",
   "metadata": {},
   "source": [
    "## Simple Usage"
   ]
  },
  {
   "cell_type": "markdown",
   "metadata": {},
   "source": [
    "First import the Package"
   ]
  },
  {
   "cell_type": "code",
   "execution_count": 1,
   "metadata": {},
   "outputs": [],
   "source": [
    "import py_dss_interface"
   ]
  },
  {
   "cell_type": "markdown",
   "metadata": {},
   "source": [
    "Creates an OpenDSS object"
   ]
  },
  {
   "cell_type": "code",
   "execution_count": 2,
   "metadata": {},
   "outputs": [
    {
     "name": "stdout",
     "output_type": "stream",
     "text": [
      "OpenDSS Started successfully! \n",
      "OpenDSS Version 8.6.7.1 (64-bit build); License Status: Open \n",
      "\n",
      "\n"
     ]
    }
   ],
   "source": [
    "dss = py_dss_interface.DSSDLL()"
   ]
  },
  {
   "cell_type": "markdown",
   "metadata": {},
   "source": [
    "If you want to use your OpenDSS, you will need to pass the OpenDSS path as argument to the DSSDLL class, as can be seen below:"
   ]
  },
  {
   "cell_type": "code",
   "execution_count": 3,
   "metadata": {},
   "outputs": [],
   "source": [
    "opendss_path = \"C:/Program Files/OpenDSS\""
   ]
  },
  {
   "cell_type": "markdown",
   "metadata": {},
   "source": [
    "Creates a dss object with your OpenDSS"
   ]
  },
  {
   "cell_type": "code",
   "execution_count": 4,
   "metadata": {},
   "outputs": [
    {
     "name": "stdout",
     "output_type": "stream",
     "text": [
      "OpenDSS Started successfully! \n",
      "OpenDSS Version 8.6.7.1 (64-bit build); License Status: Open \n",
      "\n",
      "\n"
     ]
    }
   ],
   "source": [
    "dss = py_dss_interface.DSSDLL(opendss_path)"
   ]
  },
  {
   "cell_type": "markdown",
   "metadata": {},
   "source": [
    "Select the DSS model"
   ]
  },
  {
   "cell_type": "code",
   "execution_count": 5,
   "metadata": {},
   "outputs": [],
   "source": [
    "dss_file = \"C:/MeuTCC/Paulo_Example/DSSFiles/MASTER_RedeTeste13Barras.dss\""
   ]
  },
  {
   "cell_type": "markdown",
   "metadata": {},
   "source": [
    "Compile"
   ]
  },
  {
   "cell_type": "code",
   "execution_count": 6,
   "metadata": {},
   "outputs": [],
   "source": [
    "dss.text(\"compile {}\".format(dss_file))"
   ]
  },
  {
   "cell_type": "markdown",
   "metadata": {},
   "source": [
    "Solve - You can use the text interface as well: dss.text(\"solve\")"
   ]
  },
  {
   "cell_type": "code",
   "execution_count": 7,
   "metadata": {},
   "outputs": [
    {
     "data": {
      "text/plain": [
       "0"
      ]
     },
     "execution_count": 7,
     "metadata": {},
     "output_type": "execute_result"
    }
   ],
   "source": [
    "dss.solution_solve()"
   ]
  },
  {
   "cell_type": "markdown",
   "metadata": {},
   "source": [
    "Show Voltage Report"
   ]
  },
  {
   "cell_type": "code",
   "execution_count": 8,
   "metadata": {},
   "outputs": [],
   "source": [
    "dss.text(\"show voltages\")"
   ]
  },
  {
   "cell_type": "markdown",
   "metadata": {},
   "source": [
    "Get all buses voltages"
   ]
  },
  {
   "cell_type": "code",
   "execution_count": 9,
   "metadata": {},
   "outputs": [],
   "source": [
    "allbusvolts = dss.circuit_allbusvolts()"
   ]
  },
  {
   "cell_type": "code",
   "execution_count": 10,
   "metadata": {},
   "outputs": [
    {
     "name": "stdout",
     "output_type": "stream",
     "text": [
      "(57499.9999610187, 33197.64035425945, -0.00013864574766527993, -66395.2808862234, -57499.99982237292, 33197.640544921145, 2521.7936567074075, -0.12510951454010835, -1245.9862419752644, -2157.929196146543, -1260.779296188911, 2184.0087426376244, 2458.7452442613235, -81.39453671847578, -1287.4206448519533, -2135.9298567530063, -1161.3323910051067, 2147.6615764261824, 2444.326824561451, -110.38241884322855, -1295.030311369754, -2146.289039370251, -1134.8987008510005, 2138.110201335036, 2412.4956463639573, -168.43605625253926, -1312.8440382618196, -2171.697240903866, -1094.0132554038855, 2121.5138394679016, 2412.464401702952, -168.48485198365645, -1312.8943145725611, -2171.6582918015097, -1093.956540127373, 2121.523662164901, 2452.1725646691275, -83.64244800590971, -1286.8199890553635, -2131.4802050651765, -1158.4948963219956, 2142.792422636375, -1160.2750765225585, 2143.428634119814, -1283.29380580493, -2115.248739030455, -1159.7097527534622, 2138.6939344252232, -1283.8968417967158, -2110.5129105938104, 2412.2522066242996, -168.58231335941676, -1312.94370402918, -2171.6858375682955, -1093.8042287021176, 2121.43566041516, 2398.2992799785643, -177.39256687081132, -1321.7044526217403, -2172.50036085359, -1092.234954270006, 2118.295407525877, 2408.1288090222597, -168.8789287612072, -1088.5730673552343, 2119.8261465648075, -1081.6701895532494, 2118.9162706766347, 2396.1883156224408, -165.2950715305662, 276.890815679254, -12.361421112745967, -147.8485332282431, -240.95700721018932, -129.60836606280253, 244.10255271131874, 2401.7765426227256, -0.0012353461198827344, -1200.8892314219984, -2079.9993794713546, -1200.8871219583307, 2080.000209819562)\n"
     ]
    }
   ],
   "source": [
    "print(dss.circuit_allbusvolts())"
   ]
  }
 ],
 "metadata": {
  "kernelspec": {
   "display_name": "Python 3",
   "language": "python",
   "name": "python3"
  },
  "language_info": {
   "codemirror_mode": {
    "name": "ipython",
    "version": 3
   },
   "file_extension": ".py",
   "mimetype": "text/x-python",
   "name": "python",
   "nbconvert_exporter": "python",
   "pygments_lexer": "ipython3",
   "version": "3.7.9"
  }
 },
 "nbformat": 4,
 "nbformat_minor": 4
}
