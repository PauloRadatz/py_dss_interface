{
 "cells": [
  {
   "cell_type": "markdown",
   "metadata": {},
   "source": [
    "# How to Use py-dss-interface Python package"
   ]
  },
  {
   "cell_type": "markdown",
   "metadata": {},
   "source": [
    "## py-dss-interface Python package"
   ]
  },
  {
   "cell_type": "markdown",
   "metadata": {},
   "source": [
    "py-dss-interface is a Windows Python package providing access to OpenDSS direct dll."
   ]
  },
  {
   "cell_type": "markdown",
   "metadata": {},
   "source": [
    "## Simple Usage"
   ]
  },
  {
   "cell_type": "markdown",
   "metadata": {},
   "source": [
    "First import the Package"
   ]
  },
  {
   "cell_type": "code",
   "execution_count": 1,
   "metadata": {},
   "outputs": [],
   "source": [
    "import py_dss_interface"
   ]
  },
  {
   "cell_type": "markdown",
   "metadata": {},
   "source": [
    "Creates an OpenDSS object"
   ]
  },
  {
   "cell_type": "code",
   "execution_count": 2,
   "metadata": {},
   "outputs": [
    {
     "name": "stdout",
     "output_type": "stream",
     "text": [
      "OpenDSS Started successfully! \n",
      "OpenDSS Version 8.6.7.1 (64-bit build); License Status: Open \n",
      "\n",
      "\n"
     ]
    }
   ],
   "source": [
    "dss = py_dss_interface.DSSDLL()"
   ]
  },
  {
   "cell_type": "markdown",
   "metadata": {},
   "source": [
    "If you want to use your OpenDSS, you will need to pass the OpenDSS path as argument to the DSSDLL class, as can be seen below:"
   ]
  },
  {
   "cell_type": "code",
   "execution_count": 3,
   "metadata": {},
   "outputs": [],
   "source": [
    "opendss_path = \"C:/Program Files/OpenDSS\""
   ]
  },
  {
   "cell_type": "markdown",
   "metadata": {},
   "source": [
    "Creates a dss object with your OpenDSS"
   ]
  },
  {
   "cell_type": "code",
   "execution_count": 4,
   "metadata": {},
   "outputs": [
    {
     "name": "stdout",
     "output_type": "stream",
     "text": [
      "OpenDSS Started successfully! \n",
      "OpenDSS Version 8.6.7.1 (64-bit build); License Status: Open \n",
      "\n",
      "\n"
     ]
    }
   ],
   "source": [
    "dss = py_dss_interface.DSSDLL(opendss_path)"
   ]
  },
  {
   "cell_type": "markdown",
   "metadata": {},
   "source": [
    "Select the DSS model"
   ]
  },
  {
   "cell_type": "code",
   "execution_count": 5,
   "metadata": {},
   "outputs": [],
   "source": [
    "dss_file = \"C:/MeuTCC/Paulo_Example/DSSFiles/MASTER_RedeTeste13Barras.dss\""
   ]
  },
  {
   "cell_type": "markdown",
   "metadata": {},
   "source": [
    "Compile"
   ]
  },
  {
   "cell_type": "code",
   "execution_count": 6,
   "metadata": {},
   "outputs": [],
   "source": [
    "dss.text(\"compile {}\".format(dss_file))"
   ]
  },
  {
   "cell_type": "markdown",
   "metadata": {},
   "source": [
    "Solve - You can use the text interface as well: dss.text(\"solve\")"
   ]
  },
  {
   "cell_type": "code",
   "execution_count": 7,
   "metadata": {},
   "outputs": [
    {
     "data": {
      "text/plain": [
       "0"
      ]
     },
     "execution_count": 7,
     "metadata": {},
     "output_type": "execute_result"
    }
   ],
   "source": [
    "dss.solution_solve()"
   ]
  },
  {
   "cell_type": "markdown",
   "metadata": {},
   "source": [
    "Show Voltage Report"
   ]
  },
  {
   "cell_type": "code",
   "execution_count": 8,
   "metadata": {},
   "outputs": [],
   "source": [
    "dss.text(\"show voltages\")"
   ]
  },
  {
   "cell_type": "markdown",
   "metadata": {},
   "source": [
    "Get all buses voltages"
   ]
  },
  {
   "cell_type": "code",
   "execution_count": 9,
   "metadata": {},
   "outputs": [],
   "source": [
    "allbusvolts = dss.circuit_allbusvolts()"
   ]
  },
  {
   "cell_type": "code",
   "execution_count": 10,
   "metadata": {},
   "outputs": [
    {
     "name": "stdout",
     "output_type": "stream",
     "text": [
      "(57499.99984854059, 33197.64043666635, -9.850168857798125e-06, -66395.28082241151, -57499.99983869039, 33197.64039870235, 2521.7380661242582, -0.033332433156079276, -1245.8787300524257, -2157.924347023293, -1260.82801155609, 2183.904446042037, 2447.0051283472344, -21.90789306454855, -1219.3723934741943, -2138.9560914885365, -1206.3038367162885, 2085.3954297178566, 2429.501899704568, -31.198358333109713, -1203.2056471193102, -2152.310316449565, -1195.7215248567497, 2055.0852535673275, 2391.084320783626, -50.062131096842805, -1173.690262916864, -2184.4446438534164, -1188.2054759675134, 1996.7915167349508, 2400.2310288860003, -4.936891840982341, -1132.6674904482488, -2201.9831980231393, -1234.9597193512514, 1973.2329294055412, 2439.72672684693, -24.570582224732526, -1218.7845460017886, -2133.897053719238, -1202.9249506150766, 2080.0210888156566, -1205.0143876822408, 2080.9143155817396, -1215.2647596418246, -2115.8095371195886, -1204.2592626597598, 2075.7516204362637, -1216.061165717514, -2110.6466988639604, 2390.808195032073, -50.22915289202546, -1173.7854073662652, -2184.432600932979, -1187.9686135815562, 1996.6985720515652, 2375.2196161407214, -60.36283167374468, -1182.8077277041098, -2185.8222050310314, -1186.0448159963867, 1992.4002359846927, 2386.353397345648, -50.914573469570655, -1182.200990121016, 1994.7177220557478, -1174.6338021812282, 1993.5752272005625, 2373.0662121128853, -47.62346752050522, 274.7965425038391, -6.024932145551775, -140.047848266581, -240.58126637198527, -134.11350748578673, 236.5815972605969, 2401.7759437795626, -0.0004178201077101414, -1200.8882119836212, -2079.9992432513623, -1200.8874940740557, 2079.9991885692953, 267.7345981151209, 59.996080180480014, -74.74933913449347, -273.6209533797813, -189.79998261133724, 185.5877875805238)\n"
     ]
    }
   ],
   "source": [
    "print(dss.circuit_allbusvolts())"
   ]
  }
 ],
 "metadata": {
  "kernelspec": {
   "display_name": "Python 3",
   "language": "python",
   "name": "python3"
  },
  "language_info": {
   "codemirror_mode": {
    "name": "ipython",
    "version": 3
   },
   "file_extension": ".py",
   "mimetype": "text/x-python",
   "name": "python",
   "nbconvert_exporter": "python",
   "pygments_lexer": "ipython3",
   "version": "3.7.8"
  }
 },
 "nbformat": 4,
 "nbformat_minor": 4
}
