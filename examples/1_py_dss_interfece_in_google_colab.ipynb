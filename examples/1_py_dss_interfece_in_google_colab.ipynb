{
  "nbformat": 4,
  "nbformat_minor": 0,
  "metadata": {
    "colab": {
      "provenance": []
    },
    "kernelspec": {
      "name": "python3",
      "display_name": "Python 3"
    },
    "language_info": {
      "name": "python"
    }
  },
  "cells": [
    {
      "cell_type": "markdown",
      "metadata": {
        "id": "1b88e346"
      },
      "source": [
        "[![Open In Colab](https://colab.research.google.com/assets/colab-badge.svg)](https://colab.research.google.com/github/PauloRadatz/py_dss_interface/blob/master/examples/1_py_dss_interfece_in_google_colab.ipynb)"
      ]
    },
    {
      "cell_type": "markdown",
      "metadata": {
        "id": "ab6e9b15"
      },
      "source": [
        "# Using py-dss-interface in Google Colab\n",
        "\n",
        "Using `py-dss-interface` with Google Colab has the potential to improve educational usage of OpenDSS by providing an improved experience for teachers and students.\n",
        "\n",
        "I would like to thank Bernard Carvalho Bernardes from Universidade Federal do Pará (https://www.linkedin.com/in/bernard-carvalho-bernardes-42633662/overlay/about-this-profile/) for sharing this approach with us."
      ]
    },
    {
      "cell_type": "markdown",
      "source": [
        "You can install py-dss-interface using pip. Starting with version 2.2.0, it includes a pre-built OpenDSS Linux version compatible with Google Colab's Linux OS. If you encounter any issues, please contact me at paulo.radatz@gmail.com so I can update the Linux version for the new OS."
      ],
      "metadata": {
        "id": "9XoSfbyqkEya"
      }
    },
    {
      "cell_type": "code",
      "execution_count": 1,
      "metadata": {
        "colab": {
          "base_uri": "https://localhost:8080/"
        },
        "collapsed": true,
        "id": "SvbaRA4b-7qz",
        "outputId": "1a4180cf-d7a3-4375-a5b5-982a5087e816"
      },
      "outputs": [
        {
          "output_type": "stream",
          "name": "stdout",
          "text": [
            "Collecting py-dss-interface\n",
            "  Downloading py_dss_interface-2.2.0-py3-none-any.whl.metadata (8.2 kB)\n",
            "Downloading py_dss_interface-2.2.0-py3-none-any.whl (15.0 MB)\n",
            "\u001b[2K   \u001b[90m━━━━━━━━━━━━━━━━━━━━━━━━━━━━━━━━━━━━━━━━\u001b[0m \u001b[32m15.0/15.0 MB\u001b[0m \u001b[31m71.5 MB/s\u001b[0m eta \u001b[36m0:00:00\u001b[0m\n",
            "\u001b[?25hInstalling collected packages: py-dss-interface\n",
            "Successfully installed py-dss-interface-2.2.0\n"
          ]
        }
      ],
      "source": [
        "!pip install py-dss-interface"
      ]
    },
    {
      "cell_type": "markdown",
      "source": [
        "Let's clone the py-dss-interface repository to access the feeder models I've included. You'll find several feeders in py_dss_interface/examples/feeders/. If you need to use different feeders, you'll need to make them available in your Google Colab session—either by uploading them directly or by mounting your Google Drive."
      ],
      "metadata": {
        "id": "lZM05IDdkbC1"
      }
    },
    {
      "cell_type": "code",
      "source": [
        "# Clone the py_dss_interface repository from GitHub.\n",
        "!git clone https://github.com/PauloRadatz/py_dss_interface.git"
      ],
      "metadata": {
        "id": "Ed2oc8xEiUTi",
        "outputId": "60a75f4d-d1df-43f2-d6a6-8dd55bfac372",
        "colab": {
          "base_uri": "https://localhost:8080/"
        }
      },
      "execution_count": 2,
      "outputs": [
        {
          "output_type": "stream",
          "name": "stdout",
          "text": [
            "Cloning into 'py_dss_interface'...\n",
            "remote: Enumerating objects: 11268, done.\u001b[K\n",
            "remote: Counting objects: 100% (367/367), done.\u001b[K\n",
            "remote: Compressing objects: 100% (158/158), done.\u001b[K\n",
            "remote: Total 11268 (delta 257), reused 280 (delta 199), pack-reused 10901 (from 3)\u001b[K\n",
            "Receiving objects: 100% (11268/11268), 630.08 MiB | 21.54 MiB/s, done.\n",
            "Resolving deltas: 100% (6602/6602), done.\n"
          ]
        }
      ]
    },
    {
      "cell_type": "code",
      "source": [
        "# Import the os module to restart the runtime.\n",
        "import os\n",
        "# Restart the Colab runtime to load the newly installed library.\n",
        "os.kill(os.getpid(), 9)"
      ],
      "metadata": {
        "id": "uZbLo5PZ0t1T"
      },
      "execution_count": null,
      "outputs": []
    },
    {
      "cell_type": "markdown",
      "metadata": {
        "id": "1149d9db"
      },
      "source": [
        "Importing `py_dss_interface` and showing the installed version."
      ]
    },
    {
      "cell_type": "code",
      "source": [
        "import py_dss_interface\n",
        "py_dss_interface.__version__"
      ],
      "metadata": {
        "id": "MFIdyT2MB7Kt",
        "colab": {
          "base_uri": "https://localhost:8080/",
          "height": 35
        },
        "outputId": "524b3354-5211-413a-bad2-ccde24d3c052"
      },
      "execution_count": 1,
      "outputs": [
        {
          "output_type": "execute_result",
          "data": {
            "text/plain": [
              "'2.2.0'"
            ],
            "application/vnd.google.colaboratory.intrinsic+json": {
              "type": "string"
            }
          },
          "metadata": {},
          "execution_count": 1
        }
      ]
    },
    {
      "cell_type": "markdown",
      "metadata": {
        "id": "790ef7e5"
      },
      "source": [
        "In this example, we will use the IEEE 123 bus test feeder."
      ]
    },
    {
      "cell_type": "code",
      "source": [
        "dss_file = \"/content/py_dss_interface/examples/feeders/123Bus/IEEE123Master.dss\"\n",
        "dss_file"
      ],
      "metadata": {
        "colab": {
          "base_uri": "https://localhost:8080/",
          "height": 35
        },
        "id": "7NBjmHO8CPy8",
        "outputId": "0427f547-7f10-417e-bd1f-15d25ef1c416"
      },
      "execution_count": 2,
      "outputs": [
        {
          "output_type": "execute_result",
          "data": {
            "text/plain": [
              "'/content/py_dss_interface/examples/feeders/123Bus/IEEE123Master.dss'"
            ],
            "application/vnd.google.colaboratory.intrinsic+json": {
              "type": "string"
            }
          },
          "metadata": {},
          "execution_count": 2
        }
      ]
    },
    {
      "cell_type": "markdown",
      "metadata": {
        "id": "a31de5b0"
      },
      "source": [
        "Now, we create the DSS object, I am using print_dss_info=True to visualize information of OpenDSS version."
      ]
    },
    {
      "cell_type": "code",
      "source": [
        "dss = py_dss_interface.DSS(print_dss_info=True)"
      ],
      "metadata": {
        "id": "2XT5JKBfjLmQ",
        "outputId": "402ec6d1-1d3d-4a07-a3bf-66bfe1920f97",
        "colab": {
          "base_uri": "https://localhost:8080/"
        }
      },
      "execution_count": 3,
      "outputs": [
        {
          "output_type": "stream",
          "name": "stdout",
          "text": [
            "OpenDSS Started successfully! \n",
            "OpenDSS Version 10.1.0.1 @ C++ (64-bit build); license status: Open; built on Aug 19 2025 21:23:43 (Backend: Linux-C++-GoogleColab)\n",
            "\n",
            "\n"
          ]
        }
      ]
    },
    {
      "cell_type": "markdown",
      "source": [
        "Let's compile the electrical model from the specified DSS file, and perform a power flow solution."
      ],
      "metadata": {
        "id": "PCcHRXWUjON2"
      }
    },
    {
      "cell_type": "code",
      "source": [
        "dss.text(\"clear\")\n",
        "dss.text(f'compile \"{dss_file}\"')"
      ],
      "metadata": {
        "colab": {
          "base_uri": "https://localhost:8080/",
          "height": 35
        },
        "id": "kwQqZv5rE_y7",
        "outputId": "4fc50cfa-0e73-46b9-df68-b63fb644952b"
      },
      "execution_count": 4,
      "outputs": [
        {
          "output_type": "execute_result",
          "data": {
            "text/plain": [
              "''"
            ],
            "application/vnd.google.colaboratory.intrinsic+json": {
              "type": "string"
            }
          },
          "metadata": {},
          "execution_count": 4
        }
      ]
    },
    {
      "cell_type": "code",
      "source": [
        "dss.text(\"solve\")"
      ],
      "metadata": {
        "colab": {
          "base_uri": "https://localhost:8080/",
          "height": 35
        },
        "id": "_ahQFoGK03Ok",
        "outputId": "572d8586-2159-4aae-d156-c22d6d5653ce"
      },
      "execution_count": 5,
      "outputs": [
        {
          "output_type": "execute_result",
          "data": {
            "text/plain": [
              "''"
            ],
            "application/vnd.google.colaboratory.intrinsic+json": {
              "type": "string"
            }
          },
          "metadata": {},
          "execution_count": 5
        }
      ]
    },
    {
      "cell_type": "markdown",
      "metadata": {
        "id": "1987b622"
      },
      "source": [
        "In a Linux environment like Google Colab, there isn't a default program to open the report file generated by the `show voltage ln nodes` command. To prevent OpenDSS from trying to open this file and potentially causing an error, we disable the reporting feature using the `set showreports=false` command."
      ]
    },
    {
      "cell_type": "code",
      "source": [
        "dss.text(\"set showreports=false\")\n",
        "dss.text(\"show voltage ln nodes\")"
      ],
      "metadata": {
        "colab": {
          "base_uri": "https://localhost:8080/",
          "height": 35
        },
        "id": "cy7hQxu0h4Q9",
        "outputId": "715dd39f-ff69-4285-888f-4340bda9e370"
      },
      "execution_count": 6,
      "outputs": [
        {
          "output_type": "execute_result",
          "data": {
            "text/plain": [
              "''"
            ],
            "application/vnd.google.colaboratory.intrinsic+json": {
              "type": "string"
            }
          },
          "metadata": {},
          "execution_count": 6
        }
      ]
    },
    {
      "cell_type": "markdown",
      "metadata": {
        "id": "05cecf69"
      },
      "source": [
        "The results files generated by OpenDSS will be stored in the path shown in the `dss.dssinterface.datapath` output below. You can change this path by assigning a new string to this property, for example: `dss.dssinterface.datapath = \"New Path\"`."
      ]
    },
    {
      "cell_type": "code",
      "source": [
        "dss.dssinterface.datapath"
      ],
      "metadata": {
        "colab": {
          "base_uri": "https://localhost:8080/",
          "height": 35
        },
        "id": "ChFV2PwdkHbS",
        "outputId": "b3661d9f-0e07-481d-c27e-2b2f6eb4fbf3"
      },
      "execution_count": 7,
      "outputs": [
        {
          "output_type": "execute_result",
          "data": {
            "text/plain": [
              "'/content/py_dss_interface/examples/feeders/123Bus/'"
            ],
            "application/vnd.google.colaboratory.intrinsic+json": {
              "type": "string"
            }
          },
          "metadata": {},
          "execution_count": 7
        }
      ]
    },
    {
      "cell_type": "markdown",
      "metadata": {
        "id": "6fbd72ab"
      },
      "source": [
        "Now that the model is compiled, you can use any feature provided by the `py_dss_interface` library to interact with and analyze the electrical model."
      ]
    },
    {
      "cell_type": "code",
      "source": [
        "dss.circuit.total_power"
      ],
      "metadata": {
        "colab": {
          "base_uri": "https://localhost:8080/"
        },
        "id": "SMj9nJo4lctl",
        "outputId": "760fa29d-f908-41f3-cc71-590947d1254d"
      },
      "execution_count": 8,
      "outputs": [
        {
          "output_type": "execute_result",
          "data": {
            "text/plain": [
              "[-3615.2418959998226, -1311.5102805573088]"
            ]
          },
          "metadata": {},
          "execution_count": 8
        }
      ]
    },
    {
      "cell_type": "markdown",
      "metadata": {
        "id": "f19dceee"
      },
      "source": [
        "This example demonstrates how to use the `py_dss_interface` library in Google Colab.\n",
        "\n",
        "Feel free to reach out with any questions at paulo.radatz@gmail.com.\n",
        "\n",
        "If you'd like to learn more about OpenDSS, you can find my courses at: [https://www.pauloradatz.me/opendss-courses](https://www.pauloradatz.me/opendss-courses)"
      ]
    }
  ]
}