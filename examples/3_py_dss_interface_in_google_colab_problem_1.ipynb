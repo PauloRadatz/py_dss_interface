{
  "nbformat": 4,
  "nbformat_minor": 0,
  "metadata": {
    "colab": {
      "provenance": []
    },
    "kernelspec": {
      "name": "python3",
      "display_name": "Python 3"
    },
    "language_info": {
      "name": "python"
    }
  },
  "cells": [
    {
      "cell_type": "markdown",
      "source": [
        "[![Open In Colab](https://colab.research.google.com/assets/colab-badge.svg)](https://colab.research.google.com/github/PauloRadatz/py_dss_interface/blob/master/examples/3_py_dss_interface_in_google_colab_problem_1.ipynb)"
      ],
      "metadata": {
        "id": "6bx4WSvqhtS4"
      }
    },
    {
      "cell_type": "markdown",
      "metadata": {
        "id": "5a517b20"
      },
      "source": [
        "# Using py_dss_interface in Google Colab: Handling Case Sensitivity\n",
        "\n",
        "This example demonstrates how to use the `py_dss_interface` library in Google Colab, specifically addressing a common issue related to case sensitivity when using the OpenDSS Linux version."
      ]
    },
    {
      "cell_type": "code",
      "execution_count": 1,
      "metadata": {
        "colab": {
          "base_uri": "https://localhost:8080/"
        },
        "id": "Hc-hJ0OchPo5",
        "outputId": "e09e8729-8599-4dce-a8ed-c1ddded91462"
      },
      "outputs": [
        {
          "output_type": "stream",
          "name": "stdout",
          "text": [
            "Cloning into 'py_dss_interface'...\n",
            "remote: Enumerating objects: 11224, done.\u001b[K\n",
            "remote: Counting objects: 100% (323/323), done.\u001b[K\n",
            "remote: Compressing objects: 100% (134/134), done.\u001b[K\n",
            "remote: Total 11224 (delta 234), reused 239 (delta 184), pack-reused 10901 (from 3)\u001b[K\n",
            "Receiving objects: 100% (11224/11224), 622.76 MiB | 21.98 MiB/s, done.\n",
            "Resolving deltas: 100% (6579/6579), done.\n"
          ]
        }
      ],
      "source": [
        "# Clone the py_dss_interface repository from GitHub.\n",
        "!git clone https://github.com/PauloRadatz/py_dss_interface.git"
      ]
    },
    {
      "cell_type": "code",
      "source": [
        "# Change the current directory to the cloned repository.\n",
        "%cd py_dss_interface\n",
        "# Install the py_dss_interface library using pip.\n",
        "!pip install ."
      ],
      "metadata": {
        "colab": {
          "base_uri": "https://localhost:8080/"
        },
        "id": "xK2huD_6iYU_",
        "outputId": "a72c6023-8275-4865-8199-d2a4d239a666"
      },
      "execution_count": 2,
      "outputs": [
        {
          "output_type": "stream",
          "name": "stdout",
          "text": [
            "/content/py_dss_interface\n",
            "Processing /content/py_dss_interface\n",
            "  Installing build dependencies ... \u001b[?25l\u001b[?25hdone\n",
            "  Getting requirements to build wheel ... \u001b[?25l\u001b[?25hdone\n",
            "  Preparing metadata (pyproject.toml) ... \u001b[?25l\u001b[?25hdone\n",
            "Building wheels for collected packages: py-dss-interface\n",
            "  Building wheel for py-dss-interface (pyproject.toml) ... \u001b[?25l\u001b[?25hdone\n",
            "  Created wheel for py-dss-interface: filename=py_dss_interface-2.1.2-py3-none-any.whl size=11257033 sha256=c5f9113f22b19ac67e0753d7506f7e6bcec5ebd0b6741478ea7ba28d12ff01e5\n",
            "  Stored in directory: /tmp/pip-ephem-wheel-cache-n20xhjqj/wheels/f3/a8/7c/1bcc955b22ffc216415c5696ce17968ed9206fb2ef59243a3b\n",
            "Successfully built py-dss-interface\n",
            "Installing collected packages: py-dss-interface\n",
            "Successfully installed py-dss-interface-2.1.2\n"
          ]
        }
      ]
    },
    {
      "cell_type": "code",
      "source": [
        "# Import the os module to restart the runtime.\n",
        "import os\n",
        "# Restart the Colab runtime to load the newly installed library.\n",
        "os.kill(os.getpid(), 9)"
      ],
      "metadata": {
        "id": "e-vAEE4Cid13"
      },
      "execution_count": null,
      "outputs": []
    },
    {
      "cell_type": "code",
      "source": [
        "!unzip /content/py_dss_interface/examples/GoogleColab/OpenDSSVersions/opendss_linux_dist_jammy.zip -d /content/py_dss_interface/examples/GoogleColab/OpenDSSVersions/opendss_linux_dist_jammy"
      ],
      "metadata": {
        "colab": {
          "base_uri": "https://localhost:8080/"
        },
        "id": "C3aEkBCDihMo",
        "outputId": "90b08819-5eb6-45b3-f942-793294ec6172"
      },
      "execution_count": 1,
      "outputs": [
        {
          "output_type": "stream",
          "name": "stdout",
          "text": [
            "Archive:  /content/py_dss_interface/examples/GoogleColab/OpenDSSVersions/opendss_linux_dist_jammy.zip\n",
            "   creating: /content/py_dss_interface/examples/GoogleColab/OpenDSSVersions/opendss_linux_dist_jammy/cpp/\n",
            "   creating: /content/py_dss_interface/examples/GoogleColab/OpenDSSVersions/opendss_linux_dist_jammy/cpp/CMakeFiles/\n",
            "   creating: /content/py_dss_interface/examples/GoogleColab/OpenDSSVersions/opendss_linux_dist_jammy/cpp/klusolve/\n",
            "  inflating: /content/py_dss_interface/examples/GoogleColab/OpenDSSVersions/opendss_linux_dist_jammy/cpp/libklusolve_all.so.0  \n",
            "  inflating: /content/py_dss_interface/examples/GoogleColab/OpenDSSVersions/opendss_linux_dist_jammy/cpp/libklusolve_all.so  \n",
            "  inflating: /content/py_dss_interface/examples/GoogleColab/OpenDSSVersions/opendss_linux_dist_jammy/cpp/Makefile  \n",
            "  inflating: /content/py_dss_interface/examples/GoogleColab/OpenDSSVersions/opendss_linux_dist_jammy/cpp/cmake_install.cmake  \n",
            "  inflating: /content/py_dss_interface/examples/GoogleColab/OpenDSSVersions/opendss_linux_dist_jammy/cpp/libklusolve_all.so.0.0.0  \n",
            "  inflating: /content/py_dss_interface/examples/GoogleColab/OpenDSSVersions/opendss_linux_dist_jammy/cpp/libOpenDSSC.so  \n",
            "  inflating: /content/py_dss_interface/examples/GoogleColab/OpenDSSVersions/opendss_linux_dist_jammy/cpp/CMakeCache.txt  \n",
            "   creating: /content/py_dss_interface/examples/GoogleColab/OpenDSSVersions/opendss_linux_dist_jammy/cpp/CMakeFiles/3.31.6/\n",
            "   creating: /content/py_dss_interface/examples/GoogleColab/OpenDSSVersions/opendss_linux_dist_jammy/cpp/CMakeFiles/OpenDSSC_Common.dir/\n",
            "   creating: /content/py_dss_interface/examples/GoogleColab/OpenDSSVersions/opendss_linux_dist_jammy/cpp/CMakeFiles/OpenDSSC_LIB.dir/\n",
            "  inflating: /content/py_dss_interface/examples/GoogleColab/OpenDSSVersions/opendss_linux_dist_jammy/cpp/CMakeFiles/CMakeConfigureLog.yaml  \n",
            "  inflating: /content/py_dss_interface/examples/GoogleColab/OpenDSSVersions/opendss_linux_dist_jammy/cpp/CMakeFiles/Makefile2  \n",
            "  inflating: /content/py_dss_interface/examples/GoogleColab/OpenDSSVersions/opendss_linux_dist_jammy/cpp/CMakeFiles/cmake.check_cache  \n",
            "  inflating: /content/py_dss_interface/examples/GoogleColab/OpenDSSVersions/opendss_linux_dist_jammy/cpp/CMakeFiles/progress.marks  \n",
            "  inflating: /content/py_dss_interface/examples/GoogleColab/OpenDSSVersions/opendss_linux_dist_jammy/cpp/CMakeFiles/Makefile.cmake  \n",
            "  inflating: /content/py_dss_interface/examples/GoogleColab/OpenDSSVersions/opendss_linux_dist_jammy/cpp/CMakeFiles/CMakeDirectoryInformation.cmake  \n",
            "  inflating: /content/py_dss_interface/examples/GoogleColab/OpenDSSVersions/opendss_linux_dist_jammy/cpp/CMakeFiles/TargetDirectories.txt  \n",
            "   creating: /content/py_dss_interface/examples/GoogleColab/OpenDSSVersions/opendss_linux_dist_jammy/cpp/CMakeFiles/OpenDSSC_LIB.dir/DLL/\n",
            "  inflating: /content/py_dss_interface/examples/GoogleColab/OpenDSSVersions/opendss_linux_dist_jammy/cpp/CMakeFiles/OpenDSSC_LIB.dir/compiler_depend.make  \n",
            "  inflating: /content/py_dss_interface/examples/GoogleColab/OpenDSSVersions/opendss_linux_dist_jammy/cpp/CMakeFiles/OpenDSSC_LIB.dir/progress.make  \n",
            "  inflating: /content/py_dss_interface/examples/GoogleColab/OpenDSSVersions/opendss_linux_dist_jammy/cpp/CMakeFiles/OpenDSSC_LIB.dir/depend.make  \n",
            "  inflating: /content/py_dss_interface/examples/GoogleColab/OpenDSSVersions/opendss_linux_dist_jammy/cpp/CMakeFiles/OpenDSSC_LIB.dir/link.txt  \n",
            "  inflating: /content/py_dss_interface/examples/GoogleColab/OpenDSSVersions/opendss_linux_dist_jammy/cpp/CMakeFiles/OpenDSSC_LIB.dir/flags.make  \n",
            "  inflating: /content/py_dss_interface/examples/GoogleColab/OpenDSSVersions/opendss_linux_dist_jammy/cpp/CMakeFiles/OpenDSSC_LIB.dir/DependInfo.cmake  \n",
            "  inflating: /content/py_dss_interface/examples/GoogleColab/OpenDSSVersions/opendss_linux_dist_jammy/cpp/CMakeFiles/OpenDSSC_LIB.dir/build.make  \n",
            "  inflating: /content/py_dss_interface/examples/GoogleColab/OpenDSSVersions/opendss_linux_dist_jammy/cpp/CMakeFiles/OpenDSSC_LIB.dir/cmake_clean.cmake  \n",
            "  inflating: /content/py_dss_interface/examples/GoogleColab/OpenDSSVersions/opendss_linux_dist_jammy/cpp/CMakeFiles/OpenDSSC_LIB.dir/compiler_depend.ts  \n",
            "  inflating: /content/py_dss_interface/examples/GoogleColab/OpenDSSVersions/opendss_linux_dist_jammy/cpp/CMakeFiles/OpenDSSC_LIB.dir/DLL/OpenDSSCDLL.cpp.o.d  \n",
            "  inflating: /content/py_dss_interface/examples/GoogleColab/OpenDSSVersions/opendss_linux_dist_jammy/cpp/CMakeFiles/OpenDSSC_LIB.dir/DLL/OpenDSSCDLL.cpp.o  \n",
            "   creating: /content/py_dss_interface/examples/GoogleColab/OpenDSSVersions/opendss_linux_dist_jammy/cpp/CMakeFiles/3.31.6/CompilerIdC/\n",
            "   creating: /content/py_dss_interface/examples/GoogleColab/OpenDSSVersions/opendss_linux_dist_jammy/cpp/CMakeFiles/3.31.6/CompilerIdCXX/\n",
            "  inflating: /content/py_dss_interface/examples/GoogleColab/OpenDSSVersions/opendss_linux_dist_jammy/cpp/CMakeFiles/3.31.6/CMakeCCompiler.cmake  \n",
            "  inflating: /content/py_dss_interface/examples/GoogleColab/OpenDSSVersions/opendss_linux_dist_jammy/cpp/CMakeFiles/3.31.6/CMakeDetermineCompilerABI_CXX.bin  \n",
            "  inflating: /content/py_dss_interface/examples/GoogleColab/OpenDSSVersions/opendss_linux_dist_jammy/cpp/CMakeFiles/3.31.6/CMakeDetermineCompilerABI_C.bin  \n",
            "  inflating: /content/py_dss_interface/examples/GoogleColab/OpenDSSVersions/opendss_linux_dist_jammy/cpp/CMakeFiles/3.31.6/CMakeCXXCompiler.cmake  \n",
            "  inflating: /content/py_dss_interface/examples/GoogleColab/OpenDSSVersions/opendss_linux_dist_jammy/cpp/CMakeFiles/3.31.6/CMakeSystem.cmake  \n",
            "  inflating: /content/py_dss_interface/examples/GoogleColab/OpenDSSVersions/opendss_linux_dist_jammy/cpp/CMakeFiles/3.31.6/CompilerIdCXX/CMakeCXXCompilerId.cpp  \n",
            "  inflating: /content/py_dss_interface/examples/GoogleColab/OpenDSSVersions/opendss_linux_dist_jammy/cpp/CMakeFiles/3.31.6/CompilerIdCXX/a.out  \n",
            "  inflating: /content/py_dss_interface/examples/GoogleColab/OpenDSSVersions/opendss_linux_dist_jammy/cpp/CMakeFiles/3.31.6/CompilerIdC/a.out  \n",
            "  inflating: /content/py_dss_interface/examples/GoogleColab/OpenDSSVersions/opendss_linux_dist_jammy/cpp/CMakeFiles/3.31.6/CompilerIdC/CMakeCCompilerId.c  \n",
            "   creating: /content/py_dss_interface/examples/GoogleColab/OpenDSSVersions/opendss_linux_dist_jammy/cpp/CMakeFiles/OpenDSSC_Common.dir/Common/\n",
            "   creating: /content/py_dss_interface/examples/GoogleColab/OpenDSSVersions/opendss_linux_dist_jammy/cpp/CMakeFiles/OpenDSSC_Common.dir/Controls/\n",
            "   creating: /content/py_dss_interface/examples/GoogleColab/OpenDSSVersions/opendss_linux_dist_jammy/cpp/CMakeFiles/OpenDSSC_Common.dir/Executive/\n",
            "   creating: /content/py_dss_interface/examples/GoogleColab/OpenDSSVersions/opendss_linux_dist_jammy/cpp/CMakeFiles/OpenDSSC_Common.dir/Forms/\n",
            "   creating: /content/py_dss_interface/examples/GoogleColab/OpenDSSVersions/opendss_linux_dist_jammy/cpp/CMakeFiles/OpenDSSC_Common.dir/GISCommands/\n",
            "   creating: /content/py_dss_interface/examples/GoogleColab/OpenDSSVersions/opendss_linux_dist_jammy/cpp/CMakeFiles/OpenDSSC_Common.dir/General/\n",
            "   creating: /content/py_dss_interface/examples/GoogleColab/OpenDSSVersions/opendss_linux_dist_jammy/cpp/CMakeFiles/OpenDSSC_Common.dir/Meters/\n",
            "   creating: /content/py_dss_interface/examples/GoogleColab/OpenDSSVersions/opendss_linux_dist_jammy/cpp/CMakeFiles/OpenDSSC_Common.dir/MyOpenDSS/\n",
            "   creating: /content/py_dss_interface/examples/GoogleColab/OpenDSSVersions/opendss_linux_dist_jammy/cpp/CMakeFiles/OpenDSSC_Common.dir/PCElements/\n",
            "   creating: /content/py_dss_interface/examples/GoogleColab/OpenDSSVersions/opendss_linux_dist_jammy/cpp/CMakeFiles/OpenDSSC_Common.dir/PDElements/\n",
            "   creating: /content/py_dss_interface/examples/GoogleColab/OpenDSSVersions/opendss_linux_dist_jammy/cpp/CMakeFiles/OpenDSSC_Common.dir/Parser/\n",
            "   creating: /content/py_dss_interface/examples/GoogleColab/OpenDSSVersions/opendss_linux_dist_jammy/cpp/CMakeFiles/OpenDSSC_Common.dir/Plot/\n",
            "   creating: /content/py_dss_interface/examples/GoogleColab/OpenDSSVersions/opendss_linux_dist_jammy/cpp/CMakeFiles/OpenDSSC_Common.dir/Shared/\n",
            "   creating: /content/py_dss_interface/examples/GoogleColab/OpenDSSVersions/opendss_linux_dist_jammy/cpp/CMakeFiles/OpenDSSC_Common.dir/Support/\n",
            "  inflating: /content/py_dss_interface/examples/GoogleColab/OpenDSSVersions/opendss_linux_dist_jammy/cpp/CMakeFiles/OpenDSSC_Common.dir/compiler_depend.make  \n",
            "  inflating: /content/py_dss_interface/examples/GoogleColab/OpenDSSVersions/opendss_linux_dist_jammy/cpp/CMakeFiles/OpenDSSC_Common.dir/progress.make  \n",
            "  inflating: /content/py_dss_interface/examples/GoogleColab/OpenDSSVersions/opendss_linux_dist_jammy/cpp/CMakeFiles/OpenDSSC_Common.dir/depend.make  \n",
            "  inflating: /content/py_dss_interface/examples/GoogleColab/OpenDSSVersions/opendss_linux_dist_jammy/cpp/CMakeFiles/OpenDSSC_Common.dir/flags.make  \n",
            "  inflating: /content/py_dss_interface/examples/GoogleColab/OpenDSSVersions/opendss_linux_dist_jammy/cpp/CMakeFiles/OpenDSSC_Common.dir/DependInfo.cmake  \n",
            "  inflating: /content/py_dss_interface/examples/GoogleColab/OpenDSSVersions/opendss_linux_dist_jammy/cpp/CMakeFiles/OpenDSSC_Common.dir/build.make  \n",
            "  inflating: /content/py_dss_interface/examples/GoogleColab/OpenDSSVersions/opendss_linux_dist_jammy/cpp/CMakeFiles/OpenDSSC_Common.dir/cmake_clean.cmake  \n",
            "  inflating: /content/py_dss_interface/examples/GoogleColab/OpenDSSVersions/opendss_linux_dist_jammy/cpp/CMakeFiles/OpenDSSC_Common.dir/compiler_depend.ts  \n",
            "  inflating: /content/py_dss_interface/examples/GoogleColab/OpenDSSVersions/opendss_linux_dist_jammy/cpp/CMakeFiles/OpenDSSC_Common.dir/Shared/Dynamics.cpp.o.d  \n",
            "  inflating: /content/py_dss_interface/examples/GoogleColab/OpenDSSVersions/opendss_linux_dist_jammy/cpp/CMakeFiles/OpenDSSC_Common.dir/Shared/CktTree.cpp.o  \n",
            "  inflating: /content/py_dss_interface/examples/GoogleColab/OpenDSSVersions/opendss_linux_dist_jammy/cpp/CMakeFiles/OpenDSSC_Common.dir/Shared/Ucomplex.cpp.o  \n",
            "  inflating: /content/py_dss_interface/examples/GoogleColab/OpenDSSVersions/opendss_linux_dist_jammy/cpp/CMakeFiles/OpenDSSC_Common.dir/Shared/Arraydef.cpp.o.d  \n",
            "  inflating: /content/py_dss_interface/examples/GoogleColab/OpenDSSVersions/opendss_linux_dist_jammy/cpp/CMakeFiles/OpenDSSC_Common.dir/Shared/LineUnits.cpp.o  \n",
            "  inflating: /content/py_dss_interface/examples/GoogleColab/OpenDSSVersions/opendss_linux_dist_jammy/cpp/CMakeFiles/OpenDSSC_Common.dir/Shared/Arraydef.cpp.o  \n",
            "  inflating: /content/py_dss_interface/examples/GoogleColab/OpenDSSVersions/opendss_linux_dist_jammy/cpp/CMakeFiles/OpenDSSC_Common.dir/Shared/IniRegSave.cpp.o  \n",
            "  inflating: /content/py_dss_interface/examples/GoogleColab/OpenDSSVersions/opendss_linux_dist_jammy/cpp/CMakeFiles/OpenDSSC_Common.dir/Shared/HashList.cpp.o  \n",
            "  inflating: /content/py_dss_interface/examples/GoogleColab/OpenDSSVersions/opendss_linux_dist_jammy/cpp/CMakeFiles/OpenDSSC_Common.dir/Shared/PointerList.cpp.o.d  \n",
            "  inflating: /content/py_dss_interface/examples/GoogleColab/OpenDSSVersions/opendss_linux_dist_jammy/cpp/CMakeFiles/OpenDSSC_Common.dir/Shared/CktTree.cpp.o.d  \n",
            "  inflating: /content/py_dss_interface/examples/GoogleColab/OpenDSSVersions/opendss_linux_dist_jammy/cpp/CMakeFiles/OpenDSSC_Common.dir/Shared/StackDef.cpp.o  \n",
            "  inflating: /content/py_dss_interface/examples/GoogleColab/OpenDSSVersions/opendss_linux_dist_jammy/cpp/CMakeFiles/OpenDSSC_Common.dir/Shared/Command.cpp.o  \n",
            "  inflating: /content/py_dss_interface/examples/GoogleColab/OpenDSSVersions/opendss_linux_dist_jammy/cpp/CMakeFiles/OpenDSSC_Common.dir/Shared/PointerList.cpp.o  \n",
            "  inflating: /content/py_dss_interface/examples/GoogleColab/OpenDSSVersions/opendss_linux_dist_jammy/cpp/CMakeFiles/OpenDSSC_Common.dir/Shared/Pstcalc.cpp.o  \n",
            "  inflating: /content/py_dss_interface/examples/GoogleColab/OpenDSSVersions/opendss_linux_dist_jammy/cpp/CMakeFiles/OpenDSSC_Common.dir/Shared/Dynamics.cpp.o  \n",
            "  inflating: /content/py_dss_interface/examples/GoogleColab/OpenDSSVersions/opendss_linux_dist_jammy/cpp/CMakeFiles/OpenDSSC_Common.dir/Shared/LineUnits.cpp.o.d  \n",
            "  inflating: /content/py_dss_interface/examples/GoogleColab/OpenDSSVersions/opendss_linux_dist_jammy/cpp/CMakeFiles/OpenDSSC_Common.dir/Shared/Ucmatrix.cpp.o  \n",
            "  inflating: /content/py_dss_interface/examples/GoogleColab/OpenDSSVersions/opendss_linux_dist_jammy/cpp/CMakeFiles/OpenDSSC_Common.dir/Shared/InvDynamics.cpp.o.d  \n",
            "  inflating: /content/py_dss_interface/examples/GoogleColab/OpenDSSVersions/opendss_linux_dist_jammy/cpp/CMakeFiles/OpenDSSC_Common.dir/Shared/mathutil.cpp.o  \n",
            "  inflating: /content/py_dss_interface/examples/GoogleColab/OpenDSSVersions/opendss_linux_dist_jammy/cpp/CMakeFiles/OpenDSSC_Common.dir/Shared/mathutil.cpp.o.d  \n",
            "  inflating: /content/py_dss_interface/examples/GoogleColab/OpenDSSVersions/opendss_linux_dist_jammy/cpp/CMakeFiles/OpenDSSC_Common.dir/Shared/Pstcalc.cpp.o.d  \n",
            "  inflating: /content/py_dss_interface/examples/GoogleColab/OpenDSSVersions/opendss_linux_dist_jammy/cpp/CMakeFiles/OpenDSSC_Common.dir/Shared/Command.cpp.o.d  \n",
            "  inflating: /content/py_dss_interface/examples/GoogleColab/OpenDSSVersions/opendss_linux_dist_jammy/cpp/CMakeFiles/OpenDSSC_Common.dir/Shared/InvDynamics.cpp.o  \n",
            "  inflating: /content/py_dss_interface/examples/GoogleColab/OpenDSSVersions/opendss_linux_dist_jammy/cpp/CMakeFiles/OpenDSSC_Common.dir/Shared/Ucomplex.cpp.o.d  \n",
            "  inflating: /content/py_dss_interface/examples/GoogleColab/OpenDSSVersions/opendss_linux_dist_jammy/cpp/CMakeFiles/OpenDSSC_Common.dir/Shared/IniRegSave.cpp.o.d  \n",
            "  inflating: /content/py_dss_interface/examples/GoogleColab/OpenDSSVersions/opendss_linux_dist_jammy/cpp/CMakeFiles/OpenDSSC_Common.dir/Shared/StackDef.cpp.o.d  \n",
            "  inflating: /content/py_dss_interface/examples/GoogleColab/OpenDSSVersions/opendss_linux_dist_jammy/cpp/CMakeFiles/OpenDSSC_Common.dir/Shared/HashList.cpp.o.d  \n",
            "  inflating: /content/py_dss_interface/examples/GoogleColab/OpenDSSVersions/opendss_linux_dist_jammy/cpp/CMakeFiles/OpenDSSC_Common.dir/Shared/Ucmatrix.cpp.o.d  \n",
            "  inflating: /content/py_dss_interface/examples/GoogleColab/OpenDSSVersions/opendss_linux_dist_jammy/cpp/CMakeFiles/OpenDSSC_Common.dir/Common/Solution.cpp.o.d  \n",
            "  inflating: /content/py_dss_interface/examples/GoogleColab/OpenDSSVersions/opendss_linux_dist_jammy/cpp/CMakeFiles/OpenDSSC_Common.dir/Common/Feeder.cpp.o.d  \n",
            "  inflating: /content/py_dss_interface/examples/GoogleColab/OpenDSSVersions/opendss_linux_dist_jammy/cpp/CMakeFiles/OpenDSSC_Common.dir/Common/Sparse_Math.cpp.o.d  \n",
            "  inflating: /content/py_dss_interface/examples/GoogleColab/OpenDSSVersions/opendss_linux_dist_jammy/cpp/CMakeFiles/OpenDSSC_Common.dir/Common/MeTIS_Exec.cpp.o.d  \n",
            "  inflating: /content/py_dss_interface/examples/GoogleColab/OpenDSSVersions/opendss_linux_dist_jammy/cpp/CMakeFiles/OpenDSSC_Common.dir/Common/DSSClass.cpp.o  \n",
            "  inflating: /content/py_dss_interface/examples/GoogleColab/OpenDSSVersions/opendss_linux_dist_jammy/cpp/CMakeFiles/OpenDSSC_Common.dir/Common/ExportCIMXML.cpp.o  \n",
            "  inflating: /content/py_dss_interface/examples/GoogleColab/OpenDSSVersions/opendss_linux_dist_jammy/cpp/CMakeFiles/OpenDSSC_Common.dir/Common/DSSCallBackRoutines.cpp.o  \n",
            "  inflating: /content/py_dss_interface/examples/GoogleColab/OpenDSSVersions/opendss_linux_dist_jammy/cpp/CMakeFiles/OpenDSSC_Common.dir/Common/SolutionAlgs.cpp.o.d  \n",
            "  inflating: /content/py_dss_interface/examples/GoogleColab/OpenDSSVersions/opendss_linux_dist_jammy/cpp/CMakeFiles/OpenDSSC_Common.dir/Common/Solution.cpp.o  \n",
            "  inflating: /content/py_dss_interface/examples/GoogleColab/OpenDSSVersions/opendss_linux_dist_jammy/cpp/CMakeFiles/OpenDSSC_Common.dir/Common/AutoAdd.cpp.o  \n",
            "  inflating: /content/py_dss_interface/examples/GoogleColab/OpenDSSVersions/opendss_linux_dist_jammy/cpp/CMakeFiles/OpenDSSC_Common.dir/Common/Conductor.cpp.o  \n",
            "  inflating: /content/py_dss_interface/examples/GoogleColab/OpenDSSVersions/opendss_linux_dist_jammy/cpp/CMakeFiles/OpenDSSC_Common.dir/Common/Circuit.cpp.o.d  \n",
            "  inflating: /content/py_dss_interface/examples/GoogleColab/OpenDSSVersions/opendss_linux_dist_jammy/cpp/CMakeFiles/OpenDSSC_Common.dir/Common/DSSClassDefs.cpp.o.d  \n",
            "  inflating: /content/py_dss_interface/examples/GoogleColab/OpenDSSVersions/opendss_linux_dist_jammy/cpp/CMakeFiles/OpenDSSC_Common.dir/Common/MeTIS_Exec.cpp.o  \n",
            "  inflating: /content/py_dss_interface/examples/GoogleColab/OpenDSSVersions/opendss_linux_dist_jammy/cpp/CMakeFiles/OpenDSSC_Common.dir/Common/ControlQueue.cpp.o  \n",
            "  inflating: /content/py_dss_interface/examples/GoogleColab/OpenDSSVersions/opendss_linux_dist_jammy/cpp/CMakeFiles/OpenDSSC_Common.dir/Common/Terminal.cpp.o  \n",
            "  inflating: /content/py_dss_interface/examples/GoogleColab/OpenDSSVersions/opendss_linux_dist_jammy/cpp/CMakeFiles/OpenDSSC_Common.dir/Common/ShowResults.cpp.o.d  \n",
            "  inflating: /content/py_dss_interface/examples/GoogleColab/OpenDSSVersions/opendss_linux_dist_jammy/cpp/CMakeFiles/OpenDSSC_Common.dir/Common/Utilities.cpp.o.d  \n",
            "  inflating: /content/py_dss_interface/examples/GoogleColab/OpenDSSVersions/opendss_linux_dist_jammy/cpp/CMakeFiles/OpenDSSC_Common.dir/Common/Diakoptics.cpp.o  \n",
            "  inflating: /content/py_dss_interface/examples/GoogleColab/OpenDSSVersions/opendss_linux_dist_jammy/cpp/CMakeFiles/OpenDSSC_Common.dir/Common/DSSGlobals.cpp.o  \n",
            "  inflating: /content/py_dss_interface/examples/GoogleColab/OpenDSSVersions/opendss_linux_dist_jammy/cpp/CMakeFiles/OpenDSSC_Common.dir/Common/ShowResults.cpp.o  \n",
            "  inflating: /content/py_dss_interface/examples/GoogleColab/OpenDSSVersions/opendss_linux_dist_jammy/cpp/CMakeFiles/OpenDSSC_Common.dir/Common/ExportCIMXML.cpp.o.d  \n",
            "  inflating: /content/py_dss_interface/examples/GoogleColab/OpenDSSVersions/opendss_linux_dist_jammy/cpp/CMakeFiles/OpenDSSC_Common.dir/Common/Sparse_Math.cpp.o  \n",
            "  inflating: /content/py_dss_interface/examples/GoogleColab/OpenDSSVersions/opendss_linux_dist_jammy/cpp/CMakeFiles/OpenDSSC_Common.dir/Common/Bus.cpp.o.d  \n",
            "  inflating: /content/py_dss_interface/examples/GoogleColab/OpenDSSVersions/opendss_linux_dist_jammy/cpp/CMakeFiles/OpenDSSC_Common.dir/Common/Bus.cpp.o  \n",
            "  inflating: /content/py_dss_interface/examples/GoogleColab/OpenDSSVersions/opendss_linux_dist_jammy/cpp/CMakeFiles/OpenDSSC_Common.dir/Common/CktElementClass.cpp.o  \n",
            "  inflating: /content/py_dss_interface/examples/GoogleColab/OpenDSSVersions/opendss_linux_dist_jammy/cpp/CMakeFiles/OpenDSSC_Common.dir/Common/CktElement.cpp.o.d  \n",
            "  inflating: /content/py_dss_interface/examples/GoogleColab/OpenDSSVersions/opendss_linux_dist_jammy/cpp/CMakeFiles/OpenDSSC_Common.dir/Common/AutoAdd.cpp.o.d  \n",
            "  inflating: /content/py_dss_interface/examples/GoogleColab/OpenDSSVersions/opendss_linux_dist_jammy/cpp/CMakeFiles/OpenDSSC_Common.dir/Common/CktElementClass.cpp.o.d  \n",
            "  inflating: /content/py_dss_interface/examples/GoogleColab/OpenDSSVersions/opendss_linux_dist_jammy/cpp/CMakeFiles/OpenDSSC_Common.dir/Common/DSSClass.cpp.o.d  \n",
            "  inflating: /content/py_dss_interface/examples/GoogleColab/OpenDSSVersions/opendss_linux_dist_jammy/cpp/CMakeFiles/OpenDSSC_Common.dir/Common/SolutionAlgs.cpp.o  \n",
            "  inflating: /content/py_dss_interface/examples/GoogleColab/OpenDSSVersions/opendss_linux_dist_jammy/cpp/CMakeFiles/OpenDSSC_Common.dir/Common/YMatrix.cpp.o  \n",
            "  inflating: /content/py_dss_interface/examples/GoogleColab/OpenDSSVersions/opendss_linux_dist_jammy/cpp/CMakeFiles/OpenDSSC_Common.dir/Common/ControlQueue.cpp.o.d  \n",
            "  inflating: /content/py_dss_interface/examples/GoogleColab/OpenDSSVersions/opendss_linux_dist_jammy/cpp/CMakeFiles/OpenDSSC_Common.dir/Common/Circuit.cpp.o  \n",
            "  inflating: /content/py_dss_interface/examples/GoogleColab/OpenDSSVersions/opendss_linux_dist_jammy/cpp/CMakeFiles/OpenDSSC_Common.dir/Common/Utilities.cpp.o  \n",
            "  inflating: /content/py_dss_interface/examples/GoogleColab/OpenDSSVersions/opendss_linux_dist_jammy/cpp/CMakeFiles/OpenDSSC_Common.dir/Common/Diakoptics.cpp.o.d  \n",
            "  inflating: /content/py_dss_interface/examples/GoogleColab/OpenDSSVersions/opendss_linux_dist_jammy/cpp/CMakeFiles/OpenDSSC_Common.dir/Common/DSSClassDefs.cpp.o  \n",
            "  inflating: /content/py_dss_interface/examples/GoogleColab/OpenDSSVersions/opendss_linux_dist_jammy/cpp/CMakeFiles/OpenDSSC_Common.dir/Common/ExportResults.cpp.o.d  \n",
            "  inflating: /content/py_dss_interface/examples/GoogleColab/OpenDSSVersions/opendss_linux_dist_jammy/cpp/CMakeFiles/OpenDSSC_Common.dir/Common/DSSCallBackRoutines.cpp.o.d  \n",
            "  inflating: /content/py_dss_interface/examples/GoogleColab/OpenDSSVersions/opendss_linux_dist_jammy/cpp/CMakeFiles/OpenDSSC_Common.dir/Common/Terminal.cpp.o.d  \n",
            "  inflating: /content/py_dss_interface/examples/GoogleColab/OpenDSSVersions/opendss_linux_dist_jammy/cpp/CMakeFiles/OpenDSSC_Common.dir/Common/Feeder.cpp.o  \n",
            "  inflating: /content/py_dss_interface/examples/GoogleColab/OpenDSSVersions/opendss_linux_dist_jammy/cpp/CMakeFiles/OpenDSSC_Common.dir/Common/Conductor.cpp.o.d  \n",
            "  inflating: /content/py_dss_interface/examples/GoogleColab/OpenDSSVersions/opendss_linux_dist_jammy/cpp/CMakeFiles/OpenDSSC_Common.dir/Common/ExportResults.cpp.o  \n",
            "  inflating: /content/py_dss_interface/examples/GoogleColab/OpenDSSVersions/opendss_linux_dist_jammy/cpp/CMakeFiles/OpenDSSC_Common.dir/Common/DSSGlobals.cpp.o.d  \n",
            "  inflating: /content/py_dss_interface/examples/GoogleColab/OpenDSSVersions/opendss_linux_dist_jammy/cpp/CMakeFiles/OpenDSSC_Common.dir/Common/CktElement.cpp.o  \n",
            "  inflating: /content/py_dss_interface/examples/GoogleColab/OpenDSSVersions/opendss_linux_dist_jammy/cpp/CMakeFiles/OpenDSSC_Common.dir/Common/YMatrix.cpp.o.d  \n",
            "  inflating: /content/py_dss_interface/examples/GoogleColab/OpenDSSVersions/opendss_linux_dist_jammy/cpp/CMakeFiles/OpenDSSC_Common.dir/Executive/ExecHelper.cpp.o.d  \n",
            "  inflating: /content/py_dss_interface/examples/GoogleColab/OpenDSSVersions/opendss_linux_dist_jammy/cpp/CMakeFiles/OpenDSSC_Common.dir/Executive/Executive.cpp.o.d  \n",
            "  inflating: /content/py_dss_interface/examples/GoogleColab/OpenDSSVersions/opendss_linux_dist_jammy/cpp/CMakeFiles/OpenDSSC_Common.dir/Executive/ConnectOptions.cpp.o.d  \n",
            "  inflating: /content/py_dss_interface/examples/GoogleColab/OpenDSSVersions/opendss_linux_dist_jammy/cpp/CMakeFiles/OpenDSSC_Common.dir/Executive/PlotOptions.cpp.o  \n",
            "  inflating: /content/py_dss_interface/examples/GoogleColab/OpenDSSVersions/opendss_linux_dist_jammy/cpp/CMakeFiles/OpenDSSC_Common.dir/Executive/ExecCommands.cpp.o.d  \n",
            "  inflating: /content/py_dss_interface/examples/GoogleColab/OpenDSSVersions/opendss_linux_dist_jammy/cpp/CMakeFiles/OpenDSSC_Common.dir/Executive/ShowOptions.cpp.o.d  \n",
            "  inflating: /content/py_dss_interface/examples/GoogleColab/OpenDSSVersions/opendss_linux_dist_jammy/cpp/CMakeFiles/OpenDSSC_Common.dir/Executive/PlotOptions.cpp.o.d  \n",
            "  inflating: /content/py_dss_interface/examples/GoogleColab/OpenDSSVersions/opendss_linux_dist_jammy/cpp/CMakeFiles/OpenDSSC_Common.dir/Executive/ExecOptions.cpp.o.d  \n",
            "  inflating: /content/py_dss_interface/examples/GoogleColab/OpenDSSVersions/opendss_linux_dist_jammy/cpp/CMakeFiles/OpenDSSC_Common.dir/Executive/ShowOptions.cpp.o  \n",
            "  inflating: /content/py_dss_interface/examples/GoogleColab/OpenDSSVersions/opendss_linux_dist_jammy/cpp/CMakeFiles/OpenDSSC_Common.dir/Executive/ExportOptions.cpp.o  \n",
            "  inflating: /content/py_dss_interface/examples/GoogleColab/OpenDSSVersions/opendss_linux_dist_jammy/cpp/CMakeFiles/OpenDSSC_Common.dir/Executive/ExecCommands.cpp.o  \n",
            "  inflating: /content/py_dss_interface/examples/GoogleColab/OpenDSSVersions/opendss_linux_dist_jammy/cpp/CMakeFiles/OpenDSSC_Common.dir/Executive/ExportOptions.cpp.o.d  \n",
            "  inflating: /content/py_dss_interface/examples/GoogleColab/OpenDSSVersions/opendss_linux_dist_jammy/cpp/CMakeFiles/OpenDSSC_Common.dir/Executive/ExecOptions.cpp.o  \n",
            "  inflating: /content/py_dss_interface/examples/GoogleColab/OpenDSSVersions/opendss_linux_dist_jammy/cpp/CMakeFiles/OpenDSSC_Common.dir/Executive/ExecHelper.cpp.o  \n",
            "  inflating: /content/py_dss_interface/examples/GoogleColab/OpenDSSVersions/opendss_linux_dist_jammy/cpp/CMakeFiles/OpenDSSC_Common.dir/Executive/ConnectOptions.cpp.o  \n",
            "  inflating: /content/py_dss_interface/examples/GoogleColab/OpenDSSVersions/opendss_linux_dist_jammy/cpp/CMakeFiles/OpenDSSC_Common.dir/Executive/Executive.cpp.o  \n",
            "  inflating: /content/py_dss_interface/examples/GoogleColab/OpenDSSVersions/opendss_linux_dist_jammy/cpp/CMakeFiles/OpenDSSC_Common.dir/General/LineGeometry.cpp.o  \n",
            "  inflating: /content/py_dss_interface/examples/GoogleColab/OpenDSSVersions/opendss_linux_dist_jammy/cpp/CMakeFiles/OpenDSSC_Common.dir/General/CNTSLineConstants.cpp.o  \n",
            "  inflating: /content/py_dss_interface/examples/GoogleColab/OpenDSSVersions/opendss_linux_dist_jammy/cpp/CMakeFiles/OpenDSSC_Common.dir/General/ConductorData.cpp.o.d  \n",
            "  inflating: /content/py_dss_interface/examples/GoogleColab/OpenDSSVersions/opendss_linux_dist_jammy/cpp/CMakeFiles/OpenDSSC_Common.dir/General/GrowthShape.cpp.o.d  \n",
            "  inflating: /content/py_dss_interface/examples/GoogleColab/OpenDSSVersions/opendss_linux_dist_jammy/cpp/CMakeFiles/OpenDSSC_Common.dir/General/NamedObject.cpp.o  \n",
            "  inflating: /content/py_dss_interface/examples/GoogleColab/OpenDSSVersions/opendss_linux_dist_jammy/cpp/CMakeFiles/OpenDSSC_Common.dir/General/TSLineConstants.cpp.o.d  \n",
            "  inflating: /content/py_dss_interface/examples/GoogleColab/OpenDSSVersions/opendss_linux_dist_jammy/cpp/CMakeFiles/OpenDSSC_Common.dir/General/LineSpacing.cpp.o  \n",
            "  inflating: /content/py_dss_interface/examples/GoogleColab/OpenDSSVersions/opendss_linux_dist_jammy/cpp/CMakeFiles/OpenDSSC_Common.dir/General/DynamicExp.cpp.o.d  \n",
            "  inflating: /content/py_dss_interface/examples/GoogleColab/OpenDSSVersions/opendss_linux_dist_jammy/cpp/CMakeFiles/OpenDSSC_Common.dir/General/XYcurve.cpp.o.d  \n",
            "  inflating: /content/py_dss_interface/examples/GoogleColab/OpenDSSVersions/opendss_linux_dist_jammy/cpp/CMakeFiles/OpenDSSC_Common.dir/General/PriceShape.cpp.o.d  \n",
            "  inflating: /content/py_dss_interface/examples/GoogleColab/OpenDSSVersions/opendss_linux_dist_jammy/cpp/CMakeFiles/OpenDSSC_Common.dir/General/XYcurve.cpp.o  \n",
            "  inflating: /content/py_dss_interface/examples/GoogleColab/OpenDSSVersions/opendss_linux_dist_jammy/cpp/CMakeFiles/OpenDSSC_Common.dir/General/XfmrCode.cpp.o  \n",
            "  inflating: /content/py_dss_interface/examples/GoogleColab/OpenDSSVersions/opendss_linux_dist_jammy/cpp/CMakeFiles/OpenDSSC_Common.dir/General/GrowthShape.cpp.o  \n",
            "  inflating: /content/py_dss_interface/examples/GoogleColab/OpenDSSVersions/opendss_linux_dist_jammy/cpp/CMakeFiles/OpenDSSC_Common.dir/General/CNTSLineConstants.cpp.o.d  \n",
            "  inflating: /content/py_dss_interface/examples/GoogleColab/OpenDSSVersions/opendss_linux_dist_jammy/cpp/CMakeFiles/OpenDSSC_Common.dir/General/TCC_Curve.cpp.o  \n",
            "  inflating: /content/py_dss_interface/examples/GoogleColab/OpenDSSVersions/opendss_linux_dist_jammy/cpp/CMakeFiles/OpenDSSC_Common.dir/General/LoadShape.cpp.o.d  \n",
            "  inflating: /content/py_dss_interface/examples/GoogleColab/OpenDSSVersions/opendss_linux_dist_jammy/cpp/CMakeFiles/OpenDSSC_Common.dir/General/LineSpacing.cpp.o.d  \n",
            "  inflating: /content/py_dss_interface/examples/GoogleColab/OpenDSSVersions/opendss_linux_dist_jammy/cpp/CMakeFiles/OpenDSSC_Common.dir/General/LineGeometry.cpp.o.d  \n",
            "  inflating: /content/py_dss_interface/examples/GoogleColab/OpenDSSVersions/opendss_linux_dist_jammy/cpp/CMakeFiles/OpenDSSC_Common.dir/General/DynamicExp.cpp.o  \n",
            "  inflating: /content/py_dss_interface/examples/GoogleColab/OpenDSSVersions/opendss_linux_dist_jammy/cpp/CMakeFiles/OpenDSSC_Common.dir/General/LineConstants.cpp.o.d  \n",
            "  inflating: /content/py_dss_interface/examples/GoogleColab/OpenDSSVersions/opendss_linux_dist_jammy/cpp/CMakeFiles/OpenDSSC_Common.dir/General/CableData.cpp.o.d  \n",
            "  inflating: /content/py_dss_interface/examples/GoogleColab/OpenDSSVersions/opendss_linux_dist_jammy/cpp/CMakeFiles/OpenDSSC_Common.dir/General/DSSObject.cpp.o.d  \n",
            "  inflating: /content/py_dss_interface/examples/GoogleColab/OpenDSSVersions/opendss_linux_dist_jammy/cpp/CMakeFiles/OpenDSSC_Common.dir/General/Spectrum.cpp.o  \n",
            "  inflating: /content/py_dss_interface/examples/GoogleColab/OpenDSSVersions/opendss_linux_dist_jammy/cpp/CMakeFiles/OpenDSSC_Common.dir/General/CNLineConstants.cpp.o  \n",
            "  inflating: /content/py_dss_interface/examples/GoogleColab/OpenDSSVersions/opendss_linux_dist_jammy/cpp/CMakeFiles/OpenDSSC_Common.dir/General/ConductorData.cpp.o  \n",
            "  inflating: /content/py_dss_interface/examples/GoogleColab/OpenDSSVersions/opendss_linux_dist_jammy/cpp/CMakeFiles/OpenDSSC_Common.dir/General/TCC_Curve.cpp.o.d  \n",
            "  inflating: /content/py_dss_interface/examples/GoogleColab/OpenDSSVersions/opendss_linux_dist_jammy/cpp/CMakeFiles/OpenDSSC_Common.dir/General/CNData.cpp.o.d  \n",
            "  inflating: /content/py_dss_interface/examples/GoogleColab/OpenDSSVersions/opendss_linux_dist_jammy/cpp/CMakeFiles/OpenDSSC_Common.dir/General/LineCode.cpp.o  \n",
            "  inflating: /content/py_dss_interface/examples/GoogleColab/OpenDSSVersions/opendss_linux_dist_jammy/cpp/CMakeFiles/OpenDSSC_Common.dir/General/LineCode.cpp.o.d  \n",
            "  inflating: /content/py_dss_interface/examples/GoogleColab/OpenDSSVersions/opendss_linux_dist_jammy/cpp/CMakeFiles/OpenDSSC_Common.dir/General/CableData.cpp.o  \n",
            "  inflating: /content/py_dss_interface/examples/GoogleColab/OpenDSSVersions/opendss_linux_dist_jammy/cpp/CMakeFiles/OpenDSSC_Common.dir/General/NamedObject.cpp.o.d  \n",
            "  inflating: /content/py_dss_interface/examples/GoogleColab/OpenDSSVersions/opendss_linux_dist_jammy/cpp/CMakeFiles/OpenDSSC_Common.dir/General/TempShape.cpp.o.d  \n",
            "  inflating: /content/py_dss_interface/examples/GoogleColab/OpenDSSVersions/opendss_linux_dist_jammy/cpp/CMakeFiles/OpenDSSC_Common.dir/General/PriceShape.cpp.o  \n",
            "  inflating: /content/py_dss_interface/examples/GoogleColab/OpenDSSVersions/opendss_linux_dist_jammy/cpp/CMakeFiles/OpenDSSC_Common.dir/General/LoadShape.cpp.o  \n",
            "  inflating: /content/py_dss_interface/examples/GoogleColab/OpenDSSVersions/opendss_linux_dist_jammy/cpp/CMakeFiles/OpenDSSC_Common.dir/General/XfmrCode.cpp.o.d  \n",
            "  inflating: /content/py_dss_interface/examples/GoogleColab/OpenDSSVersions/opendss_linux_dist_jammy/cpp/CMakeFiles/OpenDSSC_Common.dir/General/TempShape.cpp.o  \n",
            "  inflating: /content/py_dss_interface/examples/GoogleColab/OpenDSSVersions/opendss_linux_dist_jammy/cpp/CMakeFiles/OpenDSSC_Common.dir/General/CNLineConstants.cpp.o.d  \n",
            "  inflating: /content/py_dss_interface/examples/GoogleColab/OpenDSSVersions/opendss_linux_dist_jammy/cpp/CMakeFiles/OpenDSSC_Common.dir/General/Spectrum.cpp.o.d  \n",
            "  inflating: /content/py_dss_interface/examples/GoogleColab/OpenDSSVersions/opendss_linux_dist_jammy/cpp/CMakeFiles/OpenDSSC_Common.dir/General/WireData.cpp.o.d  \n",
            "  inflating: /content/py_dss_interface/examples/GoogleColab/OpenDSSVersions/opendss_linux_dist_jammy/cpp/CMakeFiles/OpenDSSC_Common.dir/General/OHLineConstants.cpp.o  \n",
            "  inflating: /content/py_dss_interface/examples/GoogleColab/OpenDSSVersions/opendss_linux_dist_jammy/cpp/CMakeFiles/OpenDSSC_Common.dir/General/OHLineConstants.cpp.o.d  \n",
            "  inflating: /content/py_dss_interface/examples/GoogleColab/OpenDSSVersions/opendss_linux_dist_jammy/cpp/CMakeFiles/OpenDSSC_Common.dir/General/DSSObject.cpp.o  \n",
            "  inflating: /content/py_dss_interface/examples/GoogleColab/OpenDSSVersions/opendss_linux_dist_jammy/cpp/CMakeFiles/OpenDSSC_Common.dir/General/CableConstants.cpp.o  \n",
            "  inflating: /content/py_dss_interface/examples/GoogleColab/OpenDSSVersions/opendss_linux_dist_jammy/cpp/CMakeFiles/OpenDSSC_Common.dir/General/WireData.cpp.o  \n",
            "  inflating: /content/py_dss_interface/examples/GoogleColab/OpenDSSVersions/opendss_linux_dist_jammy/cpp/CMakeFiles/OpenDSSC_Common.dir/General/TSLineConstants.cpp.o  \n",
            "  inflating: /content/py_dss_interface/examples/GoogleColab/OpenDSSVersions/opendss_linux_dist_jammy/cpp/CMakeFiles/OpenDSSC_Common.dir/General/CableConstants.cpp.o.d  \n",
            "  inflating: /content/py_dss_interface/examples/GoogleColab/OpenDSSVersions/opendss_linux_dist_jammy/cpp/CMakeFiles/OpenDSSC_Common.dir/General/TSData.cpp.o  \n",
            "  inflating: /content/py_dss_interface/examples/GoogleColab/OpenDSSVersions/opendss_linux_dist_jammy/cpp/CMakeFiles/OpenDSSC_Common.dir/General/TSData.cpp.o.d  \n",
            "  inflating: /content/py_dss_interface/examples/GoogleColab/OpenDSSVersions/opendss_linux_dist_jammy/cpp/CMakeFiles/OpenDSSC_Common.dir/General/CNData.cpp.o  \n",
            "  inflating: /content/py_dss_interface/examples/GoogleColab/OpenDSSVersions/opendss_linux_dist_jammy/cpp/CMakeFiles/OpenDSSC_Common.dir/General/LineConstants.cpp.o  \n",
            "  inflating: /content/py_dss_interface/examples/GoogleColab/OpenDSSVersions/opendss_linux_dist_jammy/cpp/CMakeFiles/OpenDSSC_Common.dir/MyOpenDSS/MyDSSClassDefs.cpp.o  \n",
            "  inflating: /content/py_dss_interface/examples/GoogleColab/OpenDSSVersions/opendss_linux_dist_jammy/cpp/CMakeFiles/OpenDSSC_Common.dir/MyOpenDSS/MyDSSClassDefs.cpp.o.d  \n",
            "  inflating: /content/py_dss_interface/examples/GoogleColab/OpenDSSVersions/opendss_linux_dist_jammy/cpp/CMakeFiles/OpenDSSC_Common.dir/GISCommands/GISCommands.cpp.o.d  \n",
            "  inflating: /content/py_dss_interface/examples/GoogleColab/OpenDSSVersions/opendss_linux_dist_jammy/cpp/CMakeFiles/OpenDSSC_Common.dir/GISCommands/GISCommands.cpp.o  \n",
            "  inflating: /content/py_dss_interface/examples/GoogleColab/OpenDSSVersions/opendss_linux_dist_jammy/cpp/CMakeFiles/OpenDSSC_Common.dir/Controls/CapControl.cpp.o  \n",
            "  inflating: /content/py_dss_interface/examples/GoogleColab/OpenDSSVersions/opendss_linux_dist_jammy/cpp/CMakeFiles/OpenDSSC_Common.dir/Controls/ControlElem.cpp.o  \n",
            "  inflating: /content/py_dss_interface/examples/GoogleColab/OpenDSSVersions/opendss_linux_dist_jammy/cpp/CMakeFiles/OpenDSSC_Common.dir/Controls/ControlClass.cpp.o.d  \n",
            "  inflating: /content/py_dss_interface/examples/GoogleColab/OpenDSSVersions/opendss_linux_dist_jammy/cpp/CMakeFiles/OpenDSSC_Common.dir/Controls/CapControlVars.cpp.o  \n",
            "  inflating: /content/py_dss_interface/examples/GoogleColab/OpenDSSVersions/opendss_linux_dist_jammy/cpp/CMakeFiles/OpenDSSC_Common.dir/Controls/Relay.cpp.o  \n",
            "  inflating: /content/py_dss_interface/examples/GoogleColab/OpenDSSVersions/opendss_linux_dist_jammy/cpp/CMakeFiles/OpenDSSC_Common.dir/Controls/ExpControl.cpp.o.d  \n",
            "  inflating: /content/py_dss_interface/examples/GoogleColab/OpenDSSVersions/opendss_linux_dist_jammy/cpp/CMakeFiles/OpenDSSC_Common.dir/Controls/pyControl.cpp.o.d  \n",
            "  inflating: /content/py_dss_interface/examples/GoogleColab/OpenDSSVersions/opendss_linux_dist_jammy/cpp/CMakeFiles/OpenDSSC_Common.dir/Controls/pyControl.cpp.o  \n",
            "  inflating: /content/py_dss_interface/examples/GoogleColab/OpenDSSVersions/opendss_linux_dist_jammy/cpp/CMakeFiles/OpenDSSC_Common.dir/Controls/SwtControl.cpp.o.d  \n",
            "  inflating: /content/py_dss_interface/examples/GoogleColab/OpenDSSVersions/opendss_linux_dist_jammy/cpp/CMakeFiles/OpenDSSC_Common.dir/Controls/ESPVLControl.cpp.o.d  \n",
            "  inflating: /content/py_dss_interface/examples/GoogleColab/OpenDSSVersions/opendss_linux_dist_jammy/cpp/CMakeFiles/OpenDSSC_Common.dir/Controls/RegControl.cpp.o  \n",
            "  inflating: /content/py_dss_interface/examples/GoogleColab/OpenDSSVersions/opendss_linux_dist_jammy/cpp/CMakeFiles/OpenDSSC_Common.dir/Controls/ControlElem.cpp.o.d  \n",
            "  inflating: /content/py_dss_interface/examples/GoogleColab/OpenDSSVersions/opendss_linux_dist_jammy/cpp/CMakeFiles/OpenDSSC_Common.dir/Controls/InvControl.cpp.o.d  \n",
            "  inflating: /content/py_dss_interface/examples/GoogleColab/OpenDSSVersions/opendss_linux_dist_jammy/cpp/CMakeFiles/OpenDSSC_Common.dir/Controls/CapUserControl.cpp.o.d  \n",
            "  inflating: /content/py_dss_interface/examples/GoogleColab/OpenDSSVersions/opendss_linux_dist_jammy/cpp/CMakeFiles/OpenDSSC_Common.dir/Controls/GenDispatcher.cpp.o.d  \n",
            "  inflating: /content/py_dss_interface/examples/GoogleColab/OpenDSSVersions/opendss_linux_dist_jammy/cpp/CMakeFiles/OpenDSSC_Common.dir/Controls/CapControl.cpp.o.d  \n",
            "  inflating: /content/py_dss_interface/examples/GoogleColab/OpenDSSVersions/opendss_linux_dist_jammy/cpp/CMakeFiles/OpenDSSC_Common.dir/Controls/StorageController.cpp.o  \n",
            "  inflating: /content/py_dss_interface/examples/GoogleColab/OpenDSSVersions/opendss_linux_dist_jammy/cpp/CMakeFiles/OpenDSSC_Common.dir/Controls/ESPVLControl.cpp.o  \n",
            "  inflating: /content/py_dss_interface/examples/GoogleColab/OpenDSSVersions/opendss_linux_dist_jammy/cpp/CMakeFiles/OpenDSSC_Common.dir/Controls/Relay.cpp.o.d  \n",
            "  inflating: /content/py_dss_interface/examples/GoogleColab/OpenDSSVersions/opendss_linux_dist_jammy/cpp/CMakeFiles/OpenDSSC_Common.dir/Controls/Recloser.cpp.o  \n",
            "  inflating: /content/py_dss_interface/examples/GoogleColab/OpenDSSVersions/opendss_linux_dist_jammy/cpp/CMakeFiles/OpenDSSC_Common.dir/Controls/ControlClass.cpp.o  \n",
            "  inflating: /content/py_dss_interface/examples/GoogleColab/OpenDSSVersions/opendss_linux_dist_jammy/cpp/CMakeFiles/OpenDSSC_Common.dir/Controls/StorageController.cpp.o.d  \n",
            "  inflating: /content/py_dss_interface/examples/GoogleColab/OpenDSSVersions/opendss_linux_dist_jammy/cpp/CMakeFiles/OpenDSSC_Common.dir/Controls/CapUserControl.cpp.o  \n",
            "  inflating: /content/py_dss_interface/examples/GoogleColab/OpenDSSVersions/opendss_linux_dist_jammy/cpp/CMakeFiles/OpenDSSC_Common.dir/Controls/UPFCControl.cpp.o.d  \n",
            "  inflating: /content/py_dss_interface/examples/GoogleColab/OpenDSSVersions/opendss_linux_dist_jammy/cpp/CMakeFiles/OpenDSSC_Common.dir/Controls/GenDispatcher.cpp.o  \n",
            "  inflating: /content/py_dss_interface/examples/GoogleColab/OpenDSSVersions/opendss_linux_dist_jammy/cpp/CMakeFiles/OpenDSSC_Common.dir/Controls/RegControl.cpp.o.d  \n",
            "  inflating: /content/py_dss_interface/examples/GoogleColab/OpenDSSVersions/opendss_linux_dist_jammy/cpp/CMakeFiles/OpenDSSC_Common.dir/Controls/SwtControl.cpp.o  \n",
            "  inflating: /content/py_dss_interface/examples/GoogleColab/OpenDSSVersions/opendss_linux_dist_jammy/cpp/CMakeFiles/OpenDSSC_Common.dir/Controls/CapControlVars.cpp.o.d  \n",
            "  inflating: /content/py_dss_interface/examples/GoogleColab/OpenDSSVersions/opendss_linux_dist_jammy/cpp/CMakeFiles/OpenDSSC_Common.dir/Controls/Recloser.cpp.o.d  \n",
            "  inflating: /content/py_dss_interface/examples/GoogleColab/OpenDSSVersions/opendss_linux_dist_jammy/cpp/CMakeFiles/OpenDSSC_Common.dir/Controls/InvControl.cpp.o  \n",
            "  inflating: /content/py_dss_interface/examples/GoogleColab/OpenDSSVersions/opendss_linux_dist_jammy/cpp/CMakeFiles/OpenDSSC_Common.dir/Controls/ExpControl.cpp.o  \n",
            "  inflating: /content/py_dss_interface/examples/GoogleColab/OpenDSSVersions/opendss_linux_dist_jammy/cpp/CMakeFiles/OpenDSSC_Common.dir/Controls/UPFCControl.cpp.o  \n",
            "  inflating: /content/py_dss_interface/examples/GoogleColab/OpenDSSVersions/opendss_linux_dist_jammy/cpp/CMakeFiles/OpenDSSC_Common.dir/PDElements/Capacitor.cpp.o.d  \n",
            "  inflating: /content/py_dss_interface/examples/GoogleColab/OpenDSSVersions/opendss_linux_dist_jammy/cpp/CMakeFiles/OpenDSSC_Common.dir/PDElements/AutoTrans.cpp.o  \n",
            "  inflating: /content/py_dss_interface/examples/GoogleColab/OpenDSSVersions/opendss_linux_dist_jammy/cpp/CMakeFiles/OpenDSSC_Common.dir/PDElements/Fault.cpp.o.d  \n",
            "  inflating: /content/py_dss_interface/examples/GoogleColab/OpenDSSVersions/opendss_linux_dist_jammy/cpp/CMakeFiles/OpenDSSC_Common.dir/PDElements/Reactor.cpp.o.d  \n",
            "  inflating: /content/py_dss_interface/examples/GoogleColab/OpenDSSVersions/opendss_linux_dist_jammy/cpp/CMakeFiles/OpenDSSC_Common.dir/PDElements/PDClass.cpp.o  \n",
            "  inflating: /content/py_dss_interface/examples/GoogleColab/OpenDSSVersions/opendss_linux_dist_jammy/cpp/CMakeFiles/OpenDSSC_Common.dir/PDElements/fuse.cpp.o  \n",
            "  inflating: /content/py_dss_interface/examples/GoogleColab/OpenDSSVersions/opendss_linux_dist_jammy/cpp/CMakeFiles/OpenDSSC_Common.dir/PDElements/PDClass.cpp.o.d  \n",
            "  inflating: /content/py_dss_interface/examples/GoogleColab/OpenDSSVersions/opendss_linux_dist_jammy/cpp/CMakeFiles/OpenDSSC_Common.dir/PDElements/Reactor.cpp.o  \n",
            "  inflating: /content/py_dss_interface/examples/GoogleColab/OpenDSSVersions/opendss_linux_dist_jammy/cpp/CMakeFiles/OpenDSSC_Common.dir/PDElements/Line.cpp.o.d  \n",
            "  inflating: /content/py_dss_interface/examples/GoogleColab/OpenDSSVersions/opendss_linux_dist_jammy/cpp/CMakeFiles/OpenDSSC_Common.dir/PDElements/Fault.cpp.o  \n",
            "  inflating: /content/py_dss_interface/examples/GoogleColab/OpenDSSVersions/opendss_linux_dist_jammy/cpp/CMakeFiles/OpenDSSC_Common.dir/PDElements/Capacitor.cpp.o  \n",
            "  inflating: /content/py_dss_interface/examples/GoogleColab/OpenDSSVersions/opendss_linux_dist_jammy/cpp/CMakeFiles/OpenDSSC_Common.dir/PDElements/Transformer.cpp.o  \n",
            "  inflating: /content/py_dss_interface/examples/GoogleColab/OpenDSSVersions/opendss_linux_dist_jammy/cpp/CMakeFiles/OpenDSSC_Common.dir/PDElements/PDElement.cpp.o.d  \n",
            "  inflating: /content/py_dss_interface/examples/GoogleColab/OpenDSSVersions/opendss_linux_dist_jammy/cpp/CMakeFiles/OpenDSSC_Common.dir/PDElements/GICTransformer.cpp.o  \n",
            "  inflating: /content/py_dss_interface/examples/GoogleColab/OpenDSSVersions/opendss_linux_dist_jammy/cpp/CMakeFiles/OpenDSSC_Common.dir/PDElements/fuse.cpp.o.d  \n",
            "  inflating: /content/py_dss_interface/examples/GoogleColab/OpenDSSVersions/opendss_linux_dist_jammy/cpp/CMakeFiles/OpenDSSC_Common.dir/PDElements/PDElement.cpp.o  \n",
            "  inflating: /content/py_dss_interface/examples/GoogleColab/OpenDSSVersions/opendss_linux_dist_jammy/cpp/CMakeFiles/OpenDSSC_Common.dir/PDElements/GICTransformer.cpp.o.d  \n",
            "  inflating: /content/py_dss_interface/examples/GoogleColab/OpenDSSVersions/opendss_linux_dist_jammy/cpp/CMakeFiles/OpenDSSC_Common.dir/PDElements/AutoTrans.cpp.o.d  \n",
            "  inflating: /content/py_dss_interface/examples/GoogleColab/OpenDSSVersions/opendss_linux_dist_jammy/cpp/CMakeFiles/OpenDSSC_Common.dir/PDElements/Transformer.cpp.o.d  \n",
            "  inflating: /content/py_dss_interface/examples/GoogleColab/OpenDSSVersions/opendss_linux_dist_jammy/cpp/CMakeFiles/OpenDSSC_Common.dir/PDElements/Line.cpp.o  \n",
            "  inflating: /content/py_dss_interface/examples/GoogleColab/OpenDSSVersions/opendss_linux_dist_jammy/cpp/CMakeFiles/OpenDSSC_Common.dir/Forms/CmdForms.cpp.o  \n",
            "  inflating: /content/py_dss_interface/examples/GoogleColab/OpenDSSVersions/opendss_linux_dist_jammy/cpp/CMakeFiles/OpenDSSC_Common.dir/Forms/CmdForms.cpp.o.d  \n",
            "  inflating: /content/py_dss_interface/examples/GoogleColab/OpenDSSVersions/opendss_linux_dist_jammy/cpp/CMakeFiles/OpenDSSC_Common.dir/Support/d2c_system.cpp.o  \n",
            "  inflating: /content/py_dss_interface/examples/GoogleColab/OpenDSSVersions/opendss_linux_dist_jammy/cpp/CMakeFiles/OpenDSSC_Common.dir/Support/d2c_sysmath.cpp.o  \n",
            "  inflating: /content/py_dss_interface/examples/GoogleColab/OpenDSSVersions/opendss_linux_dist_jammy/cpp/CMakeFiles/OpenDSSC_Common.dir/Support/d2c_syscurr.cpp.o.d  \n",
            "  inflating: /content/py_dss_interface/examples/GoogleColab/OpenDSSVersions/opendss_linux_dist_jammy/cpp/CMakeFiles/OpenDSSC_Common.dir/Support/d2c_sysfile.cpp.o.d  \n",
            "  inflating: /content/py_dss_interface/examples/GoogleColab/OpenDSSVersions/opendss_linux_dist_jammy/cpp/CMakeFiles/OpenDSSC_Common.dir/Support/d2c_sysmath.cpp.o.d  \n",
            "  inflating: /content/py_dss_interface/examples/GoogleColab/OpenDSSVersions/opendss_linux_dist_jammy/cpp/CMakeFiles/OpenDSSC_Common.dir/Support/d2c_sysdate.cpp.o.d  \n",
            "  inflating: /content/py_dss_interface/examples/GoogleColab/OpenDSSVersions/opendss_linux_dist_jammy/cpp/CMakeFiles/OpenDSSC_Common.dir/Support/d2c_structures.cpp.o.d  \n",
            "  inflating: /content/py_dss_interface/examples/GoogleColab/OpenDSSVersions/opendss_linux_dist_jammy/cpp/CMakeFiles/OpenDSSC_Common.dir/Support/d2c_syscurr.cpp.o  \n",
            "  inflating: /content/py_dss_interface/examples/GoogleColab/OpenDSSVersions/opendss_linux_dist_jammy/cpp/CMakeFiles/OpenDSSC_Common.dir/Support/d2c_sysdate.cpp.o  \n",
            "  inflating: /content/py_dss_interface/examples/GoogleColab/OpenDSSVersions/opendss_linux_dist_jammy/cpp/CMakeFiles/OpenDSSC_Common.dir/Support/d2c_sysstring.cpp.o  \n",
            "  inflating: /content/py_dss_interface/examples/GoogleColab/OpenDSSVersions/opendss_linux_dist_jammy/cpp/CMakeFiles/OpenDSSC_Common.dir/Support/d2c_sysexcept.cpp.o  \n",
            "  inflating: /content/py_dss_interface/examples/GoogleColab/OpenDSSVersions/opendss_linux_dist_jammy/cpp/CMakeFiles/OpenDSSC_Common.dir/Support/d2c_structures.cpp.o  \n",
            "  inflating: /content/py_dss_interface/examples/GoogleColab/OpenDSSVersions/opendss_linux_dist_jammy/cpp/CMakeFiles/OpenDSSC_Common.dir/Support/Sysutils.cpp.o.d  \n",
            "  inflating: /content/py_dss_interface/examples/GoogleColab/OpenDSSVersions/opendss_linux_dist_jammy/cpp/CMakeFiles/OpenDSSC_Common.dir/Support/Sysutils.cpp.o  \n",
            "  inflating: /content/py_dss_interface/examples/GoogleColab/OpenDSSVersions/opendss_linux_dist_jammy/cpp/CMakeFiles/OpenDSSC_Common.dir/Support/d2c_sysstring.cpp.o.d  \n",
            "  inflating: /content/py_dss_interface/examples/GoogleColab/OpenDSSVersions/opendss_linux_dist_jammy/cpp/CMakeFiles/OpenDSSC_Common.dir/Support/d2c_system.cpp.o.d  \n",
            "  inflating: /content/py_dss_interface/examples/GoogleColab/OpenDSSVersions/opendss_linux_dist_jammy/cpp/CMakeFiles/OpenDSSC_Common.dir/Support/d2c_sysfile.cpp.o  \n",
            "  inflating: /content/py_dss_interface/examples/GoogleColab/OpenDSSVersions/opendss_linux_dist_jammy/cpp/CMakeFiles/OpenDSSC_Common.dir/Support/d2c_sysexcept.cpp.o.d  \n",
            "  inflating: /content/py_dss_interface/examples/GoogleColab/OpenDSSVersions/opendss_linux_dist_jammy/cpp/CMakeFiles/OpenDSSC_Common.dir/Plot/DSSPlot.cpp.o  \n",
            "  inflating: /content/py_dss_interface/examples/GoogleColab/OpenDSSVersions/opendss_linux_dist_jammy/cpp/CMakeFiles/OpenDSSC_Common.dir/Plot/DSSGraph.cpp.o.d  \n",
            "  inflating: /content/py_dss_interface/examples/GoogleColab/OpenDSSVersions/opendss_linux_dist_jammy/cpp/CMakeFiles/OpenDSSC_Common.dir/Plot/DSSGraph.cpp.o  \n",
            "  inflating: /content/py_dss_interface/examples/GoogleColab/OpenDSSVersions/opendss_linux_dist_jammy/cpp/CMakeFiles/OpenDSSC_Common.dir/Plot/DSSPlot.cpp.o.d  \n",
            "  inflating: /content/py_dss_interface/examples/GoogleColab/OpenDSSVersions/opendss_linux_dist_jammy/cpp/CMakeFiles/OpenDSSC_Common.dir/PCElements/GenUserModel.cpp.o  \n",
            "  inflating: /content/py_dss_interface/examples/GoogleColab/OpenDSSVersions/opendss_linux_dist_jammy/cpp/CMakeFiles/OpenDSSC_Common.dir/PCElements/generator.cpp.o.d  \n",
            "  inflating: /content/py_dss_interface/examples/GoogleColab/OpenDSSVersions/opendss_linux_dist_jammy/cpp/CMakeFiles/OpenDSSC_Common.dir/PCElements/GICsource.cpp.o.d  \n",
            "  inflating: /content/py_dss_interface/examples/GoogleColab/OpenDSSVersions/opendss_linux_dist_jammy/cpp/CMakeFiles/OpenDSSC_Common.dir/PCElements/Isource.cpp.o.d  \n",
            "  inflating: /content/py_dss_interface/examples/GoogleColab/OpenDSSVersions/opendss_linux_dist_jammy/cpp/CMakeFiles/OpenDSSC_Common.dir/PCElements/WindGen.cpp.o.d  \n",
            "  inflating: /content/py_dss_interface/examples/GoogleColab/OpenDSSVersions/opendss_linux_dist_jammy/cpp/CMakeFiles/OpenDSSC_Common.dir/PCElements/PCElement.cpp.o  \n",
            "  inflating: /content/py_dss_interface/examples/GoogleColab/OpenDSSVersions/opendss_linux_dist_jammy/cpp/CMakeFiles/OpenDSSC_Common.dir/PCElements/VSource.cpp.o.d  \n",
            "  inflating: /content/py_dss_interface/examples/GoogleColab/OpenDSSVersions/opendss_linux_dist_jammy/cpp/CMakeFiles/OpenDSSC_Common.dir/PCElements/WindGen.cpp.o  \n",
            "  inflating: /content/py_dss_interface/examples/GoogleColab/OpenDSSVersions/opendss_linux_dist_jammy/cpp/CMakeFiles/OpenDSSC_Common.dir/PCElements/WindGenUserModel.cpp.o.d  \n",
            "  inflating: /content/py_dss_interface/examples/GoogleColab/OpenDSSVersions/opendss_linux_dist_jammy/cpp/CMakeFiles/OpenDSSC_Common.dir/PCElements/generator.cpp.o  \n",
            "  inflating: /content/py_dss_interface/examples/GoogleColab/OpenDSSVersions/opendss_linux_dist_jammy/cpp/CMakeFiles/OpenDSSC_Common.dir/PCElements/GeneratorVars.cpp.o.d  \n",
            "  inflating: /content/py_dss_interface/examples/GoogleColab/OpenDSSVersions/opendss_linux_dist_jammy/cpp/CMakeFiles/OpenDSSC_Common.dir/PCElements/PVsystem.cpp.o.d  \n",
            "  inflating: /content/py_dss_interface/examples/GoogleColab/OpenDSSVersions/opendss_linux_dist_jammy/cpp/CMakeFiles/OpenDSSC_Common.dir/PCElements/WindGenVars.cpp.o.d  \n",
            "  inflating: /content/py_dss_interface/examples/GoogleColab/OpenDSSVersions/opendss_linux_dist_jammy/cpp/CMakeFiles/OpenDSSC_Common.dir/PCElements/PCClass.cpp.o  \n",
            "  inflating: /content/py_dss_interface/examples/GoogleColab/OpenDSSVersions/opendss_linux_dist_jammy/cpp/CMakeFiles/OpenDSSC_Common.dir/PCElements/GICLine.cpp.o  \n",
            "  inflating: /content/py_dss_interface/examples/GoogleColab/OpenDSSVersions/opendss_linux_dist_jammy/cpp/CMakeFiles/OpenDSSC_Common.dir/PCElements/Load.cpp.o  \n",
            "  inflating: /content/py_dss_interface/examples/GoogleColab/OpenDSSVersions/opendss_linux_dist_jammy/cpp/CMakeFiles/OpenDSSC_Common.dir/PCElements/Isource.cpp.o  \n",
            "  inflating: /content/py_dss_interface/examples/GoogleColab/OpenDSSVersions/opendss_linux_dist_jammy/cpp/CMakeFiles/OpenDSSC_Common.dir/PCElements/UPFC.cpp.o  \n",
            "  inflating: /content/py_dss_interface/examples/GoogleColab/OpenDSSVersions/opendss_linux_dist_jammy/cpp/CMakeFiles/OpenDSSC_Common.dir/PCElements/StoreUserModel.cpp.o  \n",
            "  inflating: /content/py_dss_interface/examples/GoogleColab/OpenDSSVersions/opendss_linux_dist_jammy/cpp/CMakeFiles/OpenDSSC_Common.dir/PCElements/Load.cpp.o.d  \n",
            "  inflating: /content/py_dss_interface/examples/GoogleColab/OpenDSSVersions/opendss_linux_dist_jammy/cpp/CMakeFiles/OpenDSSC_Common.dir/PCElements/Generic5OrderMach.cpp.o  \n",
            "  inflating: /content/py_dss_interface/examples/GoogleColab/OpenDSSVersions/opendss_linux_dist_jammy/cpp/CMakeFiles/OpenDSSC_Common.dir/PCElements/StorageVars.cpp.o.d  \n",
            "  inflating: /content/py_dss_interface/examples/GoogleColab/OpenDSSVersions/opendss_linux_dist_jammy/cpp/CMakeFiles/OpenDSSC_Common.dir/PCElements/Equivalent.cpp.o.d  \n",
            "  inflating: /content/py_dss_interface/examples/GoogleColab/OpenDSSVersions/opendss_linux_dist_jammy/cpp/CMakeFiles/OpenDSSC_Common.dir/PCElements/StoreUserModel.cpp.o.d  \n",
            "  inflating: /content/py_dss_interface/examples/GoogleColab/OpenDSSVersions/opendss_linux_dist_jammy/cpp/CMakeFiles/OpenDSSC_Common.dir/PCElements/Equivalent.cpp.o  \n",
            "  inflating: /content/py_dss_interface/examples/GoogleColab/OpenDSSVersions/opendss_linux_dist_jammy/cpp/CMakeFiles/OpenDSSC_Common.dir/PCElements/VSource.cpp.o  \n",
            "  inflating: /content/py_dss_interface/examples/GoogleColab/OpenDSSVersions/opendss_linux_dist_jammy/cpp/CMakeFiles/OpenDSSC_Common.dir/PCElements/PCClass.cpp.o.d  \n",
            "  inflating: /content/py_dss_interface/examples/GoogleColab/OpenDSSVersions/opendss_linux_dist_jammy/cpp/CMakeFiles/OpenDSSC_Common.dir/PCElements/VSConverter.cpp.o  \n",
            "  inflating: /content/py_dss_interface/examples/GoogleColab/OpenDSSVersions/opendss_linux_dist_jammy/cpp/CMakeFiles/OpenDSSC_Common.dir/PCElements/GICLine.cpp.o.d  \n",
            "  inflating: /content/py_dss_interface/examples/GoogleColab/OpenDSSVersions/opendss_linux_dist_jammy/cpp/CMakeFiles/OpenDSSC_Common.dir/PCElements/IndMach012.cpp.o.d  \n",
            "  inflating: /content/py_dss_interface/examples/GoogleColab/OpenDSSVersions/opendss_linux_dist_jammy/cpp/CMakeFiles/OpenDSSC_Common.dir/PCElements/Generic5OrderMach.cpp.o.d  \n",
            "  inflating: /content/py_dss_interface/examples/GoogleColab/OpenDSSVersions/opendss_linux_dist_jammy/cpp/CMakeFiles/OpenDSSC_Common.dir/PCElements/vccs.cpp.o.d  \n",
            "  inflating: /content/py_dss_interface/examples/GoogleColab/OpenDSSVersions/opendss_linux_dist_jammy/cpp/CMakeFiles/OpenDSSC_Common.dir/PCElements/WTG3_Model.cpp.o.d  \n",
            "  inflating: /content/py_dss_interface/examples/GoogleColab/OpenDSSVersions/opendss_linux_dist_jammy/cpp/CMakeFiles/OpenDSSC_Common.dir/PCElements/PVSystemUserModel.cpp.o  \n",
            "  inflating: /content/py_dss_interface/examples/GoogleColab/OpenDSSVersions/opendss_linux_dist_jammy/cpp/CMakeFiles/OpenDSSC_Common.dir/PCElements/StorageVars.cpp.o  \n",
            "  inflating: /content/py_dss_interface/examples/GoogleColab/OpenDSSVersions/opendss_linux_dist_jammy/cpp/CMakeFiles/OpenDSSC_Common.dir/PCElements/UPFC.cpp.o.d  \n",
            "  inflating: /content/py_dss_interface/examples/GoogleColab/OpenDSSVersions/opendss_linux_dist_jammy/cpp/CMakeFiles/OpenDSSC_Common.dir/PCElements/Storage.cpp.o  \n",
            "  inflating: /content/py_dss_interface/examples/GoogleColab/OpenDSSVersions/opendss_linux_dist_jammy/cpp/CMakeFiles/OpenDSSC_Common.dir/PCElements/WTG3_Model.cpp.o  \n",
            "  inflating: /content/py_dss_interface/examples/GoogleColab/OpenDSSVersions/opendss_linux_dist_jammy/cpp/CMakeFiles/OpenDSSC_Common.dir/PCElements/VSConverter.cpp.o.d  \n",
            "  inflating: /content/py_dss_interface/examples/GoogleColab/OpenDSSVersions/opendss_linux_dist_jammy/cpp/CMakeFiles/OpenDSSC_Common.dir/PCElements/GICsource.cpp.o  \n",
            "  inflating: /content/py_dss_interface/examples/GoogleColab/OpenDSSVersions/opendss_linux_dist_jammy/cpp/CMakeFiles/OpenDSSC_Common.dir/PCElements/PCElement.cpp.o.d  \n",
            "  inflating: /content/py_dss_interface/examples/GoogleColab/OpenDSSVersions/opendss_linux_dist_jammy/cpp/CMakeFiles/OpenDSSC_Common.dir/PCElements/PVsystem.cpp.o  \n",
            "  inflating: /content/py_dss_interface/examples/GoogleColab/OpenDSSVersions/opendss_linux_dist_jammy/cpp/CMakeFiles/OpenDSSC_Common.dir/PCElements/WindGenUserModel.cpp.o  \n",
            "  inflating: /content/py_dss_interface/examples/GoogleColab/OpenDSSVersions/opendss_linux_dist_jammy/cpp/CMakeFiles/OpenDSSC_Common.dir/PCElements/vccs.cpp.o  \n",
            "  inflating: /content/py_dss_interface/examples/GoogleColab/OpenDSSVersions/opendss_linux_dist_jammy/cpp/CMakeFiles/OpenDSSC_Common.dir/PCElements/PVSystemUserModel.cpp.o.d  \n",
            "  inflating: /content/py_dss_interface/examples/GoogleColab/OpenDSSVersions/opendss_linux_dist_jammy/cpp/CMakeFiles/OpenDSSC_Common.dir/PCElements/GenUserModel.cpp.o.d  \n",
            "  inflating: /content/py_dss_interface/examples/GoogleColab/OpenDSSVersions/opendss_linux_dist_jammy/cpp/CMakeFiles/OpenDSSC_Common.dir/PCElements/GeneratorVars.cpp.o  \n",
            "  inflating: /content/py_dss_interface/examples/GoogleColab/OpenDSSVersions/opendss_linux_dist_jammy/cpp/CMakeFiles/OpenDSSC_Common.dir/PCElements/Storage.cpp.o.d  \n",
            "  inflating: /content/py_dss_interface/examples/GoogleColab/OpenDSSVersions/opendss_linux_dist_jammy/cpp/CMakeFiles/OpenDSSC_Common.dir/PCElements/WindGenVars.cpp.o  \n",
            "  inflating: /content/py_dss_interface/examples/GoogleColab/OpenDSSVersions/opendss_linux_dist_jammy/cpp/CMakeFiles/OpenDSSC_Common.dir/PCElements/IndMach012.cpp.o  \n",
            "  inflating: /content/py_dss_interface/examples/GoogleColab/OpenDSSVersions/opendss_linux_dist_jammy/cpp/CMakeFiles/OpenDSSC_Common.dir/Meters/VLNodeVars.cpp.o  \n",
            "  inflating: /content/py_dss_interface/examples/GoogleColab/OpenDSSVersions/opendss_linux_dist_jammy/cpp/CMakeFiles/OpenDSSC_Common.dir/Meters/Monitor.cpp.o.d  \n",
            "  inflating: /content/py_dss_interface/examples/GoogleColab/OpenDSSVersions/opendss_linux_dist_jammy/cpp/CMakeFiles/OpenDSSC_Common.dir/Meters/MeterClass.cpp.o.d  \n",
            "  inflating: /content/py_dss_interface/examples/GoogleColab/OpenDSSVersions/opendss_linux_dist_jammy/cpp/CMakeFiles/OpenDSSC_Common.dir/Meters/Monitor.cpp.o  \n",
            "  inflating: /content/py_dss_interface/examples/GoogleColab/OpenDSSVersions/opendss_linux_dist_jammy/cpp/CMakeFiles/OpenDSSC_Common.dir/Meters/MeterClass.cpp.o  \n",
            "  inflating: /content/py_dss_interface/examples/GoogleColab/OpenDSSVersions/opendss_linux_dist_jammy/cpp/CMakeFiles/OpenDSSC_Common.dir/Meters/MeterElement.cpp.o  \n",
            "  inflating: /content/py_dss_interface/examples/GoogleColab/OpenDSSVersions/opendss_linux_dist_jammy/cpp/CMakeFiles/OpenDSSC_Common.dir/Meters/EnergyMeter.cpp.o  \n",
            "  inflating: /content/py_dss_interface/examples/GoogleColab/OpenDSSVersions/opendss_linux_dist_jammy/cpp/CMakeFiles/OpenDSSC_Common.dir/Meters/fMonitor.cpp.o  \n",
            "  inflating: /content/py_dss_interface/examples/GoogleColab/OpenDSSVersions/opendss_linux_dist_jammy/cpp/CMakeFiles/OpenDSSC_Common.dir/Meters/fMonitor.cpp.o.d  \n",
            "  inflating: /content/py_dss_interface/examples/GoogleColab/OpenDSSVersions/opendss_linux_dist_jammy/cpp/CMakeFiles/OpenDSSC_Common.dir/Meters/VLNodeVars.cpp.o.d  \n",
            "  inflating: /content/py_dss_interface/examples/GoogleColab/OpenDSSVersions/opendss_linux_dist_jammy/cpp/CMakeFiles/OpenDSSC_Common.dir/Meters/Sensor.cpp.o  \n",
            "  inflating: /content/py_dss_interface/examples/GoogleColab/OpenDSSVersions/opendss_linux_dist_jammy/cpp/CMakeFiles/OpenDSSC_Common.dir/Meters/ReduceAlgs.cpp.o  \n",
            "  inflating: /content/py_dss_interface/examples/GoogleColab/OpenDSSVersions/opendss_linux_dist_jammy/cpp/CMakeFiles/OpenDSSC_Common.dir/Meters/Sensor.cpp.o.d  \n",
            "  inflating: /content/py_dss_interface/examples/GoogleColab/OpenDSSVersions/opendss_linux_dist_jammy/cpp/CMakeFiles/OpenDSSC_Common.dir/Meters/MeterElement.cpp.o.d  \n",
            "  inflating: /content/py_dss_interface/examples/GoogleColab/OpenDSSVersions/opendss_linux_dist_jammy/cpp/CMakeFiles/OpenDSSC_Common.dir/Meters/ReduceAlgs.cpp.o.d  \n",
            "  inflating: /content/py_dss_interface/examples/GoogleColab/OpenDSSVersions/opendss_linux_dist_jammy/cpp/CMakeFiles/OpenDSSC_Common.dir/Meters/MemoryMap_lib.cpp.o.d  \n",
            "  inflating: /content/py_dss_interface/examples/GoogleColab/OpenDSSVersions/opendss_linux_dist_jammy/cpp/CMakeFiles/OpenDSSC_Common.dir/Meters/MemoryMap_lib.cpp.o  \n",
            "  inflating: /content/py_dss_interface/examples/GoogleColab/OpenDSSVersions/opendss_linux_dist_jammy/cpp/CMakeFiles/OpenDSSC_Common.dir/Meters/EnergyMeter.cpp.o.d  \n",
            "  inflating: /content/py_dss_interface/examples/GoogleColab/OpenDSSVersions/opendss_linux_dist_jammy/cpp/CMakeFiles/OpenDSSC_Common.dir/Parser/RPN.cpp.o  \n",
            "  inflating: /content/py_dss_interface/examples/GoogleColab/OpenDSSVersions/opendss_linux_dist_jammy/cpp/CMakeFiles/OpenDSSC_Common.dir/Parser/RPN.cpp.o.d  \n",
            "  inflating: /content/py_dss_interface/examples/GoogleColab/OpenDSSVersions/opendss_linux_dist_jammy/cpp/CMakeFiles/OpenDSSC_Common.dir/Parser/ParserDel.cpp.o  \n",
            "  inflating: /content/py_dss_interface/examples/GoogleColab/OpenDSSVersions/opendss_linux_dist_jammy/cpp/CMakeFiles/OpenDSSC_Common.dir/Parser/ParserDel.cpp.o.d  \n",
            "   creating: /content/py_dss_interface/examples/GoogleColab/OpenDSSVersions/opendss_linux_dist_jammy/cpp/klusolve/CMakeFiles/\n",
            "  inflating: /content/py_dss_interface/examples/GoogleColab/OpenDSSVersions/opendss_linux_dist_jammy/cpp/klusolve/Makefile  \n",
            "  inflating: /content/py_dss_interface/examples/GoogleColab/OpenDSSVersions/opendss_linux_dist_jammy/cpp/klusolve/cmake_install.cmake  \n",
            "   creating: /content/py_dss_interface/examples/GoogleColab/OpenDSSVersions/opendss_linux_dist_jammy/cpp/klusolve/CMakeFiles/klusolve_all.dir/\n",
            "  inflating: /content/py_dss_interface/examples/GoogleColab/OpenDSSVersions/opendss_linux_dist_jammy/cpp/klusolve/CMakeFiles/progress.marks  \n",
            "  inflating: /content/py_dss_interface/examples/GoogleColab/OpenDSSVersions/opendss_linux_dist_jammy/cpp/klusolve/CMakeFiles/CMakeDirectoryInformation.cmake  \n",
            "   creating: /content/py_dss_interface/examples/GoogleColab/OpenDSSVersions/opendss_linux_dist_jammy/cpp/klusolve/CMakeFiles/klusolve_all.dir/AMD/\n",
            "   creating: /content/py_dss_interface/examples/GoogleColab/OpenDSSVersions/opendss_linux_dist_jammy/cpp/klusolve/CMakeFiles/klusolve_all.dir/BTF/\n",
            "   creating: /content/py_dss_interface/examples/GoogleColab/OpenDSSVersions/opendss_linux_dist_jammy/cpp/klusolve/CMakeFiles/klusolve_all.dir/COLAMD/\n",
            "   creating: /content/py_dss_interface/examples/GoogleColab/OpenDSSVersions/opendss_linux_dist_jammy/cpp/klusolve/CMakeFiles/klusolve_all.dir/CSparse/\n",
            "   creating: /content/py_dss_interface/examples/GoogleColab/OpenDSSVersions/opendss_linux_dist_jammy/cpp/klusolve/CMakeFiles/klusolve_all.dir/CZSparse/\n",
            "   creating: /content/py_dss_interface/examples/GoogleColab/OpenDSSVersions/opendss_linux_dist_jammy/cpp/klusolve/CMakeFiles/klusolve_all.dir/KLU/\n",
            "   creating: /content/py_dss_interface/examples/GoogleColab/OpenDSSVersions/opendss_linux_dist_jammy/cpp/klusolve/CMakeFiles/klusolve_all.dir/KLUSolve/\n",
            "   creating: /content/py_dss_interface/examples/GoogleColab/OpenDSSVersions/opendss_linux_dist_jammy/cpp/klusolve/CMakeFiles/klusolve_all.dir/UFconfig/\n",
            "  inflating: /content/py_dss_interface/examples/GoogleColab/OpenDSSVersions/opendss_linux_dist_jammy/cpp/klusolve/CMakeFiles/klusolve_all.dir/compiler_depend.make  \n",
            "  inflating: /content/py_dss_interface/examples/GoogleColab/OpenDSSVersions/opendss_linux_dist_jammy/cpp/klusolve/CMakeFiles/klusolve_all.dir/progress.make  \n",
            "  inflating: /content/py_dss_interface/examples/GoogleColab/OpenDSSVersions/opendss_linux_dist_jammy/cpp/klusolve/CMakeFiles/klusolve_all.dir/depend.make  \n",
            "  inflating: /content/py_dss_interface/examples/GoogleColab/OpenDSSVersions/opendss_linux_dist_jammy/cpp/klusolve/CMakeFiles/klusolve_all.dir/link.txt  \n",
            "  inflating: /content/py_dss_interface/examples/GoogleColab/OpenDSSVersions/opendss_linux_dist_jammy/cpp/klusolve/CMakeFiles/klusolve_all.dir/flags.make  \n",
            "  inflating: /content/py_dss_interface/examples/GoogleColab/OpenDSSVersions/opendss_linux_dist_jammy/cpp/klusolve/CMakeFiles/klusolve_all.dir/DependInfo.cmake  \n",
            "  inflating: /content/py_dss_interface/examples/GoogleColab/OpenDSSVersions/opendss_linux_dist_jammy/cpp/klusolve/CMakeFiles/klusolve_all.dir/build.make  \n",
            "  inflating: /content/py_dss_interface/examples/GoogleColab/OpenDSSVersions/opendss_linux_dist_jammy/cpp/klusolve/CMakeFiles/klusolve_all.dir/cmake_clean.cmake  \n",
            "  inflating: /content/py_dss_interface/examples/GoogleColab/OpenDSSVersions/opendss_linux_dist_jammy/cpp/klusolve/CMakeFiles/klusolve_all.dir/compiler_depend.ts  \n",
            "   creating: /content/py_dss_interface/examples/GoogleColab/OpenDSSVersions/opendss_linux_dist_jammy/cpp/klusolve/CMakeFiles/klusolve_all.dir/AMD/Source/\n",
            "  inflating: /content/py_dss_interface/examples/GoogleColab/OpenDSSVersions/opendss_linux_dist_jammy/cpp/klusolve/CMakeFiles/klusolve_all.dir/AMD/Source/amd_l_2.c.o  \n",
            "  inflating: /content/py_dss_interface/examples/GoogleColab/OpenDSSVersions/opendss_linux_dist_jammy/cpp/klusolve/CMakeFiles/klusolve_all.dir/AMD/Source/amd_l_defaults.c.o.d  \n",
            "  inflating: /content/py_dss_interface/examples/GoogleColab/OpenDSSVersions/opendss_linux_dist_jammy/cpp/klusolve/CMakeFiles/klusolve_all.dir/AMD/Source/amd_l_info.c.o.d  \n",
            "  inflating: /content/py_dss_interface/examples/GoogleColab/OpenDSSVersions/opendss_linux_dist_jammy/cpp/klusolve/CMakeFiles/klusolve_all.dir/AMD/Source/amd_i_order.c.o  \n",
            "  inflating: /content/py_dss_interface/examples/GoogleColab/OpenDSSVersions/opendss_linux_dist_jammy/cpp/klusolve/CMakeFiles/klusolve_all.dir/AMD/Source/amd_l_post_tree.c.o  \n",
            "  inflating: /content/py_dss_interface/examples/GoogleColab/OpenDSSVersions/opendss_linux_dist_jammy/cpp/klusolve/CMakeFiles/klusolve_all.dir/AMD/Source/amd_l_info.c.o  \n",
            "  inflating: /content/py_dss_interface/examples/GoogleColab/OpenDSSVersions/opendss_linux_dist_jammy/cpp/klusolve/CMakeFiles/klusolve_all.dir/AMD/Source/amd_i_postorder.c.o  \n",
            "  inflating: /content/py_dss_interface/examples/GoogleColab/OpenDSSVersions/opendss_linux_dist_jammy/cpp/klusolve/CMakeFiles/klusolve_all.dir/AMD/Source/amd_l_1.c.o  \n",
            "  inflating: /content/py_dss_interface/examples/GoogleColab/OpenDSSVersions/opendss_linux_dist_jammy/cpp/klusolve/CMakeFiles/klusolve_all.dir/AMD/Source/amd_i_1.c.o.d  \n",
            "  inflating: /content/py_dss_interface/examples/GoogleColab/OpenDSSVersions/opendss_linux_dist_jammy/cpp/klusolve/CMakeFiles/klusolve_all.dir/AMD/Source/amd_l_valid.c.o  \n",
            "  inflating: /content/py_dss_interface/examples/GoogleColab/OpenDSSVersions/opendss_linux_dist_jammy/cpp/klusolve/CMakeFiles/klusolve_all.dir/AMD/Source/amd_l_2.c.o.d  \n",
            "  inflating: /content/py_dss_interface/examples/GoogleColab/OpenDSSVersions/opendss_linux_dist_jammy/cpp/klusolve/CMakeFiles/klusolve_all.dir/AMD/Source/amd_l_control.c.o  \n",
            "  inflating: /content/py_dss_interface/examples/GoogleColab/OpenDSSVersions/opendss_linux_dist_jammy/cpp/klusolve/CMakeFiles/klusolve_all.dir/AMD/Source/amd_l_postorder.c.o.d  \n",
            "  inflating: /content/py_dss_interface/examples/GoogleColab/OpenDSSVersions/opendss_linux_dist_jammy/cpp/klusolve/CMakeFiles/klusolve_all.dir/AMD/Source/amd_i_info.c.o  \n",
            "  inflating: /content/py_dss_interface/examples/GoogleColab/OpenDSSVersions/opendss_linux_dist_jammy/cpp/klusolve/CMakeFiles/klusolve_all.dir/AMD/Source/amd_i_valid.c.o.d  \n",
            "  inflating: /content/py_dss_interface/examples/GoogleColab/OpenDSSVersions/opendss_linux_dist_jammy/cpp/klusolve/CMakeFiles/klusolve_all.dir/AMD/Source/amd_i_defaults.c.o.d  \n",
            "  inflating: /content/py_dss_interface/examples/GoogleColab/OpenDSSVersions/opendss_linux_dist_jammy/cpp/klusolve/CMakeFiles/klusolve_all.dir/AMD/Source/amd_l_dump.c.o  \n",
            "  inflating: /content/py_dss_interface/examples/GoogleColab/OpenDSSVersions/opendss_linux_dist_jammy/cpp/klusolve/CMakeFiles/klusolve_all.dir/AMD/Source/amd_i_preprocess.c.o  \n",
            "  inflating: /content/py_dss_interface/examples/GoogleColab/OpenDSSVersions/opendss_linux_dist_jammy/cpp/klusolve/CMakeFiles/klusolve_all.dir/AMD/Source/amd_l_valid.c.o.d  \n",
            "  inflating: /content/py_dss_interface/examples/GoogleColab/OpenDSSVersions/opendss_linux_dist_jammy/cpp/klusolve/CMakeFiles/klusolve_all.dir/AMD/Source/amd_l_aat.c.o.d  \n",
            "  inflating: /content/py_dss_interface/examples/GoogleColab/OpenDSSVersions/opendss_linux_dist_jammy/cpp/klusolve/CMakeFiles/klusolve_all.dir/AMD/Source/amd_l_postorder.c.o  \n",
            "  inflating: /content/py_dss_interface/examples/GoogleColab/OpenDSSVersions/opendss_linux_dist_jammy/cpp/klusolve/CMakeFiles/klusolve_all.dir/AMD/Source/amd_i_order.c.o.d  \n",
            "  inflating: /content/py_dss_interface/examples/GoogleColab/OpenDSSVersions/opendss_linux_dist_jammy/cpp/klusolve/CMakeFiles/klusolve_all.dir/AMD/Source/amd_i_2.c.o.d  \n",
            "  inflating: /content/py_dss_interface/examples/GoogleColab/OpenDSSVersions/opendss_linux_dist_jammy/cpp/klusolve/CMakeFiles/klusolve_all.dir/AMD/Source/amd_i_2.c.o  \n",
            "  inflating: /content/py_dss_interface/examples/GoogleColab/OpenDSSVersions/opendss_linux_dist_jammy/cpp/klusolve/CMakeFiles/klusolve_all.dir/AMD/Source/amd_l_post_tree.c.o.d  \n",
            "  inflating: /content/py_dss_interface/examples/GoogleColab/OpenDSSVersions/opendss_linux_dist_jammy/cpp/klusolve/CMakeFiles/klusolve_all.dir/AMD/Source/amd_i_post_tree.c.o  \n",
            "  inflating: /content/py_dss_interface/examples/GoogleColab/OpenDSSVersions/opendss_linux_dist_jammy/cpp/klusolve/CMakeFiles/klusolve_all.dir/AMD/Source/amd_i_aat.c.o  \n",
            "  inflating: /content/py_dss_interface/examples/GoogleColab/OpenDSSVersions/opendss_linux_dist_jammy/cpp/klusolve/CMakeFiles/klusolve_all.dir/AMD/Source/amd_l_preprocess.c.o  \n",
            "  inflating: /content/py_dss_interface/examples/GoogleColab/OpenDSSVersions/opendss_linux_dist_jammy/cpp/klusolve/CMakeFiles/klusolve_all.dir/AMD/Source/amd_global.c.o.d  \n",
            "  inflating: /content/py_dss_interface/examples/GoogleColab/OpenDSSVersions/opendss_linux_dist_jammy/cpp/klusolve/CMakeFiles/klusolve_all.dir/AMD/Source/amd_i_1.c.o  \n",
            "  inflating: /content/py_dss_interface/examples/GoogleColab/OpenDSSVersions/opendss_linux_dist_jammy/cpp/klusolve/CMakeFiles/klusolve_all.dir/AMD/Source/amd_l_order.c.o.d  \n",
            "  inflating: /content/py_dss_interface/examples/GoogleColab/OpenDSSVersions/opendss_linux_dist_jammy/cpp/klusolve/CMakeFiles/klusolve_all.dir/AMD/Source/amd_i_valid.c.o  \n",
            "  inflating: /content/py_dss_interface/examples/GoogleColab/OpenDSSVersions/opendss_linux_dist_jammy/cpp/klusolve/CMakeFiles/klusolve_all.dir/AMD/Source/amd_l_order.c.o  \n",
            "  inflating: /content/py_dss_interface/examples/GoogleColab/OpenDSSVersions/opendss_linux_dist_jammy/cpp/klusolve/CMakeFiles/klusolve_all.dir/AMD/Source/amd_l_control.c.o.d  \n",
            "  inflating: /content/py_dss_interface/examples/GoogleColab/OpenDSSVersions/opendss_linux_dist_jammy/cpp/klusolve/CMakeFiles/klusolve_all.dir/AMD/Source/amd_i_control.c.o  \n",
            "  inflating: /content/py_dss_interface/examples/GoogleColab/OpenDSSVersions/opendss_linux_dist_jammy/cpp/klusolve/CMakeFiles/klusolve_all.dir/AMD/Source/amd_l_1.c.o.d  \n",
            "  inflating: /content/py_dss_interface/examples/GoogleColab/OpenDSSVersions/opendss_linux_dist_jammy/cpp/klusolve/CMakeFiles/klusolve_all.dir/AMD/Source/amd_l_aat.c.o  \n",
            "  inflating: /content/py_dss_interface/examples/GoogleColab/OpenDSSVersions/opendss_linux_dist_jammy/cpp/klusolve/CMakeFiles/klusolve_all.dir/AMD/Source/amd_i_postorder.c.o.d  \n",
            "  inflating: /content/py_dss_interface/examples/GoogleColab/OpenDSSVersions/opendss_linux_dist_jammy/cpp/klusolve/CMakeFiles/klusolve_all.dir/AMD/Source/amd_i_control.c.o.d  \n",
            "  inflating: /content/py_dss_interface/examples/GoogleColab/OpenDSSVersions/opendss_linux_dist_jammy/cpp/klusolve/CMakeFiles/klusolve_all.dir/AMD/Source/amd_i_defaults.c.o  \n",
            "  inflating: /content/py_dss_interface/examples/GoogleColab/OpenDSSVersions/opendss_linux_dist_jammy/cpp/klusolve/CMakeFiles/klusolve_all.dir/AMD/Source/amd_global.c.o  \n",
            "  inflating: /content/py_dss_interface/examples/GoogleColab/OpenDSSVersions/opendss_linux_dist_jammy/cpp/klusolve/CMakeFiles/klusolve_all.dir/AMD/Source/amd_l_dump.c.o.d  \n",
            "  inflating: /content/py_dss_interface/examples/GoogleColab/OpenDSSVersions/opendss_linux_dist_jammy/cpp/klusolve/CMakeFiles/klusolve_all.dir/AMD/Source/amd_i_post_tree.c.o.d  \n",
            "  inflating: /content/py_dss_interface/examples/GoogleColab/OpenDSSVersions/opendss_linux_dist_jammy/cpp/klusolve/CMakeFiles/klusolve_all.dir/AMD/Source/amd_i_dump.c.o.d  \n",
            "  inflating: /content/py_dss_interface/examples/GoogleColab/OpenDSSVersions/opendss_linux_dist_jammy/cpp/klusolve/CMakeFiles/klusolve_all.dir/AMD/Source/amd_i_dump.c.o  \n",
            "  inflating: /content/py_dss_interface/examples/GoogleColab/OpenDSSVersions/opendss_linux_dist_jammy/cpp/klusolve/CMakeFiles/klusolve_all.dir/AMD/Source/amd_i_info.c.o.d  \n",
            "  inflating: /content/py_dss_interface/examples/GoogleColab/OpenDSSVersions/opendss_linux_dist_jammy/cpp/klusolve/CMakeFiles/klusolve_all.dir/AMD/Source/amd_l_defaults.c.o  \n",
            "  inflating: /content/py_dss_interface/examples/GoogleColab/OpenDSSVersions/opendss_linux_dist_jammy/cpp/klusolve/CMakeFiles/klusolve_all.dir/AMD/Source/amd_l_preprocess.c.o.d  \n",
            "  inflating: /content/py_dss_interface/examples/GoogleColab/OpenDSSVersions/opendss_linux_dist_jammy/cpp/klusolve/CMakeFiles/klusolve_all.dir/AMD/Source/amd_i_preprocess.c.o.d  \n",
            "  inflating: /content/py_dss_interface/examples/GoogleColab/OpenDSSVersions/opendss_linux_dist_jammy/cpp/klusolve/CMakeFiles/klusolve_all.dir/AMD/Source/amd_i_aat.c.o.d  \n",
            "  inflating: /content/py_dss_interface/examples/GoogleColab/OpenDSSVersions/opendss_linux_dist_jammy/cpp/klusolve/CMakeFiles/klusolve_all.dir/UFconfig/UFconfig.c.o  \n",
            "  inflating: /content/py_dss_interface/examples/GoogleColab/OpenDSSVersions/opendss_linux_dist_jammy/cpp/klusolve/CMakeFiles/klusolve_all.dir/UFconfig/UFconfig.c.o.d  \n",
            "   creating: /content/py_dss_interface/examples/GoogleColab/OpenDSSVersions/opendss_linux_dist_jammy/cpp/klusolve/CMakeFiles/klusolve_all.dir/KLU/Source/\n",
            "  inflating: /content/py_dss_interface/examples/GoogleColab/OpenDSSVersions/opendss_linux_dist_jammy/cpp/klusolve/CMakeFiles/klusolve_all.dir/KLU/Source/klu_sort.c.o  \n",
            "  inflating: /content/py_dss_interface/examples/GoogleColab/OpenDSSVersions/opendss_linux_dist_jammy/cpp/klusolve/CMakeFiles/klusolve_all.dir/KLU/Source/klu_z_factor.c.o.d  \n",
            "  inflating: /content/py_dss_interface/examples/GoogleColab/OpenDSSVersions/opendss_linux_dist_jammy/cpp/klusolve/CMakeFiles/klusolve_all.dir/KLU/Source/klu_l_scale.c.o  \n",
            "  inflating: /content/py_dss_interface/examples/GoogleColab/OpenDSSVersions/opendss_linux_dist_jammy/cpp/klusolve/CMakeFiles/klusolve_all.dir/KLU/Source/klu_l_free_numeric.c.o.d  \n",
            "  inflating: /content/py_dss_interface/examples/GoogleColab/OpenDSSVersions/opendss_linux_dist_jammy/cpp/klusolve/CMakeFiles/klusolve_all.dir/KLU/Source/klu_free_numeric.c.o.d  \n",
            "  inflating: /content/py_dss_interface/examples/GoogleColab/OpenDSSVersions/opendss_linux_dist_jammy/cpp/klusolve/CMakeFiles/klusolve_all.dir/KLU/Source/klu_factor.c.o.d  \n",
            "  inflating: /content/py_dss_interface/examples/GoogleColab/OpenDSSVersions/opendss_linux_dist_jammy/cpp/klusolve/CMakeFiles/klusolve_all.dir/KLU/Source/klu_l_kernel.c.o  \n",
            "  inflating: /content/py_dss_interface/examples/GoogleColab/OpenDSSVersions/opendss_linux_dist_jammy/cpp/klusolve/CMakeFiles/klusolve_all.dir/KLU/Source/klu_l_scale.c.o.d  \n",
            "  inflating: /content/py_dss_interface/examples/GoogleColab/OpenDSSVersions/opendss_linux_dist_jammy/cpp/klusolve/CMakeFiles/klusolve_all.dir/KLU/Source/klu_tsolve.c.o.d  \n",
            "  inflating: /content/py_dss_interface/examples/GoogleColab/OpenDSSVersions/opendss_linux_dist_jammy/cpp/klusolve/CMakeFiles/klusolve_all.dir/KLU/Source/klu_z_kernel.c.o  \n",
            "  inflating: /content/py_dss_interface/examples/GoogleColab/OpenDSSVersions/opendss_linux_dist_jammy/cpp/klusolve/CMakeFiles/klusolve_all.dir/KLU/Source/klu_solve.c.o.d  \n",
            "  inflating: /content/py_dss_interface/examples/GoogleColab/OpenDSSVersions/opendss_linux_dist_jammy/cpp/klusolve/CMakeFiles/klusolve_all.dir/KLU/Source/klu_z_free_numeric.c.o  \n",
            "  inflating: /content/py_dss_interface/examples/GoogleColab/OpenDSSVersions/opendss_linux_dist_jammy/cpp/klusolve/CMakeFiles/klusolve_all.dir/KLU/Source/klu_zl_scale.c.o  \n",
            "  inflating: /content/py_dss_interface/examples/GoogleColab/OpenDSSVersions/opendss_linux_dist_jammy/cpp/klusolve/CMakeFiles/klusolve_all.dir/KLU/Source/klu_zl_kernel.c.o.d  \n",
            "  inflating: /content/py_dss_interface/examples/GoogleColab/OpenDSSVersions/opendss_linux_dist_jammy/cpp/klusolve/CMakeFiles/klusolve_all.dir/KLU/Source/klu_tsolve.c.o  \n",
            "  inflating: /content/py_dss_interface/examples/GoogleColab/OpenDSSVersions/opendss_linux_dist_jammy/cpp/klusolve/CMakeFiles/klusolve_all.dir/KLU/Source/klu.c.o.d  \n",
            "  inflating: /content/py_dss_interface/examples/GoogleColab/OpenDSSVersions/opendss_linux_dist_jammy/cpp/klusolve/CMakeFiles/klusolve_all.dir/KLU/Source/klu_analyze.c.o.d  \n",
            "  inflating: /content/py_dss_interface/examples/GoogleColab/OpenDSSVersions/opendss_linux_dist_jammy/cpp/klusolve/CMakeFiles/klusolve_all.dir/KLU/Source/klu_l_sort.c.o.d  \n",
            "  inflating: /content/py_dss_interface/examples/GoogleColab/OpenDSSVersions/opendss_linux_dist_jammy/cpp/klusolve/CMakeFiles/klusolve_all.dir/KLU/Source/klu_diagnostics.c.o  \n",
            "  inflating: /content/py_dss_interface/examples/GoogleColab/OpenDSSVersions/opendss_linux_dist_jammy/cpp/klusolve/CMakeFiles/klusolve_all.dir/KLU/Source/klu_zl_dump.c.o  \n",
            "  inflating: /content/py_dss_interface/examples/GoogleColab/OpenDSSVersions/opendss_linux_dist_jammy/cpp/klusolve/CMakeFiles/klusolve_all.dir/KLU/Source/klu_l.c.o  \n",
            "  inflating: /content/py_dss_interface/examples/GoogleColab/OpenDSSVersions/opendss_linux_dist_jammy/cpp/klusolve/CMakeFiles/klusolve_all.dir/KLU/Source/klu_zl_sort.c.o.d  \n",
            "  inflating: /content/py_dss_interface/examples/GoogleColab/OpenDSSVersions/opendss_linux_dist_jammy/cpp/klusolve/CMakeFiles/klusolve_all.dir/KLU/Source/klu_l_analyze_given.c.o.d  \n",
            "  inflating: /content/py_dss_interface/examples/GoogleColab/OpenDSSVersions/opendss_linux_dist_jammy/cpp/klusolve/CMakeFiles/klusolve_all.dir/KLU/Source/klu_l_free_numeric.c.o  \n",
            "  inflating: /content/py_dss_interface/examples/GoogleColab/OpenDSSVersions/opendss_linux_dist_jammy/cpp/klusolve/CMakeFiles/klusolve_all.dir/KLU/Source/klu_extract.c.o.d  \n",
            "  inflating: /content/py_dss_interface/examples/GoogleColab/OpenDSSVersions/opendss_linux_dist_jammy/cpp/klusolve/CMakeFiles/klusolve_all.dir/KLU/Source/klu_l_sort.c.o  \n",
            "  inflating: /content/py_dss_interface/examples/GoogleColab/OpenDSSVersions/opendss_linux_dist_jammy/cpp/klusolve/CMakeFiles/klusolve_all.dir/KLU/Source/klu_scale.c.o.d  \n",
            "  inflating: /content/py_dss_interface/examples/GoogleColab/OpenDSSVersions/opendss_linux_dist_jammy/cpp/klusolve/CMakeFiles/klusolve_all.dir/KLU/Source/klu_l_analyze_given.c.o  \n",
            "  inflating: /content/py_dss_interface/examples/GoogleColab/OpenDSSVersions/opendss_linux_dist_jammy/cpp/klusolve/CMakeFiles/klusolve_all.dir/KLU/Source/klu_z_extract.c.o  \n",
            "  inflating: /content/py_dss_interface/examples/GoogleColab/OpenDSSVersions/opendss_linux_dist_jammy/cpp/klusolve/CMakeFiles/klusolve_all.dir/KLU/Source/klu_l_analyze.c.o  \n",
            "  inflating: /content/py_dss_interface/examples/GoogleColab/OpenDSSVersions/opendss_linux_dist_jammy/cpp/klusolve/CMakeFiles/klusolve_all.dir/KLU/Source/klu_l_refactor.c.o.d  \n",
            "  inflating: /content/py_dss_interface/examples/GoogleColab/OpenDSSVersions/opendss_linux_dist_jammy/cpp/klusolve/CMakeFiles/klusolve_all.dir/KLU/Source/klu.c.o  \n",
            "  inflating: /content/py_dss_interface/examples/GoogleColab/OpenDSSVersions/opendss_linux_dist_jammy/cpp/klusolve/CMakeFiles/klusolve_all.dir/KLU/Source/klu_zl_free_numeric.c.o.d  \n",
            "  inflating: /content/py_dss_interface/examples/GoogleColab/OpenDSSVersions/opendss_linux_dist_jammy/cpp/klusolve/CMakeFiles/klusolve_all.dir/KLU/Source/klu_zl_refactor.c.o.d  \n",
            "  inflating: /content/py_dss_interface/examples/GoogleColab/OpenDSSVersions/opendss_linux_dist_jammy/cpp/klusolve/CMakeFiles/klusolve_all.dir/KLU/Source/klu_z_tsolve.c.o  \n",
            "  inflating: /content/py_dss_interface/examples/GoogleColab/OpenDSSVersions/opendss_linux_dist_jammy/cpp/klusolve/CMakeFiles/klusolve_all.dir/KLU/Source/klu_zl_diagnostics.c.o.d  \n",
            "  inflating: /content/py_dss_interface/examples/GoogleColab/OpenDSSVersions/opendss_linux_dist_jammy/cpp/klusolve/CMakeFiles/klusolve_all.dir/KLU/Source/klu_l_extract.c.o  \n",
            "  inflating: /content/py_dss_interface/examples/GoogleColab/OpenDSSVersions/opendss_linux_dist_jammy/cpp/klusolve/CMakeFiles/klusolve_all.dir/KLU/Source/klu_dump.c.o.d  \n",
            "  inflating: /content/py_dss_interface/examples/GoogleColab/OpenDSSVersions/opendss_linux_dist_jammy/cpp/klusolve/CMakeFiles/klusolve_all.dir/KLU/Source/klu_free_numeric.c.o  \n",
            "  inflating: /content/py_dss_interface/examples/GoogleColab/OpenDSSVersions/opendss_linux_dist_jammy/cpp/klusolve/CMakeFiles/klusolve_all.dir/KLU/Source/klu_zl_factor.c.o  \n",
            "  inflating: /content/py_dss_interface/examples/GoogleColab/OpenDSSVersions/opendss_linux_dist_jammy/cpp/klusolve/CMakeFiles/klusolve_all.dir/KLU/Source/klu_z_refactor.c.o  \n",
            "  inflating: /content/py_dss_interface/examples/GoogleColab/OpenDSSVersions/opendss_linux_dist_jammy/cpp/klusolve/CMakeFiles/klusolve_all.dir/KLU/Source/klu_zl_sort.c.o  \n",
            "  inflating: /content/py_dss_interface/examples/GoogleColab/OpenDSSVersions/opendss_linux_dist_jammy/cpp/klusolve/CMakeFiles/klusolve_all.dir/KLU/Source/klu_l_dump.c.o  \n",
            "  inflating: /content/py_dss_interface/examples/GoogleColab/OpenDSSVersions/opendss_linux_dist_jammy/cpp/klusolve/CMakeFiles/klusolve_all.dir/KLU/Source/klu_solve.c.o  \n",
            "  inflating: /content/py_dss_interface/examples/GoogleColab/OpenDSSVersions/opendss_linux_dist_jammy/cpp/klusolve/CMakeFiles/klusolve_all.dir/KLU/Source/klu_z_factor.c.o  \n",
            "  inflating: /content/py_dss_interface/examples/GoogleColab/OpenDSSVersions/opendss_linux_dist_jammy/cpp/klusolve/CMakeFiles/klusolve_all.dir/KLU/Source/klu_z_solve.c.o.d  \n",
            "  inflating: /content/py_dss_interface/examples/GoogleColab/OpenDSSVersions/opendss_linux_dist_jammy/cpp/klusolve/CMakeFiles/klusolve_all.dir/KLU/Source/klu_zl_refactor.c.o  \n",
            "  inflating: /content/py_dss_interface/examples/GoogleColab/OpenDSSVersions/opendss_linux_dist_jammy/cpp/klusolve/CMakeFiles/klusolve_all.dir/KLU/Source/klu_kernel.c.o  \n",
            "  inflating: /content/py_dss_interface/examples/GoogleColab/OpenDSSVersions/opendss_linux_dist_jammy/cpp/klusolve/CMakeFiles/klusolve_all.dir/KLU/Source/klu_defaults.c.o.d  \n",
            "  inflating: /content/py_dss_interface/examples/GoogleColab/OpenDSSVersions/opendss_linux_dist_jammy/cpp/klusolve/CMakeFiles/klusolve_all.dir/KLU/Source/klu_l_refactor.c.o  \n",
            "  inflating: /content/py_dss_interface/examples/GoogleColab/OpenDSSVersions/opendss_linux_dist_jammy/cpp/klusolve/CMakeFiles/klusolve_all.dir/KLU/Source/klu_kernel.c.o.d  \n",
            "  inflating: /content/py_dss_interface/examples/GoogleColab/OpenDSSVersions/opendss_linux_dist_jammy/cpp/klusolve/CMakeFiles/klusolve_all.dir/KLU/Source/klu_z_kernel.c.o.d  \n",
            "  inflating: /content/py_dss_interface/examples/GoogleColab/OpenDSSVersions/opendss_linux_dist_jammy/cpp/klusolve/CMakeFiles/klusolve_all.dir/KLU/Source/klu_z.c.o.d  \n",
            "  inflating: /content/py_dss_interface/examples/GoogleColab/OpenDSSVersions/opendss_linux_dist_jammy/cpp/klusolve/CMakeFiles/klusolve_all.dir/KLU/Source/klu_l_solve.c.o  \n",
            "  inflating: /content/py_dss_interface/examples/GoogleColab/OpenDSSVersions/opendss_linux_dist_jammy/cpp/klusolve/CMakeFiles/klusolve_all.dir/KLU/Source/klu_diagnostics.c.o.d  \n",
            "  inflating: /content/py_dss_interface/examples/GoogleColab/OpenDSSVersions/opendss_linux_dist_jammy/cpp/klusolve/CMakeFiles/klusolve_all.dir/KLU/Source/klu_l_memory.c.o  \n",
            "  inflating: /content/py_dss_interface/examples/GoogleColab/OpenDSSVersions/opendss_linux_dist_jammy/cpp/klusolve/CMakeFiles/klusolve_all.dir/KLU/Source/klu_z_sort.c.o.d  \n",
            "  inflating: /content/py_dss_interface/examples/GoogleColab/OpenDSSVersions/opendss_linux_dist_jammy/cpp/klusolve/CMakeFiles/klusolve_all.dir/KLU/Source/klu_z_sort.c.o  \n",
            "  inflating: /content/py_dss_interface/examples/GoogleColab/OpenDSSVersions/opendss_linux_dist_jammy/cpp/klusolve/CMakeFiles/klusolve_all.dir/KLU/Source/klu_free_symbolic.c.o.d  \n",
            "  inflating: /content/py_dss_interface/examples/GoogleColab/OpenDSSVersions/opendss_linux_dist_jammy/cpp/klusolve/CMakeFiles/klusolve_all.dir/KLU/Source/klu_z_free_numeric.c.o.d  \n",
            "  inflating: /content/py_dss_interface/examples/GoogleColab/OpenDSSVersions/opendss_linux_dist_jammy/cpp/klusolve/CMakeFiles/klusolve_all.dir/KLU/Source/klu_z_dump.c.o  \n",
            "  inflating: /content/py_dss_interface/examples/GoogleColab/OpenDSSVersions/opendss_linux_dist_jammy/cpp/klusolve/CMakeFiles/klusolve_all.dir/KLU/Source/klu_memory.c.o  \n",
            "  inflating: /content/py_dss_interface/examples/GoogleColab/OpenDSSVersions/opendss_linux_dist_jammy/cpp/klusolve/CMakeFiles/klusolve_all.dir/KLU/Source/klu_factor.c.o  \n",
            "  inflating: /content/py_dss_interface/examples/GoogleColab/OpenDSSVersions/opendss_linux_dist_jammy/cpp/klusolve/CMakeFiles/klusolve_all.dir/KLU/Source/klu_z_extract.c.o.d  \n",
            "  inflating: /content/py_dss_interface/examples/GoogleColab/OpenDSSVersions/opendss_linux_dist_jammy/cpp/klusolve/CMakeFiles/klusolve_all.dir/KLU/Source/klu_z_tsolve.c.o.d  \n",
            "  inflating: /content/py_dss_interface/examples/GoogleColab/OpenDSSVersions/opendss_linux_dist_jammy/cpp/klusolve/CMakeFiles/klusolve_all.dir/KLU/Source/klu_refactor.c.o  \n",
            "  inflating: /content/py_dss_interface/examples/GoogleColab/OpenDSSVersions/opendss_linux_dist_jammy/cpp/klusolve/CMakeFiles/klusolve_all.dir/KLU/Source/klu_l_kernel.c.o.d  \n",
            "  inflating: /content/py_dss_interface/examples/GoogleColab/OpenDSSVersions/opendss_linux_dist_jammy/cpp/klusolve/CMakeFiles/klusolve_all.dir/KLU/Source/klu_zl_scale.c.o.d  \n",
            "  inflating: /content/py_dss_interface/examples/GoogleColab/OpenDSSVersions/opendss_linux_dist_jammy/cpp/klusolve/CMakeFiles/klusolve_all.dir/KLU/Source/klu_l_tsolve.c.o.d  \n",
            "  inflating: /content/py_dss_interface/examples/GoogleColab/OpenDSSVersions/opendss_linux_dist_jammy/cpp/klusolve/CMakeFiles/klusolve_all.dir/KLU/Source/klu_refactor.c.o.d  \n",
            "  inflating: /content/py_dss_interface/examples/GoogleColab/OpenDSSVersions/opendss_linux_dist_jammy/cpp/klusolve/CMakeFiles/klusolve_all.dir/KLU/Source/klu_zl_extract.c.o.d  \n",
            "  inflating: /content/py_dss_interface/examples/GoogleColab/OpenDSSVersions/opendss_linux_dist_jammy/cpp/klusolve/CMakeFiles/klusolve_all.dir/KLU/Source/klu_z_refactor.c.o.d  \n",
            "  inflating: /content/py_dss_interface/examples/GoogleColab/OpenDSSVersions/opendss_linux_dist_jammy/cpp/klusolve/CMakeFiles/klusolve_all.dir/KLU/Source/klu_zl_dump.c.o.d  \n",
            "  inflating: /content/py_dss_interface/examples/GoogleColab/OpenDSSVersions/opendss_linux_dist_jammy/cpp/klusolve/CMakeFiles/klusolve_all.dir/KLU/Source/klu_l_free_symbolic.c.o.d  \n",
            "  inflating: /content/py_dss_interface/examples/GoogleColab/OpenDSSVersions/opendss_linux_dist_jammy/cpp/klusolve/CMakeFiles/klusolve_all.dir/KLU/Source/klu_scale.c.o  \n",
            "  inflating: /content/py_dss_interface/examples/GoogleColab/OpenDSSVersions/opendss_linux_dist_jammy/cpp/klusolve/CMakeFiles/klusolve_all.dir/KLU/Source/klu_l_factor.c.o.d  \n",
            "  inflating: /content/py_dss_interface/examples/GoogleColab/OpenDSSVersions/opendss_linux_dist_jammy/cpp/klusolve/CMakeFiles/klusolve_all.dir/KLU/Source/klu_z_diagnostics.c.o.d  \n",
            "  inflating: /content/py_dss_interface/examples/GoogleColab/OpenDSSVersions/opendss_linux_dist_jammy/cpp/klusolve/CMakeFiles/klusolve_all.dir/KLU/Source/klu_l_diagnostics.c.o  \n",
            "  inflating: /content/py_dss_interface/examples/GoogleColab/OpenDSSVersions/opendss_linux_dist_jammy/cpp/klusolve/CMakeFiles/klusolve_all.dir/KLU/Source/klu_l_defaults.c.o.d  \n",
            "  inflating: /content/py_dss_interface/examples/GoogleColab/OpenDSSVersions/opendss_linux_dist_jammy/cpp/klusolve/CMakeFiles/klusolve_all.dir/KLU/Source/klu_l_dump.c.o.d  \n",
            "  inflating: /content/py_dss_interface/examples/GoogleColab/OpenDSSVersions/opendss_linux_dist_jammy/cpp/klusolve/CMakeFiles/klusolve_all.dir/KLU/Source/klu_zl_solve.c.o  \n",
            "  inflating: /content/py_dss_interface/examples/GoogleColab/OpenDSSVersions/opendss_linux_dist_jammy/cpp/klusolve/CMakeFiles/klusolve_all.dir/KLU/Source/klu_l_defaults.c.o  \n",
            "  inflating: /content/py_dss_interface/examples/GoogleColab/OpenDSSVersions/opendss_linux_dist_jammy/cpp/klusolve/CMakeFiles/klusolve_all.dir/KLU/Source/klu_defaults.c.o  \n",
            "  inflating: /content/py_dss_interface/examples/GoogleColab/OpenDSSVersions/opendss_linux_dist_jammy/cpp/klusolve/CMakeFiles/klusolve_all.dir/KLU/Source/klu_l_extract.c.o.d  \n",
            "  inflating: /content/py_dss_interface/examples/GoogleColab/OpenDSSVersions/opendss_linux_dist_jammy/cpp/klusolve/CMakeFiles/klusolve_all.dir/KLU/Source/klu_dump.c.o  \n",
            "  inflating: /content/py_dss_interface/examples/GoogleColab/OpenDSSVersions/opendss_linux_dist_jammy/cpp/klusolve/CMakeFiles/klusolve_all.dir/KLU/Source/klu_l.c.o.d  \n",
            "  inflating: /content/py_dss_interface/examples/GoogleColab/OpenDSSVersions/opendss_linux_dist_jammy/cpp/klusolve/CMakeFiles/klusolve_all.dir/KLU/Source/klu_zl.c.o.d  \n",
            "  inflating: /content/py_dss_interface/examples/GoogleColab/OpenDSSVersions/opendss_linux_dist_jammy/cpp/klusolve/CMakeFiles/klusolve_all.dir/KLU/Source/klu_zl_tsolve.c.o.d  \n",
            "  inflating: /content/py_dss_interface/examples/GoogleColab/OpenDSSVersions/opendss_linux_dist_jammy/cpp/klusolve/CMakeFiles/klusolve_all.dir/KLU/Source/klu_l_tsolve.c.o  \n",
            "  inflating: /content/py_dss_interface/examples/GoogleColab/OpenDSSVersions/opendss_linux_dist_jammy/cpp/klusolve/CMakeFiles/klusolve_all.dir/KLU/Source/klu_zl_extract.c.o  \n",
            "  inflating: /content/py_dss_interface/examples/GoogleColab/OpenDSSVersions/opendss_linux_dist_jammy/cpp/klusolve/CMakeFiles/klusolve_all.dir/KLU/Source/klu_sort.c.o.d  \n",
            "  inflating: /content/py_dss_interface/examples/GoogleColab/OpenDSSVersions/opendss_linux_dist_jammy/cpp/klusolve/CMakeFiles/klusolve_all.dir/KLU/Source/klu_zl_kernel.c.o  \n",
            "  inflating: /content/py_dss_interface/examples/GoogleColab/OpenDSSVersions/opendss_linux_dist_jammy/cpp/klusolve/CMakeFiles/klusolve_all.dir/KLU/Source/klu_z_scale.c.o  \n",
            "  inflating: /content/py_dss_interface/examples/GoogleColab/OpenDSSVersions/opendss_linux_dist_jammy/cpp/klusolve/CMakeFiles/klusolve_all.dir/KLU/Source/klu_zl_tsolve.c.o  \n",
            "  inflating: /content/py_dss_interface/examples/GoogleColab/OpenDSSVersions/opendss_linux_dist_jammy/cpp/klusolve/CMakeFiles/klusolve_all.dir/KLU/Source/klu_z_scale.c.o.d  \n",
            "  inflating: /content/py_dss_interface/examples/GoogleColab/OpenDSSVersions/opendss_linux_dist_jammy/cpp/klusolve/CMakeFiles/klusolve_all.dir/KLU/Source/klu_analyze_given.c.o  \n",
            "  inflating: /content/py_dss_interface/examples/GoogleColab/OpenDSSVersions/opendss_linux_dist_jammy/cpp/klusolve/CMakeFiles/klusolve_all.dir/KLU/Source/klu_extract.c.o  \n",
            "  inflating: /content/py_dss_interface/examples/GoogleColab/OpenDSSVersions/opendss_linux_dist_jammy/cpp/klusolve/CMakeFiles/klusolve_all.dir/KLU/Source/klu_zl_diagnostics.c.o  \n",
            "  inflating: /content/py_dss_interface/examples/GoogleColab/OpenDSSVersions/opendss_linux_dist_jammy/cpp/klusolve/CMakeFiles/klusolve_all.dir/KLU/Source/klu_l_free_symbolic.c.o  \n",
            "  inflating: /content/py_dss_interface/examples/GoogleColab/OpenDSSVersions/opendss_linux_dist_jammy/cpp/klusolve/CMakeFiles/klusolve_all.dir/KLU/Source/klu_zl_factor.c.o.d  \n",
            "  inflating: /content/py_dss_interface/examples/GoogleColab/OpenDSSVersions/opendss_linux_dist_jammy/cpp/klusolve/CMakeFiles/klusolve_all.dir/KLU/Source/klu_z_dump.c.o.d  \n",
            "  inflating: /content/py_dss_interface/examples/GoogleColab/OpenDSSVersions/opendss_linux_dist_jammy/cpp/klusolve/CMakeFiles/klusolve_all.dir/KLU/Source/klu_analyze.c.o  \n",
            "  inflating: /content/py_dss_interface/examples/GoogleColab/OpenDSSVersions/opendss_linux_dist_jammy/cpp/klusolve/CMakeFiles/klusolve_all.dir/KLU/Source/klu_free_symbolic.c.o  \n",
            "  inflating: /content/py_dss_interface/examples/GoogleColab/OpenDSSVersions/opendss_linux_dist_jammy/cpp/klusolve/CMakeFiles/klusolve_all.dir/KLU/Source/klu_analyze_given.c.o.d  \n",
            "  inflating: /content/py_dss_interface/examples/GoogleColab/OpenDSSVersions/opendss_linux_dist_jammy/cpp/klusolve/CMakeFiles/klusolve_all.dir/KLU/Source/klu_z_solve.c.o  \n",
            "  inflating: /content/py_dss_interface/examples/GoogleColab/OpenDSSVersions/opendss_linux_dist_jammy/cpp/klusolve/CMakeFiles/klusolve_all.dir/KLU/Source/klu_l_memory.c.o.d  \n",
            "  inflating: /content/py_dss_interface/examples/GoogleColab/OpenDSSVersions/opendss_linux_dist_jammy/cpp/klusolve/CMakeFiles/klusolve_all.dir/KLU/Source/klu_zl_free_numeric.c.o  \n",
            "  inflating: /content/py_dss_interface/examples/GoogleColab/OpenDSSVersions/opendss_linux_dist_jammy/cpp/klusolve/CMakeFiles/klusolve_all.dir/KLU/Source/klu_memory.c.o.d  \n",
            "  inflating: /content/py_dss_interface/examples/GoogleColab/OpenDSSVersions/opendss_linux_dist_jammy/cpp/klusolve/CMakeFiles/klusolve_all.dir/KLU/Source/klu_l_analyze.c.o.d  \n",
            "  inflating: /content/py_dss_interface/examples/GoogleColab/OpenDSSVersions/opendss_linux_dist_jammy/cpp/klusolve/CMakeFiles/klusolve_all.dir/KLU/Source/klu_l_factor.c.o  \n",
            "  inflating: /content/py_dss_interface/examples/GoogleColab/OpenDSSVersions/opendss_linux_dist_jammy/cpp/klusolve/CMakeFiles/klusolve_all.dir/KLU/Source/klu_l_solve.c.o.d  \n",
            "  inflating: /content/py_dss_interface/examples/GoogleColab/OpenDSSVersions/opendss_linux_dist_jammy/cpp/klusolve/CMakeFiles/klusolve_all.dir/KLU/Source/klu_z_diagnostics.c.o  \n",
            "  inflating: /content/py_dss_interface/examples/GoogleColab/OpenDSSVersions/opendss_linux_dist_jammy/cpp/klusolve/CMakeFiles/klusolve_all.dir/KLU/Source/klu_l_diagnostics.c.o.d  \n",
            "  inflating: /content/py_dss_interface/examples/GoogleColab/OpenDSSVersions/opendss_linux_dist_jammy/cpp/klusolve/CMakeFiles/klusolve_all.dir/KLU/Source/klu_zl.c.o  \n",
            "  inflating: /content/py_dss_interface/examples/GoogleColab/OpenDSSVersions/opendss_linux_dist_jammy/cpp/klusolve/CMakeFiles/klusolve_all.dir/KLU/Source/klu_zl_solve.c.o.d  \n",
            "  inflating: /content/py_dss_interface/examples/GoogleColab/OpenDSSVersions/opendss_linux_dist_jammy/cpp/klusolve/CMakeFiles/klusolve_all.dir/KLU/Source/klu_z.c.o  \n",
            "   creating: /content/py_dss_interface/examples/GoogleColab/OpenDSSVersions/opendss_linux_dist_jammy/cpp/klusolve/CMakeFiles/klusolve_all.dir/CSparse/Source/\n",
            "  inflating: /content/py_dss_interface/examples/GoogleColab/OpenDSSVersions/opendss_linux_dist_jammy/cpp/klusolve/CMakeFiles/klusolve_all.dir/CSparse/Source/cs_dupl.c.o.d  \n",
            "  inflating: /content/py_dss_interface/examples/GoogleColab/OpenDSSVersions/opendss_linux_dist_jammy/cpp/klusolve/CMakeFiles/klusolve_all.dir/CSparse/Source/cs_print.c.o  \n",
            "  inflating: /content/py_dss_interface/examples/GoogleColab/OpenDSSVersions/opendss_linux_dist_jammy/cpp/klusolve/CMakeFiles/klusolve_all.dir/CSparse/Source/cs_amd.c.o  \n",
            "  inflating: /content/py_dss_interface/examples/GoogleColab/OpenDSSVersions/opendss_linux_dist_jammy/cpp/klusolve/CMakeFiles/klusolve_all.dir/CSparse/Source/cs_lu.c.o.d  \n",
            "  inflating: /content/py_dss_interface/examples/GoogleColab/OpenDSSVersions/opendss_linux_dist_jammy/cpp/klusolve/CMakeFiles/klusolve_all.dir/CSparse/Source/cs_cumsum.c.o.d  \n",
            "  inflating: /content/py_dss_interface/examples/GoogleColab/OpenDSSVersions/opendss_linux_dist_jammy/cpp/klusolve/CMakeFiles/klusolve_all.dir/CSparse/Source/cs_scatter.c.o.d  \n",
            "  inflating: /content/py_dss_interface/examples/GoogleColab/OpenDSSVersions/opendss_linux_dist_jammy/cpp/klusolve/CMakeFiles/klusolve_all.dir/CSparse/Source/cs_etree.c.o  \n",
            "  inflating: /content/py_dss_interface/examples/GoogleColab/OpenDSSVersions/opendss_linux_dist_jammy/cpp/klusolve/CMakeFiles/klusolve_all.dir/CSparse/Source/cs_counts.c.o.d  \n",
            "  inflating: /content/py_dss_interface/examples/GoogleColab/OpenDSSVersions/opendss_linux_dist_jammy/cpp/klusolve/CMakeFiles/klusolve_all.dir/CSparse/Source/cs_reach.c.o  \n",
            "  inflating: /content/py_dss_interface/examples/GoogleColab/OpenDSSVersions/opendss_linux_dist_jammy/cpp/klusolve/CMakeFiles/klusolve_all.dir/CSparse/Source/cs_post.c.o.d  \n",
            "  inflating: /content/py_dss_interface/examples/GoogleColab/OpenDSSVersions/opendss_linux_dist_jammy/cpp/klusolve/CMakeFiles/klusolve_all.dir/CSparse/Source/cs_entry.c.o.d  \n",
            "  inflating: /content/py_dss_interface/examples/GoogleColab/OpenDSSVersions/opendss_linux_dist_jammy/cpp/klusolve/CMakeFiles/klusolve_all.dir/CSparse/Source/cs_pvec.c.o  \n",
            "  inflating: /content/py_dss_interface/examples/GoogleColab/OpenDSSVersions/opendss_linux_dist_jammy/cpp/klusolve/CMakeFiles/klusolve_all.dir/CSparse/Source/cs_load.c.o.d  \n",
            "  inflating: /content/py_dss_interface/examples/GoogleColab/OpenDSSVersions/opendss_linux_dist_jammy/cpp/klusolve/CMakeFiles/klusolve_all.dir/CSparse/Source/cs_gaxpy.c.o.d  \n",
            "  inflating: /content/py_dss_interface/examples/GoogleColab/OpenDSSVersions/opendss_linux_dist_jammy/cpp/klusolve/CMakeFiles/klusolve_all.dir/CSparse/Source/cs_multiply.c.o.d  \n",
            "  inflating: /content/py_dss_interface/examples/GoogleColab/OpenDSSVersions/opendss_linux_dist_jammy/cpp/klusolve/CMakeFiles/klusolve_all.dir/CSparse/Source/cs_entry.c.o  \n",
            "  inflating: /content/py_dss_interface/examples/GoogleColab/OpenDSSVersions/opendss_linux_dist_jammy/cpp/klusolve/CMakeFiles/klusolve_all.dir/CSparse/Source/cs_fkeep.c.o.d  \n",
            "  inflating: /content/py_dss_interface/examples/GoogleColab/OpenDSSVersions/opendss_linux_dist_jammy/cpp/klusolve/CMakeFiles/klusolve_all.dir/CSparse/Source/cs_util.c.o.d  \n",
            "  inflating: /content/py_dss_interface/examples/GoogleColab/OpenDSSVersions/opendss_linux_dist_jammy/cpp/klusolve/CMakeFiles/klusolve_all.dir/CSparse/Source/cs_ereach.c.o  \n",
            "  inflating: /content/py_dss_interface/examples/GoogleColab/OpenDSSVersions/opendss_linux_dist_jammy/cpp/klusolve/CMakeFiles/klusolve_all.dir/CSparse/Source/cs_ltsolve.c.o.d  \n",
            "  inflating: /content/py_dss_interface/examples/GoogleColab/OpenDSSVersions/opendss_linux_dist_jammy/cpp/klusolve/CMakeFiles/klusolve_all.dir/CSparse/Source/cs_lusol.c.o  \n",
            "  inflating: /content/py_dss_interface/examples/GoogleColab/OpenDSSVersions/opendss_linux_dist_jammy/cpp/klusolve/CMakeFiles/klusolve_all.dir/CSparse/Source/cs_tdfs.c.o.d  \n",
            "  inflating: /content/py_dss_interface/examples/GoogleColab/OpenDSSVersions/opendss_linux_dist_jammy/cpp/klusolve/CMakeFiles/klusolve_all.dir/CSparse/Source/cs_amd.c.o.d  \n",
            "  inflating: /content/py_dss_interface/examples/GoogleColab/OpenDSSVersions/opendss_linux_dist_jammy/cpp/klusolve/CMakeFiles/klusolve_all.dir/CSparse/Source/cs_ipvec.c.o.d  \n",
            "  inflating: /content/py_dss_interface/examples/GoogleColab/OpenDSSVersions/opendss_linux_dist_jammy/cpp/klusolve/CMakeFiles/klusolve_all.dir/CSparse/Source/cs_happly.c.o.d  \n",
            "  inflating: /content/py_dss_interface/examples/GoogleColab/OpenDSSVersions/opendss_linux_dist_jammy/cpp/klusolve/CMakeFiles/klusolve_all.dir/CSparse/Source/cs_malloc.c.o.d  \n",
            "  inflating: /content/py_dss_interface/examples/GoogleColab/OpenDSSVersions/opendss_linux_dist_jammy/cpp/klusolve/CMakeFiles/klusolve_all.dir/CSparse/Source/cs_counts.c.o  \n",
            "  inflating: /content/py_dss_interface/examples/GoogleColab/OpenDSSVersions/opendss_linux_dist_jammy/cpp/klusolve/CMakeFiles/klusolve_all.dir/CSparse/Source/cs_cholsol.c.o  \n",
            "  inflating: /content/py_dss_interface/examples/GoogleColab/OpenDSSVersions/opendss_linux_dist_jammy/cpp/klusolve/CMakeFiles/klusolve_all.dir/CSparse/Source/cs_pinv.c.o  \n",
            "  inflating: /content/py_dss_interface/examples/GoogleColab/OpenDSSVersions/opendss_linux_dist_jammy/cpp/klusolve/CMakeFiles/klusolve_all.dir/CSparse/Source/cs_qrsol.c.o.d  \n",
            "  inflating: /content/py_dss_interface/examples/GoogleColab/OpenDSSVersions/opendss_linux_dist_jammy/cpp/klusolve/CMakeFiles/klusolve_all.dir/CSparse/Source/cs_util.c.o  \n",
            "  inflating: /content/py_dss_interface/examples/GoogleColab/OpenDSSVersions/opendss_linux_dist_jammy/cpp/klusolve/CMakeFiles/klusolve_all.dir/CSparse/Source/cs_utsolve.c.o.d  \n",
            "  inflating: /content/py_dss_interface/examples/GoogleColab/OpenDSSVersions/opendss_linux_dist_jammy/cpp/klusolve/CMakeFiles/klusolve_all.dir/CSparse/Source/cs_compress.c.o.d  \n",
            "  inflating: /content/py_dss_interface/examples/GoogleColab/OpenDSSVersions/opendss_linux_dist_jammy/cpp/klusolve/CMakeFiles/klusolve_all.dir/CSparse/Source/cs_pvec.c.o.d  \n",
            "  inflating: /content/py_dss_interface/examples/GoogleColab/OpenDSSVersions/opendss_linux_dist_jammy/cpp/klusolve/CMakeFiles/klusolve_all.dir/CSparse/Source/cs_lusol.c.o.d  \n",
            "  inflating: /content/py_dss_interface/examples/GoogleColab/OpenDSSVersions/opendss_linux_dist_jammy/cpp/klusolve/CMakeFiles/klusolve_all.dir/CSparse/Source/cs_post.c.o  \n",
            "  inflating: /content/py_dss_interface/examples/GoogleColab/OpenDSSVersions/opendss_linux_dist_jammy/cpp/klusolve/CMakeFiles/klusolve_all.dir/CSparse/Source/cs_gaxpy.c.o  \n",
            "  inflating: /content/py_dss_interface/examples/GoogleColab/OpenDSSVersions/opendss_linux_dist_jammy/cpp/klusolve/CMakeFiles/klusolve_all.dir/CSparse/Source/cs_updown.c.o.d  \n",
            "  inflating: /content/py_dss_interface/examples/GoogleColab/OpenDSSVersions/opendss_linux_dist_jammy/cpp/klusolve/CMakeFiles/klusolve_all.dir/CSparse/Source/cs_add.c.o  \n",
            "  inflating: /content/py_dss_interface/examples/GoogleColab/OpenDSSVersions/opendss_linux_dist_jammy/cpp/klusolve/CMakeFiles/klusolve_all.dir/CSparse/Source/cs_lsolve.c.o.d  \n",
            "  inflating: /content/py_dss_interface/examples/GoogleColab/OpenDSSVersions/opendss_linux_dist_jammy/cpp/klusolve/CMakeFiles/klusolve_all.dir/CSparse/Source/cs_qrsol.c.o  \n",
            "  inflating: /content/py_dss_interface/examples/GoogleColab/OpenDSSVersions/opendss_linux_dist_jammy/cpp/klusolve/CMakeFiles/klusolve_all.dir/CSparse/Source/cs_cholsol.c.o.d  \n",
            "  inflating: /content/py_dss_interface/examples/GoogleColab/OpenDSSVersions/opendss_linux_dist_jammy/cpp/klusolve/CMakeFiles/klusolve_all.dir/CSparse/Source/cs_permute.c.o  \n",
            "  inflating: /content/py_dss_interface/examples/GoogleColab/OpenDSSVersions/opendss_linux_dist_jammy/cpp/klusolve/CMakeFiles/klusolve_all.dir/CSparse/Source/cs_reach.c.o.d  \n",
            "  inflating: /content/py_dss_interface/examples/GoogleColab/OpenDSSVersions/opendss_linux_dist_jammy/cpp/klusolve/CMakeFiles/klusolve_all.dir/CSparse/Source/cs_norm.c.o  \n",
            "  inflating: /content/py_dss_interface/examples/GoogleColab/OpenDSSVersions/opendss_linux_dist_jammy/cpp/klusolve/CMakeFiles/klusolve_all.dir/CSparse/Source/cs_permute.c.o.d  \n",
            "  inflating: /content/py_dss_interface/examples/GoogleColab/OpenDSSVersions/opendss_linux_dist_jammy/cpp/klusolve/CMakeFiles/klusolve_all.dir/CSparse/Source/cs_scc.c.o.d  \n",
            "  inflating: /content/py_dss_interface/examples/GoogleColab/OpenDSSVersions/opendss_linux_dist_jammy/cpp/klusolve/CMakeFiles/klusolve_all.dir/CSparse/Source/cs_schol.c.o.d  \n",
            "  inflating: /content/py_dss_interface/examples/GoogleColab/OpenDSSVersions/opendss_linux_dist_jammy/cpp/klusolve/CMakeFiles/klusolve_all.dir/CSparse/Source/cs_ereach.c.o.d  \n",
            "  inflating: /content/py_dss_interface/examples/GoogleColab/OpenDSSVersions/opendss_linux_dist_jammy/cpp/klusolve/CMakeFiles/klusolve_all.dir/CSparse/Source/cs_randperm.c.o  \n",
            "  inflating: /content/py_dss_interface/examples/GoogleColab/OpenDSSVersions/opendss_linux_dist_jammy/cpp/klusolve/CMakeFiles/klusolve_all.dir/CSparse/Source/cs_sqr.c.o.d  \n",
            "  inflating: /content/py_dss_interface/examples/GoogleColab/OpenDSSVersions/opendss_linux_dist_jammy/cpp/klusolve/CMakeFiles/klusolve_all.dir/CSparse/Source/cs_tdfs.c.o  \n",
            "  inflating: /content/py_dss_interface/examples/GoogleColab/OpenDSSVersions/opendss_linux_dist_jammy/cpp/klusolve/CMakeFiles/klusolve_all.dir/CSparse/Source/cs_droptol.c.o  \n",
            "  inflating: /content/py_dss_interface/examples/GoogleColab/OpenDSSVersions/opendss_linux_dist_jammy/cpp/klusolve/CMakeFiles/klusolve_all.dir/CSparse/Source/cs_dropzeros.c.o  \n",
            "  inflating: /content/py_dss_interface/examples/GoogleColab/OpenDSSVersions/opendss_linux_dist_jammy/cpp/klusolve/CMakeFiles/klusolve_all.dir/CSparse/Source/cs_print.c.o.d  \n",
            "  inflating: /content/py_dss_interface/examples/GoogleColab/OpenDSSVersions/opendss_linux_dist_jammy/cpp/klusolve/CMakeFiles/klusolve_all.dir/CSparse/Source/cs_multiply.c.o  \n",
            "  inflating: /content/py_dss_interface/examples/GoogleColab/OpenDSSVersions/opendss_linux_dist_jammy/cpp/klusolve/CMakeFiles/klusolve_all.dir/CSparse/Source/cs_usolve.c.o.d  \n",
            "  inflating: /content/py_dss_interface/examples/GoogleColab/OpenDSSVersions/opendss_linux_dist_jammy/cpp/klusolve/CMakeFiles/klusolve_all.dir/CSparse/Source/cs_maxtrans.c.o.d  \n",
            "  inflating: /content/py_dss_interface/examples/GoogleColab/OpenDSSVersions/opendss_linux_dist_jammy/cpp/klusolve/CMakeFiles/klusolve_all.dir/CSparse/Source/cs_scc.c.o  \n",
            "  inflating: /content/py_dss_interface/examples/GoogleColab/OpenDSSVersions/opendss_linux_dist_jammy/cpp/klusolve/CMakeFiles/klusolve_all.dir/CSparse/Source/cs_add.c.o.d  \n",
            "  inflating: /content/py_dss_interface/examples/GoogleColab/OpenDSSVersions/opendss_linux_dist_jammy/cpp/klusolve/CMakeFiles/klusolve_all.dir/CSparse/Source/cs_chol.c.o  \n",
            "  inflating: /content/py_dss_interface/examples/GoogleColab/OpenDSSVersions/opendss_linux_dist_jammy/cpp/klusolve/CMakeFiles/klusolve_all.dir/CSparse/Source/cs_ltsolve.c.o  \n",
            "  inflating: /content/py_dss_interface/examples/GoogleColab/OpenDSSVersions/opendss_linux_dist_jammy/cpp/klusolve/CMakeFiles/klusolve_all.dir/CSparse/Source/cs_dupl.c.o  \n",
            "  inflating: /content/py_dss_interface/examples/GoogleColab/OpenDSSVersions/opendss_linux_dist_jammy/cpp/klusolve/CMakeFiles/klusolve_all.dir/CSparse/Source/cs_lu.c.o  \n",
            "  inflating: /content/py_dss_interface/examples/GoogleColab/OpenDSSVersions/opendss_linux_dist_jammy/cpp/klusolve/CMakeFiles/klusolve_all.dir/CSparse/Source/cs_load.c.o  \n",
            "  inflating: /content/py_dss_interface/examples/GoogleColab/OpenDSSVersions/opendss_linux_dist_jammy/cpp/klusolve/CMakeFiles/klusolve_all.dir/CSparse/Source/cs_chol.c.o.d  \n",
            "  inflating: /content/py_dss_interface/examples/GoogleColab/OpenDSSVersions/opendss_linux_dist_jammy/cpp/klusolve/CMakeFiles/klusolve_all.dir/CSparse/Source/cs_pinv.c.o.d  \n",
            "  inflating: /content/py_dss_interface/examples/GoogleColab/OpenDSSVersions/opendss_linux_dist_jammy/cpp/klusolve/CMakeFiles/klusolve_all.dir/CSparse/Source/cs_randperm.c.o.d  \n",
            "  inflating: /content/py_dss_interface/examples/GoogleColab/OpenDSSVersions/opendss_linux_dist_jammy/cpp/klusolve/CMakeFiles/klusolve_all.dir/CSparse/Source/cs_qr.c.o.d  \n",
            "  inflating: /content/py_dss_interface/examples/GoogleColab/OpenDSSVersions/opendss_linux_dist_jammy/cpp/klusolve/CMakeFiles/klusolve_all.dir/CSparse/Source/cs_scatter.c.o  \n",
            "  inflating: /content/py_dss_interface/examples/GoogleColab/OpenDSSVersions/opendss_linux_dist_jammy/cpp/klusolve/CMakeFiles/klusolve_all.dir/CSparse/Source/cs_updown.c.o  \n",
            "  inflating: /content/py_dss_interface/examples/GoogleColab/OpenDSSVersions/opendss_linux_dist_jammy/cpp/klusolve/CMakeFiles/klusolve_all.dir/CSparse/Source/cs_utsolve.c.o  \n",
            "  inflating: /content/py_dss_interface/examples/GoogleColab/OpenDSSVersions/opendss_linux_dist_jammy/cpp/klusolve/CMakeFiles/klusolve_all.dir/CSparse/Source/cs_dmperm.c.o  \n",
            "  inflating: /content/py_dss_interface/examples/GoogleColab/OpenDSSVersions/opendss_linux_dist_jammy/cpp/klusolve/CMakeFiles/klusolve_all.dir/CSparse/Source/cs_norm.c.o.d  \n",
            "  inflating: /content/py_dss_interface/examples/GoogleColab/OpenDSSVersions/opendss_linux_dist_jammy/cpp/klusolve/CMakeFiles/klusolve_all.dir/CSparse/Source/cs_dropzeros.c.o.d  \n",
            "  inflating: /content/py_dss_interface/examples/GoogleColab/OpenDSSVersions/opendss_linux_dist_jammy/cpp/klusolve/CMakeFiles/klusolve_all.dir/CSparse/Source/cs_spsolve.c.o.d  \n",
            "  inflating: /content/py_dss_interface/examples/GoogleColab/OpenDSSVersions/opendss_linux_dist_jammy/cpp/klusolve/CMakeFiles/klusolve_all.dir/CSparse/Source/cs_sqr.c.o  \n",
            "  inflating: /content/py_dss_interface/examples/GoogleColab/OpenDSSVersions/opendss_linux_dist_jammy/cpp/klusolve/CMakeFiles/klusolve_all.dir/CSparse/Source/cs_symperm.c.o  \n",
            "  inflating: /content/py_dss_interface/examples/GoogleColab/OpenDSSVersions/opendss_linux_dist_jammy/cpp/klusolve/CMakeFiles/klusolve_all.dir/CSparse/Source/cs_lsolve.c.o  \n",
            "  inflating: /content/py_dss_interface/examples/GoogleColab/OpenDSSVersions/opendss_linux_dist_jammy/cpp/klusolve/CMakeFiles/klusolve_all.dir/CSparse/Source/cs_house.c.o  \n",
            "  inflating: /content/py_dss_interface/examples/GoogleColab/OpenDSSVersions/opendss_linux_dist_jammy/cpp/klusolve/CMakeFiles/klusolve_all.dir/CSparse/Source/cs_droptol.c.o.d  \n",
            "  inflating: /content/py_dss_interface/examples/GoogleColab/OpenDSSVersions/opendss_linux_dist_jammy/cpp/klusolve/CMakeFiles/klusolve_all.dir/CSparse/Source/cs_transpose.c.o  \n",
            "  inflating: /content/py_dss_interface/examples/GoogleColab/OpenDSSVersions/opendss_linux_dist_jammy/cpp/klusolve/CMakeFiles/klusolve_all.dir/CSparse/Source/cs_dfs.c.o.d  \n",
            "  inflating: /content/py_dss_interface/examples/GoogleColab/OpenDSSVersions/opendss_linux_dist_jammy/cpp/klusolve/CMakeFiles/klusolve_all.dir/CSparse/Source/cs_spsolve.c.o  \n",
            "  inflating: /content/py_dss_interface/examples/GoogleColab/OpenDSSVersions/opendss_linux_dist_jammy/cpp/klusolve/CMakeFiles/klusolve_all.dir/CSparse/Source/cs_maxtrans.c.o  \n",
            "  inflating: /content/py_dss_interface/examples/GoogleColab/OpenDSSVersions/opendss_linux_dist_jammy/cpp/klusolve/CMakeFiles/klusolve_all.dir/CSparse/Source/cs_fkeep.c.o  \n",
            "  inflating: /content/py_dss_interface/examples/GoogleColab/OpenDSSVersions/opendss_linux_dist_jammy/cpp/klusolve/CMakeFiles/klusolve_all.dir/CSparse/Source/cs_leaf.c.o.d  \n",
            "  inflating: /content/py_dss_interface/examples/GoogleColab/OpenDSSVersions/opendss_linux_dist_jammy/cpp/klusolve/CMakeFiles/klusolve_all.dir/CSparse/Source/cs_qr.c.o  \n",
            "  inflating: /content/py_dss_interface/examples/GoogleColab/OpenDSSVersions/opendss_linux_dist_jammy/cpp/klusolve/CMakeFiles/klusolve_all.dir/CSparse/Source/cs_compress.c.o  \n",
            "  inflating: /content/py_dss_interface/examples/GoogleColab/OpenDSSVersions/opendss_linux_dist_jammy/cpp/klusolve/CMakeFiles/klusolve_all.dir/CSparse/Source/cs_etree.c.o.d  \n",
            "  inflating: /content/py_dss_interface/examples/GoogleColab/OpenDSSVersions/opendss_linux_dist_jammy/cpp/klusolve/CMakeFiles/klusolve_all.dir/CSparse/Source/cs_malloc.c.o  \n",
            "  inflating: /content/py_dss_interface/examples/GoogleColab/OpenDSSVersions/opendss_linux_dist_jammy/cpp/klusolve/CMakeFiles/klusolve_all.dir/CSparse/Source/cs_dmperm.c.o.d  \n",
            "  inflating: /content/py_dss_interface/examples/GoogleColab/OpenDSSVersions/opendss_linux_dist_jammy/cpp/klusolve/CMakeFiles/klusolve_all.dir/CSparse/Source/cs_symperm.c.o.d  \n",
            "  inflating: /content/py_dss_interface/examples/GoogleColab/OpenDSSVersions/opendss_linux_dist_jammy/cpp/klusolve/CMakeFiles/klusolve_all.dir/CSparse/Source/cs_ipvec.c.o  \n",
            "  inflating: /content/py_dss_interface/examples/GoogleColab/OpenDSSVersions/opendss_linux_dist_jammy/cpp/klusolve/CMakeFiles/klusolve_all.dir/CSparse/Source/cs_schol.c.o  \n",
            "  inflating: /content/py_dss_interface/examples/GoogleColab/OpenDSSVersions/opendss_linux_dist_jammy/cpp/klusolve/CMakeFiles/klusolve_all.dir/CSparse/Source/cs_cumsum.c.o  \n",
            "  inflating: /content/py_dss_interface/examples/GoogleColab/OpenDSSVersions/opendss_linux_dist_jammy/cpp/klusolve/CMakeFiles/klusolve_all.dir/CSparse/Source/cs_dfs.c.o  \n",
            "  inflating: /content/py_dss_interface/examples/GoogleColab/OpenDSSVersions/opendss_linux_dist_jammy/cpp/klusolve/CMakeFiles/klusolve_all.dir/CSparse/Source/cs_house.c.o.d  \n",
            "  inflating: /content/py_dss_interface/examples/GoogleColab/OpenDSSVersions/opendss_linux_dist_jammy/cpp/klusolve/CMakeFiles/klusolve_all.dir/CSparse/Source/cs_leaf.c.o  \n",
            "  inflating: /content/py_dss_interface/examples/GoogleColab/OpenDSSVersions/opendss_linux_dist_jammy/cpp/klusolve/CMakeFiles/klusolve_all.dir/CSparse/Source/cs_happly.c.o  \n",
            "  inflating: /content/py_dss_interface/examples/GoogleColab/OpenDSSVersions/opendss_linux_dist_jammy/cpp/klusolve/CMakeFiles/klusolve_all.dir/CSparse/Source/cs_usolve.c.o  \n",
            "  inflating: /content/py_dss_interface/examples/GoogleColab/OpenDSSVersions/opendss_linux_dist_jammy/cpp/klusolve/CMakeFiles/klusolve_all.dir/CSparse/Source/cs_transpose.c.o.d  \n",
            "   creating: /content/py_dss_interface/examples/GoogleColab/OpenDSSVersions/opendss_linux_dist_jammy/cpp/klusolve/CMakeFiles/klusolve_all.dir/BTF/Source/\n",
            "  inflating: /content/py_dss_interface/examples/GoogleColab/OpenDSSVersions/opendss_linux_dist_jammy/cpp/klusolve/CMakeFiles/klusolve_all.dir/BTF/Source/btf_l_strongcomp.c.o  \n",
            "  inflating: /content/py_dss_interface/examples/GoogleColab/OpenDSSVersions/opendss_linux_dist_jammy/cpp/klusolve/CMakeFiles/klusolve_all.dir/BTF/Source/btf_maxtrans.c.o.d  \n",
            "  inflating: /content/py_dss_interface/examples/GoogleColab/OpenDSSVersions/opendss_linux_dist_jammy/cpp/klusolve/CMakeFiles/klusolve_all.dir/BTF/Source/btf_strongcomp.c.o.d  \n",
            "  inflating: /content/py_dss_interface/examples/GoogleColab/OpenDSSVersions/opendss_linux_dist_jammy/cpp/klusolve/CMakeFiles/klusolve_all.dir/BTF/Source/btf_l_order.c.o  \n",
            "  inflating: /content/py_dss_interface/examples/GoogleColab/OpenDSSVersions/opendss_linux_dist_jammy/cpp/klusolve/CMakeFiles/klusolve_all.dir/BTF/Source/btf_strongcomp.c.o  \n",
            "  inflating: /content/py_dss_interface/examples/GoogleColab/OpenDSSVersions/opendss_linux_dist_jammy/cpp/klusolve/CMakeFiles/klusolve_all.dir/BTF/Source/btf_order.c.o.d  \n",
            "  inflating: /content/py_dss_interface/examples/GoogleColab/OpenDSSVersions/opendss_linux_dist_jammy/cpp/klusolve/CMakeFiles/klusolve_all.dir/BTF/Source/btf_l_maxtrans.c.o.d  \n",
            "  inflating: /content/py_dss_interface/examples/GoogleColab/OpenDSSVersions/opendss_linux_dist_jammy/cpp/klusolve/CMakeFiles/klusolve_all.dir/BTF/Source/btf_maxtrans.c.o  \n",
            "  inflating: /content/py_dss_interface/examples/GoogleColab/OpenDSSVersions/opendss_linux_dist_jammy/cpp/klusolve/CMakeFiles/klusolve_all.dir/BTF/Source/btf_l_maxtrans.c.o  \n",
            "  inflating: /content/py_dss_interface/examples/GoogleColab/OpenDSSVersions/opendss_linux_dist_jammy/cpp/klusolve/CMakeFiles/klusolve_all.dir/BTF/Source/btf_l_order.c.o.d  \n",
            "  inflating: /content/py_dss_interface/examples/GoogleColab/OpenDSSVersions/opendss_linux_dist_jammy/cpp/klusolve/CMakeFiles/klusolve_all.dir/BTF/Source/btf_l_strongcomp.c.o.d  \n",
            "  inflating: /content/py_dss_interface/examples/GoogleColab/OpenDSSVersions/opendss_linux_dist_jammy/cpp/klusolve/CMakeFiles/klusolve_all.dir/BTF/Source/btf_order.c.o  \n",
            "   creating: /content/py_dss_interface/examples/GoogleColab/OpenDSSVersions/opendss_linux_dist_jammy/cpp/klusolve/CMakeFiles/klusolve_all.dir/KLUSolve/Source/\n",
            "  inflating: /content/py_dss_interface/examples/GoogleColab/OpenDSSVersions/opendss_linux_dist_jammy/cpp/klusolve/CMakeFiles/klusolve_all.dir/KLUSolve/Source/KLUSystem.cpp.o  \n",
            "  inflating: /content/py_dss_interface/examples/GoogleColab/OpenDSSVersions/opendss_linux_dist_jammy/cpp/klusolve/CMakeFiles/klusolve_all.dir/KLUSolve/Source/KLUSolve.cpp.o  \n",
            "  inflating: /content/py_dss_interface/examples/GoogleColab/OpenDSSVersions/opendss_linux_dist_jammy/cpp/klusolve/CMakeFiles/klusolve_all.dir/KLUSolve/Source/KLUSystem.cpp.o.d  \n",
            "  inflating: /content/py_dss_interface/examples/GoogleColab/OpenDSSVersions/opendss_linux_dist_jammy/cpp/klusolve/CMakeFiles/klusolve_all.dir/KLUSolve/Source/KLUSolve.cpp.o.d  \n",
            "   creating: /content/py_dss_interface/examples/GoogleColab/OpenDSSVersions/opendss_linux_dist_jammy/cpp/klusolve/CMakeFiles/klusolve_all.dir/CZSparse/Source/\n",
            "  inflating: /content/py_dss_interface/examples/GoogleColab/OpenDSSVersions/opendss_linux_dist_jammy/cpp/klusolve/CMakeFiles/klusolve_all.dir/CZSparse/Source/csz_stuff.c.o.d  \n",
            "  inflating: /content/py_dss_interface/examples/GoogleColab/OpenDSSVersions/opendss_linux_dist_jammy/cpp/klusolve/CMakeFiles/klusolve_all.dir/CZSparse/Source/csz_stuff.c.o  \n",
            "   creating: /content/py_dss_interface/examples/GoogleColab/OpenDSSVersions/opendss_linux_dist_jammy/cpp/klusolve/CMakeFiles/klusolve_all.dir/COLAMD/Source/\n",
            "  inflating: /content/py_dss_interface/examples/GoogleColab/OpenDSSVersions/opendss_linux_dist_jammy/cpp/klusolve/CMakeFiles/klusolve_all.dir/COLAMD/Source/colamd_global.c.o  \n",
            "  inflating: /content/py_dss_interface/examples/GoogleColab/OpenDSSVersions/opendss_linux_dist_jammy/cpp/klusolve/CMakeFiles/klusolve_all.dir/COLAMD/Source/colamd_global.c.o.d  \n",
            "  inflating: /content/py_dss_interface/examples/GoogleColab/OpenDSSVersions/opendss_linux_dist_jammy/cpp/klusolve/CMakeFiles/klusolve_all.dir/COLAMD/Source/colamd.c.o.d  \n",
            "  inflating: /content/py_dss_interface/examples/GoogleColab/OpenDSSVersions/opendss_linux_dist_jammy/cpp/klusolve/CMakeFiles/klusolve_all.dir/COLAMD/Source/colamd_l.c.o  \n",
            "  inflating: /content/py_dss_interface/examples/GoogleColab/OpenDSSVersions/opendss_linux_dist_jammy/cpp/klusolve/CMakeFiles/klusolve_all.dir/COLAMD/Source/colamd.c.o  \n",
            "  inflating: /content/py_dss_interface/examples/GoogleColab/OpenDSSVersions/opendss_linux_dist_jammy/cpp/klusolve/CMakeFiles/klusolve_all.dir/COLAMD/Source/colamd_l.c.o.d  \n"
          ]
        }
      ]
    },
    {
      "cell_type": "markdown",
      "source": [
        "Importing `py_dss_interface` and showing the installed version. Bear in mind that since we cloned the repository, the code might be slightly different than the one available on [PyPI](https://pypi.org/project/py-dss-interface/). Running the unit tests (as shown in the previous cell) is a good way to ensure the tool is working correctly. If a test fails, please contact Paulo Radatz."
      ],
      "metadata": {
        "id": "I4oRwE9Mpbjv"
      }
    },
    {
      "cell_type": "code",
      "source": [
        "import py_dss_interface\n",
        "py_dss_interface.__version__"
      ],
      "metadata": {
        "colab": {
          "base_uri": "https://localhost:8080/",
          "height": 35
        },
        "id": "nosV7xAFilWK",
        "outputId": "c6c5df6b-6807-4acc-d660-4f9b2c1ee07c"
      },
      "execution_count": 2,
      "outputs": [
        {
          "output_type": "execute_result",
          "data": {
            "text/plain": [
              "'2.1.2'"
            ],
            "application/vnd.google.colaboratory.intrinsic+json": {
              "type": "string"
            }
          },
          "metadata": {},
          "execution_count": 2
        }
      ]
    },
    {
      "cell_type": "markdown",
      "source": [
        "I provide a few feeders in `py_dss_interface/examples/feeders/`. If you want to use other feeders, you need to check out ways to provide those files in your Google Colab session (e.g., by uploading them or mounting your Google Drive).\n",
        "\n",
        "In this example, we will use the IEEE 13 bus test feeder."
      ],
      "metadata": {
        "id": "EvErhn2ipp1V"
      }
    },
    {
      "cell_type": "code",
      "source": [
        "dss_file = \"/content/py_dss_interface/examples/feeders/13Bus/IEEE13Nodeckt.dss\"\n",
        "dss_file"
      ],
      "metadata": {
        "colab": {
          "base_uri": "https://localhost:8080/",
          "height": 35
        },
        "id": "pS6LlfVvil6O",
        "outputId": "1e4de0e0-35f3-4212-a9ed-2560f4bc73c2"
      },
      "execution_count": 3,
      "outputs": [
        {
          "output_type": "execute_result",
          "data": {
            "text/plain": [
              "'/content/py_dss_interface/examples/feeders/13Bus/IEEE13Nodeckt.dss'"
            ],
            "application/vnd.google.colaboratory.intrinsic+json": {
              "type": "string"
            }
          },
          "metadata": {},
          "execution_count": 3
        }
      ]
    },
    {
      "cell_type": "markdown",
      "source": [
        "Running the code below produces this error: `Redirect File: \"/content/py_dss_interface/examples/feeders/13Bus/IEEELineCodes.dss\" Not Found.`. The issue is that the redirect command inside `IEEE13Nodeckt.dss` is `redirect IEEELineCodes.dss` but the actual file is named IEEELineCodes.DSS. In Linux, we must ensure that filenames in redirect commands exactly match the actual filenames, including case-sensitive extensions.\n",
        "\n"
      ],
      "metadata": {
        "id": "tKf9NKWqlE7d"
      }
    },
    {
      "cell_type": "code",
      "source": [
        "dll_folder_param = \"/content/py_dss_interface/examples/GoogleColab/OpenDSSVersions/opendss_linux_dist_jammy/cpp\"\n",
        "dll_by_user = \"libOpenDSSC.so\"\n",
        "\n",
        "dss = py_dss_interface.DSS(dll_folder_param, dll_by_user)\n",
        "dss.text(\"clear\")\n",
        "dss.text(f'compile \"{dss_file}\"')"
      ],
      "metadata": {
        "colab": {
          "base_uri": "https://localhost:8080/",
          "height": 35
        },
        "id": "_zZyS3mCkZA8",
        "outputId": "250afeee-aed3-433a-e642-99ed4ecac563"
      },
      "execution_count": 4,
      "outputs": [
        {
          "output_type": "execute_result",
          "data": {
            "text/plain": [
              "'Redirect File: \"/content/py_dss_interface/examples/feeders/13Bus/IEEELineCodes.dss\" Not Found.'"
            ],
            "application/vnd.google.colaboratory.intrinsic+json": {
              "type": "string"
            }
          },
          "metadata": {},
          "execution_count": 4
        }
      ]
    },
    {
      "cell_type": "markdown",
      "source": [
        "I noticed that when the error happens, it is a good idea to restart the Colab runtime to load the newly installed library."
      ],
      "metadata": {
        "id": "B6HOmKj2ubnq"
      }
    },
    {
      "cell_type": "code",
      "metadata": {
        "id": "06caacdd"
      },
      "source": [
        "import os\n",
        "os.kill(os.getpid(), 9)"
      ],
      "execution_count": null,
      "outputs": []
    },
    {
      "cell_type": "markdown",
      "source": [
        "Let's change the file extension to match with what is inside the IEEE13Nodeckt.dss."
      ],
      "metadata": {
        "id": "bD59YJgXpL9z"
      }
    },
    {
      "cell_type": "code",
      "source": [
        "import os\n",
        "old_file = \"/content/py_dss_interface/examples/feeders/13Bus/IEEELineCodes.DSS\"\n",
        "new_file = \"/content/py_dss_interface/examples/feeders/13Bus/IEEELineCodes.dss\"\n",
        "\n",
        "# Check if the old file exists before renaming\n",
        "if os.path.exists(old_file):\n",
        "    os.rename(old_file, new_file)\n",
        "    print(f\"Renamed '{old_file}' to '{new_file}'\")\n",
        "else:\n",
        "    print(f\"File '{old_file}' not found.\")"
      ],
      "metadata": {
        "colab": {
          "base_uri": "https://localhost:8080/"
        },
        "id": "MRiUEhiUuZb-",
        "outputId": "283e3ccc-adbb-4f30-cd61-5eca659d37aa"
      },
      "execution_count": 4,
      "outputs": [
        {
          "output_type": "stream",
          "name": "stdout",
          "text": [
            "Renamed '/content/py_dss_interface/examples/feeders/13Bus/IEEELineCodes.DSS' to '/content/py_dss_interface/examples/feeders/13Bus/IEEELineCodes.dss'\n"
          ]
        }
      ]
    },
    {
      "cell_type": "markdown",
      "source": [
        "Running again with redirect and file name matching."
      ],
      "metadata": {
        "id": "Kyr330Yapw89"
      }
    },
    {
      "cell_type": "code",
      "source": [
        "import py_dss_interface\n",
        "dss_file = \"/content/py_dss_interface/examples/feeders/13Bus/IEEE13Nodeckt.dss\"\n",
        "dll_folder_param = \"/content/py_dss_interface/examples/GoogleColab/OpenDSSVersions/opendss_linux_dist_jammy/cpp\"\n",
        "dll_by_user = \"libOpenDSSC.so\"\n",
        "\n",
        "dss = py_dss_interface.DSS(dll_folder_param, dll_by_user)\n",
        "dss.text(\"clear\")\n",
        "dss.text(f'compile \"{dss_file}\"')"
      ],
      "metadata": {
        "colab": {
          "base_uri": "https://localhost:8080/",
          "height": 35
        },
        "id": "-9r9Ydm-jqDh",
        "outputId": "efa221ef-1e5b-4ceb-ad21-e9fcfadeb17b"
      },
      "execution_count": 5,
      "outputs": [
        {
          "output_type": "execute_result",
          "data": {
            "text/plain": [
              "''"
            ],
            "application/vnd.google.colaboratory.intrinsic+json": {
              "type": "string"
            }
          },
          "metadata": {},
          "execution_count": 5
        }
      ]
    },
    {
      "cell_type": "code",
      "source": [
        "dss.text(\"solve\")"
      ],
      "metadata": {
        "colab": {
          "base_uri": "https://localhost:8080/",
          "height": 35
        },
        "id": "smllQYSoiqxK",
        "outputId": "99027665-9d41-4ed1-be49-43c52a6c6cb5"
      },
      "execution_count": 6,
      "outputs": [
        {
          "output_type": "execute_result",
          "data": {
            "text/plain": [
              "''"
            ],
            "application/vnd.google.colaboratory.intrinsic+json": {
              "type": "string"
            }
          },
          "metadata": {},
          "execution_count": 6
        }
      ]
    },
    {
      "cell_type": "code",
      "source": [
        "dss.circuit.total_power"
      ],
      "metadata": {
        "colab": {
          "base_uri": "https://localhost:8080/"
        },
        "id": "yp3X67axityB",
        "outputId": "f914134f-643a-460b-c1a5-d0069fa576d0"
      },
      "execution_count": 7,
      "outputs": [
        {
          "output_type": "execute_result",
          "data": {
            "text/plain": [
              "[-3567.0537784190983, -1736.4395103626675]"
            ]
          },
          "metadata": {},
          "execution_count": 7
        }
      ]
    },
    {
      "cell_type": "markdown",
      "source": [
        "This example demonstrates one common problem that occurs when using the OpenDSS Linux version. Linux is case-sensitive, unlike Windows.\n",
        "\n",
        "Feel free to reach out with any questions at paulo.radatz@gmail.com.\n",
        "\n",
        "If you'd like to learn more about OpenDSS, you can find my courses at: https://www.pauloradatz.me/opendss-courses"
      ],
      "metadata": {
        "id": "8-3J7Jgtp9Bk"
      }
    }
  ]
}