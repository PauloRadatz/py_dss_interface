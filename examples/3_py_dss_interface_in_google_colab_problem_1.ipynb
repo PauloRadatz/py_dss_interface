{
  "nbformat": 4,
  "nbformat_minor": 0,
  "metadata": {
    "colab": {
      "provenance": []
    },
    "kernelspec": {
      "name": "python3",
      "display_name": "Python 3"
    },
    "language_info": {
      "name": "python"
    }
  },
  "cells": [
    {
      "cell_type": "markdown",
      "source": [
        "[![Open In Colab](https://colab.research.google.com/assets/colab-badge.svg)](https://colab.research.google.com/github/PauloRadatz/py_dss_interface/blob/master/examples/3_py_dss_interface_in_google_colab_problem_1.ipynb)"
      ],
      "metadata": {
        "id": "6bx4WSvqhtS4"
      }
    },
    {
      "cell_type": "markdown",
      "metadata": {
        "id": "5a517b20"
      },
      "source": [
        "# Using py_dss_interface in Google Colab: Handling Case Sensitivity\n",
        "\n",
        "This example demonstrates how to use the `py_dss_interface` library in Google Colab, specifically addressing a common issue related to case sensitivity when using the OpenDSS Linux version."
      ]
    },
    {
      "cell_type": "code",
      "execution_count": 7,
      "metadata": {
        "colab": {
          "base_uri": "https://localhost:8080/"
        },
        "id": "Hc-hJ0OchPo5",
        "outputId": "e59a6439-8360-4402-e6e4-2ff6b03b86cb"
      },
      "outputs": [
        {
          "output_type": "stream",
          "name": "stdout",
          "text": [
            "Cloning into 'py_dss_interface'...\n",
            "remote: Enumerating objects: 11216, done.\u001b[K\n",
            "remote: Counting objects: 100% (309/309), done.\u001b[K\n",
            "remote: Compressing objects: 100% (125/125), done.\u001b[K\n",
            "remote: Total 11216 (delta 223), reused 232 (delta 179), pack-reused 10907 (from 3)\u001b[K\n",
            "Receiving objects: 100% (11216/11216), 622.76 MiB | 19.56 MiB/s, done.\n",
            "Resolving deltas: 100% (6574/6574), done.\n"
          ]
        }
      ],
      "source": [
        "# Clone the py_dss_interface repository from GitHub.\n",
        "!git clone https://github.com/PauloRadatz/py_dss_interface.git"
      ]
    },
    {
      "cell_type": "code",
      "source": [
        "# Change the current directory to the cloned repository.\n",
        "%cd py_dss_interface\n",
        "# Install the py_dss_interface library using pip.\n",
        "!pip install ."
      ],
      "metadata": {
        "colab": {
          "base_uri": "https://localhost:8080/",
          "height": 412
        },
        "id": "xK2huD_6iYU_",
        "outputId": "b012ab87-5623-4542-d98c-f2898a89b7dd"
      },
      "execution_count": 8,
      "outputs": [
        {
          "output_type": "stream",
          "name": "stdout",
          "text": [
            "/content/py_dss_interface/examples/feeders/13Bus/py_dss_interface\n",
            "Processing /content/py_dss_interface/examples/feeders/13Bus/py_dss_interface\n",
            "  Installing build dependencies ... \u001b[?25l\u001b[?25hdone\n",
            "  Getting requirements to build wheel ... \u001b[?25l\u001b[?25hdone\n",
            "  Preparing metadata (pyproject.toml) ... \u001b[?25l\u001b[?25hdone\n",
            "Building wheels for collected packages: py-dss-interface\n",
            "  Building wheel for py-dss-interface (pyproject.toml) ... \u001b[?25l\u001b[?25hdone\n",
            "  Created wheel for py-dss-interface: filename=py_dss_interface-2.1.2-py3-none-any.whl size=11257033 sha256=82b6e74a5f9672dbba53a9e68158cc9e9e747c75744e0cb68ee75a0f8589e5c3\n",
            "  Stored in directory: /tmp/pip-ephem-wheel-cache-2881vahr/wheels/22/c8/cb/a76457060834b80755a16908b4fa64320776dacd12ab72e384\n",
            "Successfully built py-dss-interface\n",
            "Installing collected packages: py-dss-interface\n",
            "  Attempting uninstall: py-dss-interface\n",
            "    Found existing installation: py-dss-interface 2.1.2\n",
            "    Uninstalling py-dss-interface-2.1.2:\n",
            "      Successfully uninstalled py-dss-interface-2.1.2\n",
            "Successfully installed py-dss-interface-2.1.2\n"
          ]
        },
        {
          "output_type": "display_data",
          "data": {
            "application/vnd.colab-display-data+json": {
              "pip_warning": {
                "packages": [
                  "py_dss_interface"
                ]
              },
              "id": "27ab396d22e947b6832a0b98c072c8d6"
            }
          },
          "metadata": {}
        }
      ]
    },
    {
      "cell_type": "code",
      "source": [
        "# Import the os module to restart the runtime.\n",
        "import os\n",
        "# Restart the Colab runtime to load the newly installed library.\n",
        "os.kill(os.getpid(), 9)"
      ],
      "metadata": {
        "id": "e-vAEE4Cid13"
      },
      "execution_count": null,
      "outputs": []
    },
    {
      "cell_type": "code",
      "source": [
        "!unzip /content/py_dss_interface/examples/GoogleColab/OpenDSSVersions/opendss_linux_dist_jammy.zip -d /content/py_dss_interface/examples/GoogleColab/OpenDSSVersions/opendss_linux_dist_jammy"
      ],
      "metadata": {
        "id": "C3aEkBCDihMo"
      },
      "execution_count": null,
      "outputs": []
    },
    {
      "cell_type": "markdown",
      "source": [
        "Importing `py_dss_interface` and showing the installed version. Bear in mind that since we cloned the repository, the code might be slightly different than the one available on [PyPI](https://pypi.org/project/py-dss-interface/). Running the unit tests (as shown in the previous cell) is a good way to ensure the tool is working correctly. If a test fails, please contact Paulo Radatz."
      ],
      "metadata": {
        "id": "I4oRwE9Mpbjv"
      }
    },
    {
      "cell_type": "code",
      "source": [
        "import py_dss_interface\n",
        "py_dss_interface.__version__"
      ],
      "metadata": {
        "colab": {
          "base_uri": "https://localhost:8080/",
          "height": 35
        },
        "id": "nosV7xAFilWK",
        "outputId": "c056ca7f-899e-4f71-f213-05cf6dd58b08"
      },
      "execution_count": 1,
      "outputs": [
        {
          "output_type": "execute_result",
          "data": {
            "text/plain": [
              "'2.1.2'"
            ],
            "application/vnd.google.colaboratory.intrinsic+json": {
              "type": "string"
            }
          },
          "metadata": {},
          "execution_count": 1
        }
      ]
    },
    {
      "cell_type": "markdown",
      "source": [
        "I provide a few feeders in `py_dss_interface/examples/feeders/`. If you want to use other feeders, you need to check out ways to provide those files in your Google Colab session (e.g., by uploading them or mounting your Google Drive).\n",
        "\n",
        "In this example, we will use the IEEE 13 bus test feeder."
      ],
      "metadata": {
        "id": "EvErhn2ipp1V"
      }
    },
    {
      "cell_type": "code",
      "source": [
        "dss_file = \"/content/py_dss_interface/examples/feeders/13Bus/IEEE13Nodeckt.dss\"\n",
        "dss_file"
      ],
      "metadata": {
        "colab": {
          "base_uri": "https://localhost:8080/",
          "height": 35
        },
        "id": "pS6LlfVvil6O",
        "outputId": "5ac86f79-80e1-4079-9f63-eb4f3be58446"
      },
      "execution_count": 2,
      "outputs": [
        {
          "output_type": "execute_result",
          "data": {
            "text/plain": [
              "'/content/py_dss_interface/examples/feeders/13Bus/IEEE13Nodeckt.dss'"
            ],
            "application/vnd.google.colaboratory.intrinsic+json": {
              "type": "string"
            }
          },
          "metadata": {},
          "execution_count": 2
        }
      ]
    },
    {
      "cell_type": "markdown",
      "source": [
        "Running the code below produces this error: `Redirect File: \"/content/py_dss_interface/examples/feeders/13Bus/IEEELineCodes.dss\" Not Found.`. The issue is that the redirect command inside `IEEE13Nodeckt.dss` is `redirect IEEELineCodes.dss` but the actual file is named IEEELineCodes.DSS. In Linux, we must ensure that filenames in redirect commands exactly match the actual filenames, including case-sensitive extensions.\n",
        "\n"
      ],
      "metadata": {
        "id": "tKf9NKWqlE7d"
      }
    },
    {
      "cell_type": "code",
      "source": [
        "dll_folder_param = \"/content/py_dss_interface/examples/GoogleColab/OpenDSSVersions/opendss_linux_dist_jammy/cpp\"\n",
        "dll_by_user = \"libOpenDSSC.so\"\n",
        "\n",
        "dss = py_dss_interface.DSS(dll_folder_param, dll_by_user)\n",
        "dss.text(\"clear\")\n",
        "dss.text(f'compile \"{dss_file}\"')"
      ],
      "metadata": {
        "colab": {
          "base_uri": "https://localhost:8080/",
          "height": 35
        },
        "id": "_zZyS3mCkZA8",
        "outputId": "8d9b005c-f6d0-47ca-c5db-b8a61d52f815"
      },
      "execution_count": 3,
      "outputs": [
        {
          "output_type": "execute_result",
          "data": {
            "text/plain": [
              "'Redirect File: \"/content/py_dss_interface/examples/feeders/13Bus/IEEELineCodes.dss\" Not Found.'"
            ],
            "application/vnd.google.colaboratory.intrinsic+json": {
              "type": "string"
            }
          },
          "metadata": {},
          "execution_count": 3
        }
      ]
    },
    {
      "cell_type": "markdown",
      "source": [
        "Let's change the file extension to match with what is inside the IEEE13Nodeckt.dss."
      ],
      "metadata": {
        "id": "bD59YJgXpL9z"
      }
    },
    {
      "cell_type": "code",
      "metadata": {
        "id": "06caacdd"
      },
      "source": [
        "import os\n",
        "\n",
        "old_file = \"/content/py_dss_interface/examples/feeders/13Bus/IEEELineCodes.DSS\"\n",
        "new_file = \"/content/py_dss_interface/examples/feeders/13Bus/IEEELineCodes.dss\"\n",
        "\n",
        "# Check if the old file exists before renaming\n",
        "if os.path.exists(old_file):\n",
        "    os.rename(old_file, new_file)\n",
        "    print(f\"Renamed '{old_file}' to '{new_file}'\")\n",
        "else:\n",
        "    print(f\"File '{old_file}' not found.\")"
      ],
      "execution_count": null,
      "outputs": []
    },
    {
      "cell_type": "markdown",
      "source": [
        "Running again with redirect and file name matching."
      ],
      "metadata": {
        "id": "Kyr330Yapw89"
      }
    },
    {
      "cell_type": "code",
      "source": [
        "dll_folder_param = \"/content/py_dss_interface/examples/GoogleColab/OpenDSSVersions/opendss_linux_dist_jammy/cpp\"\n",
        "dll_by_user = \"libOpenDSSC.so\"\n",
        "\n",
        "dss = py_dss_interface.DSS(dll_folder_param, dll_by_user)\n",
        "dss.text(\"clear\")\n",
        "dss.text(f'compile \"{dss_file}\"')"
      ],
      "metadata": {
        "id": "-9r9Ydm-jqDh"
      },
      "execution_count": null,
      "outputs": []
    },
    {
      "cell_type": "code",
      "source": [
        "dss.text(\"solve\")"
      ],
      "metadata": {
        "id": "smllQYSoiqxK"
      },
      "execution_count": null,
      "outputs": []
    },
    {
      "cell_type": "code",
      "source": [
        "dss.circuit.total_power"
      ],
      "metadata": {
        "id": "yp3X67axityB"
      },
      "execution_count": null,
      "outputs": []
    },
    {
      "cell_type": "markdown",
      "source": [
        "This example demonstrates one common problem that occurs when using the OpenDSS Linux version. Linux is case-sensitive, unlike Windows.\n",
        "\n",
        "Feel free to reach out with any questions at paulo.radatz@gmail.com.\n",
        "\n",
        "If you'd like to learn more about OpenDSS, you can find my courses at: https://www.pauloradatz.me/opendss-courses"
      ],
      "metadata": {
        "id": "8-3J7Jgtp9Bk"
      }
    }
  ]
}