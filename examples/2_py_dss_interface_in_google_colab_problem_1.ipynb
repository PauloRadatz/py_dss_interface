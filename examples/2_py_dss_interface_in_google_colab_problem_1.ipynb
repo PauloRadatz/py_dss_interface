{
  "cells": [
    {
      "cell_type": "markdown",
      "metadata": {
        "id": "6bx4WSvqhtS4"
      },
      "source": [
        "[![Open In Colab](https://colab.research.google.com/assets/colab-badge.svg)](https://colab.research.google.com/github/PauloRadatz/py_dss_interface/blob/master/examples/2_py_dss_interface_in_google_colab_problem_1.ipynb)"
      ]
    },
    {
      "cell_type": "markdown",
      "metadata": {
        "id": "5a517b20"
      },
      "source": [
        "# Using py_dss_interface in Google Colab: Handling Case Sensitivity\n",
        "\n",
        "This example demonstrates how to use the `py_dss_interface` library in Google Colab, specifically addressing a common issue related to case sensitivity when using the OpenDSS Linux version."
      ]
    },
    {
      "cell_type": "markdown",
      "source": [
        "I provide a few feeders in `py_dss_interface/examples/feeders/`. If you want to use other feeders, you need to check out ways to provide those files in your Google Colab session (e.g., by uploading them or mounting your Google Drive)."
      ],
      "metadata": {
        "id": "wLuvJcaGl2aV"
      }
    },
    {
      "cell_type": "code",
      "execution_count": 1,
      "metadata": {
        "colab": {
          "base_uri": "https://localhost:8080/"
        },
        "id": "Hc-hJ0OchPo5",
        "outputId": "0eb53b41-b6d8-4a72-fe2c-32f4c21b183a"
      },
      "outputs": [
        {
          "output_type": "stream",
          "name": "stdout",
          "text": [
            "Cloning into 'py_dss_interface'...\n",
            "remote: Enumerating objects: 11268, done.\u001b[K\n",
            "remote: Counting objects: 100% (367/367), done.\u001b[K\n",
            "remote: Compressing objects: 100% (158/158), done.\u001b[K\n",
            "remote: Total 11268 (delta 257), reused 280 (delta 199), pack-reused 10901 (from 3)\u001b[K\n",
            "Receiving objects: 100% (11268/11268), 630.08 MiB | 19.16 MiB/s, done.\n",
            "Resolving deltas: 100% (6602/6602), done.\n"
          ]
        }
      ],
      "source": [
        "# Clone the py_dss_interface repository from GitHub.\n",
        "!git clone https://github.com/PauloRadatz/py_dss_interface.git"
      ]
    },
    {
      "cell_type": "code",
      "execution_count": 2,
      "metadata": {
        "colab": {
          "base_uri": "https://localhost:8080/"
        },
        "id": "xK2huD_6iYU_",
        "outputId": "70f57291-d6a9-47b4-88a8-3319c52a1b83"
      },
      "outputs": [
        {
          "output_type": "stream",
          "name": "stdout",
          "text": [
            "Collecting py_dss_interface\n",
            "  Downloading py_dss_interface-2.2.0-py3-none-any.whl.metadata (8.2 kB)\n",
            "Downloading py_dss_interface-2.2.0-py3-none-any.whl (15.0 MB)\n",
            "\u001b[2K   \u001b[90m━━━━━━━━━━━━━━━━━━━━━━━━━━━━━━━━━━━━━━━━\u001b[0m \u001b[32m15.0/15.0 MB\u001b[0m \u001b[31m93.6 MB/s\u001b[0m eta \u001b[36m0:00:00\u001b[0m\n",
            "\u001b[?25hInstalling collected packages: py_dss_interface\n",
            "Successfully installed py_dss_interface-2.2.0\n"
          ]
        }
      ],
      "source": [
        "# Install the py_dss_interface library using pip.\n",
        "!pip install py_dss_interface"
      ]
    },
    {
      "cell_type": "code",
      "execution_count": null,
      "metadata": {
        "id": "e-vAEE4Cid13"
      },
      "outputs": [],
      "source": [
        "# Import the os module to restart the runtime.\n",
        "import os\n",
        "# Restart the Colab runtime to load the newly installed library.\n",
        "os.kill(os.getpid(), 9)"
      ]
    },
    {
      "cell_type": "markdown",
      "metadata": {
        "id": "I4oRwE9Mpbjv"
      },
      "source": [
        "Importing `py_dss_interface` and showing the installed version."
      ]
    },
    {
      "cell_type": "code",
      "execution_count": 1,
      "metadata": {
        "colab": {
          "base_uri": "https://localhost:8080/",
          "height": 35
        },
        "id": "nosV7xAFilWK",
        "outputId": "213ec0cd-6deb-4883-a052-5e644765cfb9"
      },
      "outputs": [
        {
          "output_type": "execute_result",
          "data": {
            "text/plain": [
              "'2.2.0'"
            ],
            "application/vnd.google.colaboratory.intrinsic+json": {
              "type": "string"
            }
          },
          "metadata": {},
          "execution_count": 1
        }
      ],
      "source": [
        "import py_dss_interface\n",
        "py_dss_interface.__version__"
      ]
    },
    {
      "cell_type": "markdown",
      "metadata": {
        "id": "EvErhn2ipp1V"
      },
      "source": [
        "In this example, we will use the IEEE 13 bus test feeder."
      ]
    },
    {
      "cell_type": "code",
      "execution_count": 2,
      "metadata": {
        "colab": {
          "base_uri": "https://localhost:8080/",
          "height": 35
        },
        "id": "pS6LlfVvil6O",
        "outputId": "96c52d56-f4b8-4b8c-9fc3-e7953d4221ef"
      },
      "outputs": [
        {
          "output_type": "execute_result",
          "data": {
            "text/plain": [
              "'/content/py_dss_interface/examples/feeders/13Bus/IEEE13Nodeckt.dss'"
            ],
            "application/vnd.google.colaboratory.intrinsic+json": {
              "type": "string"
            }
          },
          "metadata": {},
          "execution_count": 2
        }
      ],
      "source": [
        "dss_file = \"/content/py_dss_interface/examples/feeders/13Bus/IEEE13Nodeckt.dss\"\n",
        "dss_file"
      ]
    },
    {
      "cell_type": "markdown",
      "metadata": {
        "id": "tKf9NKWqlE7d"
      },
      "source": [
        "Running the code below produces this error: `Redirect File: \"/content/py_dss_interface/examples/feeders/13Bus/IEEELineCodes.dss\" Not Found.`. The issue is that the redirect command inside `IEEE13Nodeckt.dss` is `redirect IEEELineCodes.dss` but the actual file is named IEEELineCodes.DSS. In Linux, we must ensure that filenames in redirect commands exactly match the actual filenames, including case-sensitive extensions.\n",
        "\n"
      ]
    },
    {
      "cell_type": "code",
      "execution_count": 4,
      "metadata": {
        "colab": {
          "base_uri": "https://localhost:8080/",
          "height": 35
        },
        "id": "_zZyS3mCkZA8",
        "outputId": "78c2628f-430d-4921-c515-d7d14c54543a"
      },
      "outputs": [
        {
          "output_type": "execute_result",
          "data": {
            "text/plain": [
              "'Redirect File: \"/content/py_dss_interface/examples/feeders/13Bus/IEEELineCodes.dss\" Not Found.'"
            ],
            "application/vnd.google.colaboratory.intrinsic+json": {
              "type": "string"
            }
          },
          "metadata": {},
          "execution_count": 4
        }
      ],
      "source": [
        "dss = py_dss_interface.DSS()\n",
        "dss.text(\"clear\")\n",
        "dss.text(f'compile \"{dss_file}\"')"
      ]
    },
    {
      "cell_type": "markdown",
      "metadata": {
        "id": "B6HOmKj2ubnq"
      },
      "source": [
        "I noticed that when the error happens, it is a good idea to restart the Colab runtime to avoid OpenDSS error - complaning that there is the need for a new circuit."
      ]
    },
    {
      "cell_type": "code",
      "execution_count": null,
      "metadata": {
        "id": "06caacdd"
      },
      "outputs": [],
      "source": [
        "import os\n",
        "os.kill(os.getpid(), 9)"
      ]
    },
    {
      "cell_type": "markdown",
      "metadata": {
        "id": "bD59YJgXpL9z"
      },
      "source": [
        "Let's change the file extension to match with what is inside the IEEE13Nodeckt.dss."
      ]
    },
    {
      "cell_type": "code",
      "execution_count": 1,
      "metadata": {
        "colab": {
          "base_uri": "https://localhost:8080/"
        },
        "id": "MRiUEhiUuZb-",
        "outputId": "68dfb367-2f31-49c9-b578-bdb705ebc6ea"
      },
      "outputs": [
        {
          "output_type": "stream",
          "name": "stdout",
          "text": [
            "Renamed '/content/py_dss_interface/examples/feeders/13Bus/IEEELineCodes.DSS' to '/content/py_dss_interface/examples/feeders/13Bus/IEEELineCodes.dss'\n"
          ]
        }
      ],
      "source": [
        "import os\n",
        "old_file = \"/content/py_dss_interface/examples/feeders/13Bus/IEEELineCodes.DSS\"\n",
        "new_file = \"/content/py_dss_interface/examples/feeders/13Bus/IEEELineCodes.dss\"\n",
        "\n",
        "# Check if the old file exists before renaming\n",
        "if os.path.exists(old_file):\n",
        "    os.rename(old_file, new_file)\n",
        "    print(f\"Renamed '{old_file}' to '{new_file}'\")\n",
        "else:\n",
        "    print(f\"File '{old_file}' not found.\")"
      ]
    },
    {
      "cell_type": "markdown",
      "metadata": {
        "id": "Kyr330Yapw89"
      },
      "source": [
        "Running again with redirect and file name matching."
      ]
    },
    {
      "cell_type": "code",
      "execution_count": 2,
      "metadata": {
        "colab": {
          "base_uri": "https://localhost:8080/",
          "height": 35
        },
        "id": "-9r9Ydm-jqDh",
        "outputId": "ef4342ee-6c42-477a-b1bc-e1ebe9cbb777"
      },
      "outputs": [
        {
          "output_type": "execute_result",
          "data": {
            "text/plain": [
              "''"
            ],
            "application/vnd.google.colaboratory.intrinsic+json": {
              "type": "string"
            }
          },
          "metadata": {},
          "execution_count": 2
        }
      ],
      "source": [
        "import py_dss_interface\n",
        "dss_file = \"/content/py_dss_interface/examples/feeders/13Bus/IEEE13Nodeckt.dss\"\n",
        "\n",
        "dss = py_dss_interface.DSS()\n",
        "dss.text(\"clear\")\n",
        "dss.text(f'compile \"{dss_file}\"')"
      ]
    },
    {
      "cell_type": "code",
      "execution_count": 3,
      "metadata": {
        "colab": {
          "base_uri": "https://localhost:8080/",
          "height": 35
        },
        "id": "smllQYSoiqxK",
        "outputId": "955c0cfb-fbeb-4b31-9775-681aafdf1ade"
      },
      "outputs": [
        {
          "output_type": "execute_result",
          "data": {
            "text/plain": [
              "''"
            ],
            "application/vnd.google.colaboratory.intrinsic+json": {
              "type": "string"
            }
          },
          "metadata": {},
          "execution_count": 3
        }
      ],
      "source": [
        "dss.text(\"solve\")"
      ]
    },
    {
      "cell_type": "code",
      "execution_count": 4,
      "metadata": {
        "colab": {
          "base_uri": "https://localhost:8080/"
        },
        "id": "yp3X67axityB",
        "outputId": "23f5ba98-133b-402a-dd2a-a1aaa641921d"
      },
      "outputs": [
        {
          "output_type": "execute_result",
          "data": {
            "text/plain": [
              "[-3567.0537784190983, -1736.4395103626675]"
            ]
          },
          "metadata": {},
          "execution_count": 4
        }
      ],
      "source": [
        "dss.circuit.total_power"
      ]
    },
    {
      "cell_type": "markdown",
      "metadata": {
        "id": "8-3J7Jgtp9Bk"
      },
      "source": [
        "This example demonstrates one common problem that occurs when using the OpenDSS Linux version. Linux is case-sensitive, unlike Windows.\n",
        "\n",
        "Feel free to reach out with any questions at paulo.radatz@gmail.com.\n",
        "\n",
        "If you'd like to learn more about OpenDSS, you can find my courses at: https://www.pauloradatz.me/opendss-courses"
      ]
    }
  ],
  "metadata": {
    "colab": {
      "provenance": []
    },
    "kernelspec": {
      "display_name": "Python 3",
      "name": "python3"
    },
    "language_info": {
      "name": "python"
    }
  },
  "nbformat": 4,
  "nbformat_minor": 0
}